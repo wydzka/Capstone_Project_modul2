{
 "cells": [
  {
   "cell_type": "code",
   "execution_count": 1,
   "metadata": {},
   "outputs": [],
   "source": [
    "import numpy as np \n",
    "import pandas as pd \n",
    "import seaborn as sns \n",
    "import matplotlib.pyplot as plt\n",
    "from datetime import datetime\n",
    "from operator import attrgetter\n",
    "from scipy.stats import iqr"
   ]
  },
  {
   "attachments": {},
   "cell_type": "markdown",
   "metadata": {},
   "source": [
    "# Meningkatkan Sales dengan me(re-Branding) Value Proposition Supermarket Kepada Churn Customers(Berhenti Berlangganan) Dengan Menggunakan Metode BMC(Business Model Canvas)"
   ]
  },
  {
   "attachments": {},
   "cell_type": "markdown",
   "metadata": {},
   "source": [
    "# **Latar Belakang**\n",
    "\n",
    "Sebuah perusahaan yang bergerak di Industri ritel yang menjual barang daily consumers yaitu supermarket, Perusahaan ingin mengetahui evaluasi supermarket selama dua tahun terakhir. kemudian management meminta data analyst untuk memberikan insight dan rekomendasi, apa saja faktor yang harus di improvement untuk membangun customers relationship kepada customers serta meningkatkan sales. "
   ]
  },
  {
   "attachments": {},
   "cell_type": "markdown",
   "metadata": {},
   "source": [
    "# **Rumusan Masalah**\n",
    "Data analyst kemudian me(re-branding) value proposition supermarket dengan mengenarate beberapa faktor seperti People Segmentation, place purchase Overview, Promotion Performance serta RFM analisis yang ditujukan kepada customer churn (berhenti berlangganan). Informasi ini akan membantu data analyst faktor mana saja yang harus di improvement untuk meningkatkan Sales dan customers relationship serta kualitas layanan dari Supermarket.\n",
    "\n",
    "Sebagai seorang data analyst, kita akan mencoba menjawab pertanyaan berikut:\n",
    "\n",
    "- Bagaimana Karakteristik segmentasi people yang yang sangat berpengaruh terhadap sales?\n",
    "- Place Purchases mana yang trafic sales tertinggi?\n",
    "- Apakah promotion yang sudah dilakukan efektif terhadap Sales?\n",
    "- bagaimana kita membangun customers relationship kepada customers churn(berhenti berlangganan)\n"
   ]
  },
  {
   "attachments": {},
   "cell_type": "markdown",
   "metadata": {},
   "source": [
    "# DATA"
   ]
  },
  {
   "attachments": {},
   "cell_type": "markdown",
   "metadata": {},
   "source": [
    "**People**\n",
    "- ID: Identifikasi unik pelanggan\n",
    "- Year_Birth: Tahun kelahiran pelanggan\n",
    "- Education: Tingkat pendidikan pelanggan\n",
    "- Marital_Status: Status perkawinan pelanggan\n",
    "- Income: Pendapatan tahunan rumah tangga pelanggan\n",
    "- Kidhome: Jumlah anak dalam rumah tangga pelanggan\n",
    "- Teenhome: Jumlah remaja dalam rumah tangga pelanggan\n",
    "- Dt_Customer: Tanggal pendaftaran pelanggan dengan perusahaan\n",
    "- Recency: Jumlah hari sejak pembelian terakhir pelanggan\n",
    "- Complain: 1 jika pelanggan mengeluh dalam 2 tahun terakhir, 0 jika tidak\n",
    "<br><br>\n",
    "\n",
    "**Product**\n",
    "- Wines_products: Jumlah uang yang dihabiskan untuk pembelian anggur dalam 2 tahun terakhir\n",
    "- Fruits_Products: Jumlah uang yang dihabiskan untuk pembelian buah-buahan dalam 2 tahun terakhir\n",
    "- Meat_Products: Jumlah uang yang dihabiskan untuk pembelian daging dalam 2 tahun terakhir\n",
    "- Fish_Products: Jumlah uang yang dihabiskan untuk pembelian ikan dalam 2 tahun terakhir\n",
    "- Sweet_Products: Jumlah uang yang dihabiskan untuk pembelian makanan manis dalam 2 tahun terakhir\n",
    "- Gold_Products: Jumlah uang yang dihabiskan untuk pembelian emas dalam 2 tahun terakhir\n",
    "<br><br>\n",
    "\n",
    "**Promotion**\n",
    "- NumDeals_Purchases: Jumlah pembelian yang dilakukan dengan diskon\n",
    "- Campaign_1: 1 jika pelanggan menerima penawaran dalam kampanye pertama, 0 jika tidak\n",
    "- Campaign_2: 1 jika pelanggan menerima penawaran dalam kampanye kedua, 0 jika tidak\n",
    "- Campaign_3: 1 jika pelanggan menerima penawaran dalam kampanye ketiga, 0 jika tidak\n",
    "- Campaign_4: 1 jika pelanggan menerima penawaran dalam kampanye keempat, 0 jika tidak\n",
    "- Campaign_5: 1 jika pelanggan menerima penawaran dalam kampanye kelima, 0 jika tidak\n",
    "- last_campaing: 1 jika pelanggan menerima penawaran dalam kampanye terakhir, 0 jika tidak\n",
    "\n",
    "**Place**\n",
    "- Web_Purchases: Jumlah pembelian yang dilakukan melalui situs web perusahaan\n",
    "- Catalog_Purchases: Jumlah pembelian yang dilakukan menggunakan katalog\n",
    "- Store_Purchases: Jumlah pembelian yang dilakukan langsung di toko-toko\n",
    "- Web_Visits_Month: Jumlah kunjungan ke situs web perusahaan dalam sebulan terakhir"
   ]
  },
  {
   "cell_type": "code",
   "execution_count": 2,
   "metadata": {},
   "outputs": [],
   "source": [
    "df = pd.read_csv('Supermarket_Customers.csv', sep='\\t',\n",
    "                 dtype={'ID':str})\n"
   ]
  },
  {
   "attachments": {},
   "cell_type": "markdown",
   "metadata": {},
   "source": [
    "# Cleansing Data"
   ]
  },
  {
   "attachments": {},
   "cell_type": "markdown",
   "metadata": {},
   "source": [
    "## Menrubah Data ke date.time"
   ]
  },
  {
   "attachments": {},
   "cell_type": "markdown",
   "metadata": {},
   "source": [
    "disini saya melakukan merubah data yang tidak beraturan menjadi bentuk data type datetime sesuai default python."
   ]
  },
  {
   "cell_type": "code",
   "execution_count": 3,
   "metadata": {},
   "outputs": [],
   "source": [
    "df['date_customer'] = df['Dt_Customer'].apply(lambda x: '-'.join(x.split('-')[::-1]))"
   ]
  },
  {
   "cell_type": "code",
   "execution_count": 4,
   "metadata": {},
   "outputs": [],
   "source": [
    "df['date_customer'] = pd.to_datetime(df['date_customer'])"
   ]
  },
  {
   "cell_type": "code",
   "execution_count": 5,
   "metadata": {},
   "outputs": [
    {
     "name": "stdout",
     "output_type": "stream",
     "text": [
      "<class 'pandas.core.frame.DataFrame'>\n",
      "RangeIndex: 2240 entries, 0 to 2239\n",
      "Data columns (total 30 columns):\n",
      " #   Column               Non-Null Count  Dtype         \n",
      "---  ------               --------------  -----         \n",
      " 0   ID                   2240 non-null   object        \n",
      " 1   Year_Birth           2240 non-null   int64         \n",
      " 2   Education            2240 non-null   object        \n",
      " 3   Marital_Status       2240 non-null   object        \n",
      " 4   Income               2216 non-null   float64       \n",
      " 5   Kidhome              2240 non-null   int64         \n",
      " 6   Teenhome             2240 non-null   int64         \n",
      " 7   Dt_Customer          2240 non-null   object        \n",
      " 8   Recency              2240 non-null   int64         \n",
      " 9   MntWines             2240 non-null   int64         \n",
      " 10  MntFruits            2240 non-null   int64         \n",
      " 11  MntMeatProducts      2240 non-null   int64         \n",
      " 12  MntFishProducts      2240 non-null   int64         \n",
      " 13  MntSweetProducts     2240 non-null   int64         \n",
      " 14  MntGoldProds         2240 non-null   int64         \n",
      " 15  NumDealsPurchases    2240 non-null   int64         \n",
      " 16  NumWebPurchases      2240 non-null   int64         \n",
      " 17  NumCatalogPurchases  2240 non-null   int64         \n",
      " 18  NumStorePurchases    2240 non-null   int64         \n",
      " 19  NumWebVisitsMonth    2240 non-null   int64         \n",
      " 20  AcceptedCmp3         2240 non-null   int64         \n",
      " 21  AcceptedCmp4         2240 non-null   int64         \n",
      " 22  AcceptedCmp5         2240 non-null   int64         \n",
      " 23  AcceptedCmp1         2240 non-null   int64         \n",
      " 24  AcceptedCmp2         2240 non-null   int64         \n",
      " 25  Complain             2240 non-null   int64         \n",
      " 26  Z_CostContact        2240 non-null   int64         \n",
      " 27  Z_Revenue            2240 non-null   int64         \n",
      " 28  Response             2240 non-null   int64         \n",
      " 29  date_customer        2240 non-null   datetime64[ns]\n",
      "dtypes: datetime64[ns](1), float64(1), int64(24), object(4)\n",
      "memory usage: 525.1+ KB\n"
     ]
    }
   ],
   "source": [
    "df.info()"
   ]
  },
  {
   "attachments": {},
   "cell_type": "markdown",
   "metadata": {},
   "source": [
    "## Mengelompokan berdasarkan generasi kelahiran dan pendidikan"
   ]
  },
  {
   "attachments": {},
   "cell_type": "markdown",
   "metadata": {},
   "source": [
    "digunakan untuk mempermudah dalam dalam memvisualisasikan dan mengklasifikasikan data untuk kebutuhan EDA"
   ]
  },
  {
   "attachments": {},
   "cell_type": "markdown",
   "metadata": {},
   "source": [
    "### megkasifikasi berdasarkan generasi"
   ]
  },
  {
   "attachments": {},
   "cell_type": "markdown",
   "metadata": {},
   "source": [
    "mengelompokan generasi berdasarkan tahun kelahiran supaya saya memudahkan dalam mengkasifikasi beberapa kelompok berdasarkan kelompok kelahiranya.\n",
    "data kellompok kelahiran saya ambil di website. https://www.brainacademy.id/blog/karakteristik-generasi-boomers-x-y-z-alpha"
   ]
  },
  {
   "cell_type": "code",
   "execution_count": 6,
   "metadata": {},
   "outputs": [
    {
     "data": {
      "text/plain": [
       "array([1957, 1954, 1965, 1984, 1981, 1967, 1971, 1985, 1974, 1950, 1983,\n",
       "       1976, 1959, 1952, 1987, 1946, 1980, 1949, 1982, 1979, 1951, 1969,\n",
       "       1986, 1989, 1963, 1970, 1973, 1943, 1975, 1996, 1968, 1964, 1977,\n",
       "       1978, 1955, 1966, 1988, 1948, 1958, 1972, 1960, 1945, 1991, 1962,\n",
       "       1953, 1961, 1956, 1992, 1900, 1893, 1990, 1947, 1899, 1993, 1994,\n",
       "       1941, 1944, 1995, 1940], dtype=int64)"
      ]
     },
     "execution_count": 6,
     "metadata": {},
     "output_type": "execute_result"
    }
   ],
   "source": [
    "df['Year_Birth'].unique()"
   ]
  },
  {
   "cell_type": "code",
   "execution_count": 7,
   "metadata": {},
   "outputs": [],
   "source": [
    "# df['generasi_usia'] = df['Year_Birth'] == 1997\n",
    "\n",
    "def classify_generasi(tahun_lahir):\n",
    "    gen_a_start = 1946\n",
    "    gen_a_end = 1964\n",
    "    gen_x_start = 1965\n",
    "    gen_x_end = 1976\n",
    "    gen_y_start = 1977\n",
    "    gen_y_end = 1994\n",
    "    gen_z_start = 1995\n",
    "    gen_z_end = 2010\n",
    "\n",
    "    if tahun_lahir >= gen_a_start and tahun_lahir <= gen_a_end:\n",
    "        hasil = 'Boomers'\n",
    "    elif tahun_lahir >= gen_x_start and tahun_lahir <= gen_x_end:\n",
    "        hasil = 'X'\n",
    "    elif tahun_lahir >= gen_y_start and tahun_lahir <= gen_y_end:\n",
    "        hasil = 'Y'\n",
    "    elif tahun_lahir >= gen_z_start and tahun_lahir <= gen_z_end:\n",
    "        hasil = 'Z'\n",
    "    else:\n",
    "        hasil = 'Elderly'\n",
    "    return hasil"
   ]
  },
  {
   "cell_type": "code",
   "execution_count": 8,
   "metadata": {},
   "outputs": [
    {
     "data": {
      "text/plain": [
       "'Elderly'"
      ]
     },
     "execution_count": 8,
     "metadata": {},
     "output_type": "execute_result"
    }
   ],
   "source": [
    "classify_generasi(1893)"
   ]
  },
  {
   "cell_type": "code",
   "execution_count": 9,
   "metadata": {},
   "outputs": [
    {
     "data": {
      "text/html": [
       "<div>\n",
       "<style scoped>\n",
       "    .dataframe tbody tr th:only-of-type {\n",
       "        vertical-align: middle;\n",
       "    }\n",
       "\n",
       "    .dataframe tbody tr th {\n",
       "        vertical-align: top;\n",
       "    }\n",
       "\n",
       "    .dataframe thead th {\n",
       "        text-align: right;\n",
       "    }\n",
       "</style>\n",
       "<table border=\"1\" class=\"dataframe\">\n",
       "  <thead>\n",
       "    <tr style=\"text-align: right;\">\n",
       "      <th></th>\n",
       "      <th>ID</th>\n",
       "      <th>Year_Birth</th>\n",
       "      <th>Education</th>\n",
       "      <th>Marital_Status</th>\n",
       "      <th>Income</th>\n",
       "      <th>Kidhome</th>\n",
       "      <th>Teenhome</th>\n",
       "      <th>Dt_Customer</th>\n",
       "      <th>Recency</th>\n",
       "      <th>MntWines</th>\n",
       "      <th>...</th>\n",
       "      <th>AcceptedCmp4</th>\n",
       "      <th>AcceptedCmp5</th>\n",
       "      <th>AcceptedCmp1</th>\n",
       "      <th>AcceptedCmp2</th>\n",
       "      <th>Complain</th>\n",
       "      <th>Z_CostContact</th>\n",
       "      <th>Z_Revenue</th>\n",
       "      <th>Response</th>\n",
       "      <th>date_customer</th>\n",
       "      <th>generasi</th>\n",
       "    </tr>\n",
       "  </thead>\n",
       "  <tbody>\n",
       "    <tr>\n",
       "      <th>0</th>\n",
       "      <td>5524</td>\n",
       "      <td>1957</td>\n",
       "      <td>Graduation</td>\n",
       "      <td>Single</td>\n",
       "      <td>58138.0</td>\n",
       "      <td>0</td>\n",
       "      <td>0</td>\n",
       "      <td>04-09-2012</td>\n",
       "      <td>58</td>\n",
       "      <td>635</td>\n",
       "      <td>...</td>\n",
       "      <td>0</td>\n",
       "      <td>0</td>\n",
       "      <td>0</td>\n",
       "      <td>0</td>\n",
       "      <td>0</td>\n",
       "      <td>3</td>\n",
       "      <td>11</td>\n",
       "      <td>1</td>\n",
       "      <td>2012-09-04</td>\n",
       "      <td>Boomers</td>\n",
       "    </tr>\n",
       "    <tr>\n",
       "      <th>1</th>\n",
       "      <td>2174</td>\n",
       "      <td>1954</td>\n",
       "      <td>Graduation</td>\n",
       "      <td>Single</td>\n",
       "      <td>46344.0</td>\n",
       "      <td>1</td>\n",
       "      <td>1</td>\n",
       "      <td>08-03-2014</td>\n",
       "      <td>38</td>\n",
       "      <td>11</td>\n",
       "      <td>...</td>\n",
       "      <td>0</td>\n",
       "      <td>0</td>\n",
       "      <td>0</td>\n",
       "      <td>0</td>\n",
       "      <td>0</td>\n",
       "      <td>3</td>\n",
       "      <td>11</td>\n",
       "      <td>0</td>\n",
       "      <td>2014-03-08</td>\n",
       "      <td>Boomers</td>\n",
       "    </tr>\n",
       "    <tr>\n",
       "      <th>2</th>\n",
       "      <td>4141</td>\n",
       "      <td>1965</td>\n",
       "      <td>Graduation</td>\n",
       "      <td>Together</td>\n",
       "      <td>71613.0</td>\n",
       "      <td>0</td>\n",
       "      <td>0</td>\n",
       "      <td>21-08-2013</td>\n",
       "      <td>26</td>\n",
       "      <td>426</td>\n",
       "      <td>...</td>\n",
       "      <td>0</td>\n",
       "      <td>0</td>\n",
       "      <td>0</td>\n",
       "      <td>0</td>\n",
       "      <td>0</td>\n",
       "      <td>3</td>\n",
       "      <td>11</td>\n",
       "      <td>0</td>\n",
       "      <td>2013-08-21</td>\n",
       "      <td>X</td>\n",
       "    </tr>\n",
       "    <tr>\n",
       "      <th>3</th>\n",
       "      <td>6182</td>\n",
       "      <td>1984</td>\n",
       "      <td>Graduation</td>\n",
       "      <td>Together</td>\n",
       "      <td>26646.0</td>\n",
       "      <td>1</td>\n",
       "      <td>0</td>\n",
       "      <td>10-02-2014</td>\n",
       "      <td>26</td>\n",
       "      <td>11</td>\n",
       "      <td>...</td>\n",
       "      <td>0</td>\n",
       "      <td>0</td>\n",
       "      <td>0</td>\n",
       "      <td>0</td>\n",
       "      <td>0</td>\n",
       "      <td>3</td>\n",
       "      <td>11</td>\n",
       "      <td>0</td>\n",
       "      <td>2014-02-10</td>\n",
       "      <td>Y</td>\n",
       "    </tr>\n",
       "    <tr>\n",
       "      <th>4</th>\n",
       "      <td>5324</td>\n",
       "      <td>1981</td>\n",
       "      <td>PhD</td>\n",
       "      <td>Married</td>\n",
       "      <td>58293.0</td>\n",
       "      <td>1</td>\n",
       "      <td>0</td>\n",
       "      <td>19-01-2014</td>\n",
       "      <td>94</td>\n",
       "      <td>173</td>\n",
       "      <td>...</td>\n",
       "      <td>0</td>\n",
       "      <td>0</td>\n",
       "      <td>0</td>\n",
       "      <td>0</td>\n",
       "      <td>0</td>\n",
       "      <td>3</td>\n",
       "      <td>11</td>\n",
       "      <td>0</td>\n",
       "      <td>2014-01-19</td>\n",
       "      <td>Y</td>\n",
       "    </tr>\n",
       "  </tbody>\n",
       "</table>\n",
       "<p>5 rows × 31 columns</p>\n",
       "</div>"
      ],
      "text/plain": [
       "     ID  Year_Birth   Education Marital_Status   Income  Kidhome  Teenhome  \\\n",
       "0  5524        1957  Graduation         Single  58138.0        0         0   \n",
       "1  2174        1954  Graduation         Single  46344.0        1         1   \n",
       "2  4141        1965  Graduation       Together  71613.0        0         0   \n",
       "3  6182        1984  Graduation       Together  26646.0        1         0   \n",
       "4  5324        1981         PhD        Married  58293.0        1         0   \n",
       "\n",
       "  Dt_Customer  Recency  MntWines  ...  AcceptedCmp4  AcceptedCmp5  \\\n",
       "0  04-09-2012       58       635  ...             0             0   \n",
       "1  08-03-2014       38        11  ...             0             0   \n",
       "2  21-08-2013       26       426  ...             0             0   \n",
       "3  10-02-2014       26        11  ...             0             0   \n",
       "4  19-01-2014       94       173  ...             0             0   \n",
       "\n",
       "   AcceptedCmp1  AcceptedCmp2  Complain  Z_CostContact  Z_Revenue  Response  \\\n",
       "0             0             0         0              3         11         1   \n",
       "1             0             0         0              3         11         0   \n",
       "2             0             0         0              3         11         0   \n",
       "3             0             0         0              3         11         0   \n",
       "4             0             0         0              3         11         0   \n",
       "\n",
       "   date_customer  generasi  \n",
       "0     2012-09-04   Boomers  \n",
       "1     2014-03-08   Boomers  \n",
       "2     2013-08-21         X  \n",
       "3     2014-02-10         Y  \n",
       "4     2014-01-19         Y  \n",
       "\n",
       "[5 rows x 31 columns]"
      ]
     },
     "execution_count": 9,
     "metadata": {},
     "output_type": "execute_result"
    }
   ],
   "source": [
    "df['generasi'] = df['Year_Birth'].apply(classify_generasi)\n",
    "df.head()"
   ]
  },
  {
   "cell_type": "code",
   "execution_count": 10,
   "metadata": {},
   "outputs": [
    {
     "data": {
      "text/plain": [
       "False    2213\n",
       "True       27\n",
       "Name: generasi, dtype: int64"
      ]
     },
     "execution_count": 10,
     "metadata": {},
     "output_type": "execute_result"
    }
   ],
   "source": [
    "(df['generasi'] == 'Elderly').value_counts()"
   ]
  },
  {
   "cell_type": "code",
   "execution_count": 11,
   "metadata": {},
   "outputs": [
    {
     "data": {
      "text/plain": [
       "27"
      ]
     },
     "execution_count": 11,
     "metadata": {},
     "output_type": "execute_result"
    }
   ],
   "source": [
    "len(df[df['generasi'] == 'Elderly'])"
   ]
  },
  {
   "attachments": {},
   "cell_type": "markdown",
   "metadata": {},
   "source": [
    "### Clasifikasi penedidikan"
   ]
  },
  {
   "attachments": {},
   "cell_type": "markdown",
   "metadata": {},
   "source": [
    "kemudian saya melakukan klasifikasi pendidikan ke dalam bentuk ordinal ini saya lakukan untuk mempermudah saya mencari korelasinya terhadap sales. "
   ]
  },
  {
   "cell_type": "code",
   "execution_count": 12,
   "metadata": {},
   "outputs": [
    {
     "data": {
      "text/plain": [
       "array(['Graduation', 'PhD', 'Master', 'Basic', '2n Cycle'], dtype=object)"
      ]
     },
     "execution_count": 12,
     "metadata": {},
     "output_type": "execute_result"
    }
   ],
   "source": [
    "df['Education'].unique()"
   ]
  },
  {
   "cell_type": "code",
   "execution_count": 13,
   "metadata": {},
   "outputs": [],
   "source": [
    "def classify_education(pendidikan):\n",
    "    \n",
    "\n",
    "    if pendidikan == 'Basic':\n",
    "        hasil = 1\n",
    "    elif pendidikan == '2n Cycle':\n",
    "        hasil = 2\n",
    "    elif pendidikan == 'Graduation':\n",
    "        hasil = 3\n",
    "    elif pendidikan == 'Master':\n",
    "        hasil = 4\n",
    "    elif pendidikan == 'PhD':\n",
    "        hasil = 5\n",
    "    else:\n",
    "        hasil = 'Unknow'\n",
    "    return hasil"
   ]
  },
  {
   "cell_type": "code",
   "execution_count": 14,
   "metadata": {},
   "outputs": [
    {
     "data": {
      "text/plain": [
       "5"
      ]
     },
     "execution_count": 14,
     "metadata": {},
     "output_type": "execute_result"
    }
   ],
   "source": [
    "classify_education(\"PhD\")"
   ]
  },
  {
   "cell_type": "code",
   "execution_count": 15,
   "metadata": {},
   "outputs": [
    {
     "data": {
      "text/html": [
       "<div>\n",
       "<style scoped>\n",
       "    .dataframe tbody tr th:only-of-type {\n",
       "        vertical-align: middle;\n",
       "    }\n",
       "\n",
       "    .dataframe tbody tr th {\n",
       "        vertical-align: top;\n",
       "    }\n",
       "\n",
       "    .dataframe thead th {\n",
       "        text-align: right;\n",
       "    }\n",
       "</style>\n",
       "<table border=\"1\" class=\"dataframe\">\n",
       "  <thead>\n",
       "    <tr style=\"text-align: right;\">\n",
       "      <th></th>\n",
       "      <th>ID</th>\n",
       "      <th>Year_Birth</th>\n",
       "      <th>Education</th>\n",
       "      <th>Marital_Status</th>\n",
       "      <th>Income</th>\n",
       "      <th>Kidhome</th>\n",
       "      <th>Teenhome</th>\n",
       "      <th>Dt_Customer</th>\n",
       "      <th>Recency</th>\n",
       "      <th>MntWines</th>\n",
       "      <th>...</th>\n",
       "      <th>AcceptedCmp5</th>\n",
       "      <th>AcceptedCmp1</th>\n",
       "      <th>AcceptedCmp2</th>\n",
       "      <th>Complain</th>\n",
       "      <th>Z_CostContact</th>\n",
       "      <th>Z_Revenue</th>\n",
       "      <th>Response</th>\n",
       "      <th>date_customer</th>\n",
       "      <th>generasi</th>\n",
       "      <th>Class_education</th>\n",
       "    </tr>\n",
       "  </thead>\n",
       "  <tbody>\n",
       "    <tr>\n",
       "      <th>0</th>\n",
       "      <td>5524</td>\n",
       "      <td>1957</td>\n",
       "      <td>Graduation</td>\n",
       "      <td>Single</td>\n",
       "      <td>58138.0</td>\n",
       "      <td>0</td>\n",
       "      <td>0</td>\n",
       "      <td>04-09-2012</td>\n",
       "      <td>58</td>\n",
       "      <td>635</td>\n",
       "      <td>...</td>\n",
       "      <td>0</td>\n",
       "      <td>0</td>\n",
       "      <td>0</td>\n",
       "      <td>0</td>\n",
       "      <td>3</td>\n",
       "      <td>11</td>\n",
       "      <td>1</td>\n",
       "      <td>2012-09-04</td>\n",
       "      <td>Boomers</td>\n",
       "      <td>3</td>\n",
       "    </tr>\n",
       "    <tr>\n",
       "      <th>1</th>\n",
       "      <td>2174</td>\n",
       "      <td>1954</td>\n",
       "      <td>Graduation</td>\n",
       "      <td>Single</td>\n",
       "      <td>46344.0</td>\n",
       "      <td>1</td>\n",
       "      <td>1</td>\n",
       "      <td>08-03-2014</td>\n",
       "      <td>38</td>\n",
       "      <td>11</td>\n",
       "      <td>...</td>\n",
       "      <td>0</td>\n",
       "      <td>0</td>\n",
       "      <td>0</td>\n",
       "      <td>0</td>\n",
       "      <td>3</td>\n",
       "      <td>11</td>\n",
       "      <td>0</td>\n",
       "      <td>2014-03-08</td>\n",
       "      <td>Boomers</td>\n",
       "      <td>3</td>\n",
       "    </tr>\n",
       "    <tr>\n",
       "      <th>2</th>\n",
       "      <td>4141</td>\n",
       "      <td>1965</td>\n",
       "      <td>Graduation</td>\n",
       "      <td>Together</td>\n",
       "      <td>71613.0</td>\n",
       "      <td>0</td>\n",
       "      <td>0</td>\n",
       "      <td>21-08-2013</td>\n",
       "      <td>26</td>\n",
       "      <td>426</td>\n",
       "      <td>...</td>\n",
       "      <td>0</td>\n",
       "      <td>0</td>\n",
       "      <td>0</td>\n",
       "      <td>0</td>\n",
       "      <td>3</td>\n",
       "      <td>11</td>\n",
       "      <td>0</td>\n",
       "      <td>2013-08-21</td>\n",
       "      <td>X</td>\n",
       "      <td>3</td>\n",
       "    </tr>\n",
       "    <tr>\n",
       "      <th>3</th>\n",
       "      <td>6182</td>\n",
       "      <td>1984</td>\n",
       "      <td>Graduation</td>\n",
       "      <td>Together</td>\n",
       "      <td>26646.0</td>\n",
       "      <td>1</td>\n",
       "      <td>0</td>\n",
       "      <td>10-02-2014</td>\n",
       "      <td>26</td>\n",
       "      <td>11</td>\n",
       "      <td>...</td>\n",
       "      <td>0</td>\n",
       "      <td>0</td>\n",
       "      <td>0</td>\n",
       "      <td>0</td>\n",
       "      <td>3</td>\n",
       "      <td>11</td>\n",
       "      <td>0</td>\n",
       "      <td>2014-02-10</td>\n",
       "      <td>Y</td>\n",
       "      <td>3</td>\n",
       "    </tr>\n",
       "    <tr>\n",
       "      <th>4</th>\n",
       "      <td>5324</td>\n",
       "      <td>1981</td>\n",
       "      <td>PhD</td>\n",
       "      <td>Married</td>\n",
       "      <td>58293.0</td>\n",
       "      <td>1</td>\n",
       "      <td>0</td>\n",
       "      <td>19-01-2014</td>\n",
       "      <td>94</td>\n",
       "      <td>173</td>\n",
       "      <td>...</td>\n",
       "      <td>0</td>\n",
       "      <td>0</td>\n",
       "      <td>0</td>\n",
       "      <td>0</td>\n",
       "      <td>3</td>\n",
       "      <td>11</td>\n",
       "      <td>0</td>\n",
       "      <td>2014-01-19</td>\n",
       "      <td>Y</td>\n",
       "      <td>5</td>\n",
       "    </tr>\n",
       "  </tbody>\n",
       "</table>\n",
       "<p>5 rows × 32 columns</p>\n",
       "</div>"
      ],
      "text/plain": [
       "     ID  Year_Birth   Education Marital_Status   Income  Kidhome  Teenhome  \\\n",
       "0  5524        1957  Graduation         Single  58138.0        0         0   \n",
       "1  2174        1954  Graduation         Single  46344.0        1         1   \n",
       "2  4141        1965  Graduation       Together  71613.0        0         0   \n",
       "3  6182        1984  Graduation       Together  26646.0        1         0   \n",
       "4  5324        1981         PhD        Married  58293.0        1         0   \n",
       "\n",
       "  Dt_Customer  Recency  MntWines  ...  AcceptedCmp5  AcceptedCmp1  \\\n",
       "0  04-09-2012       58       635  ...             0             0   \n",
       "1  08-03-2014       38        11  ...             0             0   \n",
       "2  21-08-2013       26       426  ...             0             0   \n",
       "3  10-02-2014       26        11  ...             0             0   \n",
       "4  19-01-2014       94       173  ...             0             0   \n",
       "\n",
       "   AcceptedCmp2  Complain  Z_CostContact  Z_Revenue  Response  date_customer  \\\n",
       "0             0         0              3         11         1     2012-09-04   \n",
       "1             0         0              3         11         0     2014-03-08   \n",
       "2             0         0              3         11         0     2013-08-21   \n",
       "3             0         0              3         11         0     2014-02-10   \n",
       "4             0         0              3         11         0     2014-01-19   \n",
       "\n",
       "   generasi  Class_education  \n",
       "0   Boomers                3  \n",
       "1   Boomers                3  \n",
       "2         X                3  \n",
       "3         Y                3  \n",
       "4         Y                5  \n",
       "\n",
       "[5 rows x 32 columns]"
      ]
     },
     "execution_count": 15,
     "metadata": {},
     "output_type": "execute_result"
    }
   ],
   "source": [
    "df['Class_education'] = df['Education'].apply(classify_education)\n",
    "df.head()"
   ]
  },
  {
   "cell_type": "code",
   "execution_count": 16,
   "metadata": {},
   "outputs": [
    {
     "data": {
      "text/plain": [
       "array([3, 5, 4, 1, 2], dtype=int64)"
      ]
     },
     "execution_count": 16,
     "metadata": {},
     "output_type": "execute_result"
    }
   ],
   "source": [
    "df['Class_education'].unique()"
   ]
  },
  {
   "cell_type": "code",
   "execution_count": 17,
   "metadata": {},
   "outputs": [
    {
     "data": {
      "text/plain": [
       "24"
      ]
     },
     "execution_count": 17,
     "metadata": {},
     "output_type": "execute_result"
    }
   ],
   "source": [
    "len(df[df['Income'].isna()])"
   ]
  },
  {
   "attachments": {},
   "cell_type": "markdown",
   "metadata": {},
   "source": [
    "### menyesuaikan Nama pendididkan dengan standart internasional"
   ]
  },
  {
   "attachments": {},
   "cell_type": "markdown",
   "metadata": {},
   "source": [
    "mengelompokan nama pendidikan sesuai standart internasional agar mudah dipahami para audiece "
   ]
  },
  {
   "cell_type": "code",
   "execution_count": 18,
   "metadata": {},
   "outputs": [
    {
     "data": {
      "text/plain": [
       "array(['Graduation', 'PhD', 'Master', 'Basic', '2n Cycle'], dtype=object)"
      ]
     },
     "execution_count": 18,
     "metadata": {},
     "output_type": "execute_result"
    }
   ],
   "source": [
    "df['Education'].unique()"
   ]
  },
  {
   "cell_type": "code",
   "execution_count": 19,
   "metadata": {},
   "outputs": [],
   "source": [
    "# Merubah kata 'Graduation' menjadi 'Bachelor' pada kolom 'Keterangan'\n",
    "df['Education'] = df['Education'].replace({'Graduation':'Bachelor','Basic':'Primary education'})"
   ]
  },
  {
   "cell_type": "code",
   "execution_count": 20,
   "metadata": {},
   "outputs": [
    {
     "data": {
      "text/plain": [
       "array(['Bachelor', 'PhD', 'Master', 'Primary education', '2n Cycle'],\n",
       "      dtype=object)"
      ]
     },
     "execution_count": 20,
     "metadata": {},
     "output_type": "execute_result"
    }
   ],
   "source": [
    "df['Education'].unique()"
   ]
  },
  {
   "attachments": {},
   "cell_type": "markdown",
   "metadata": {},
   "source": [
    "## mengisi nilai gaji secara rata-rata berdasarkan generasi\n"
   ]
  },
  {
   "attachments": {},
   "cell_type": "markdown",
   "metadata": {},
   "source": [
    "- terdapat nilai kosong pada kolom income. disini saya mengisi data gaji customers berdasarkan 2 hal yang menurut saya paling berpengaruh.\n",
    "- kemudian saya mengambil nilai korelasi yang paling tinggi"
   ]
  },
  {
   "cell_type": "code",
   "execution_count": 21,
   "metadata": {},
   "outputs": [
    {
     "data": {
      "image/png": "[encoded data removed]",
      "text/plain": [
       "<Figure size 640x480 with 1 Axes>"
      ]
     },
     "metadata": {},
     "output_type": "display_data"
    }
   ],
   "source": [
    "sns. regplot(data=df, x='Year_Birth', y='Income');"
   ]
  },
  {
   "cell_type": "code",
   "execution_count": 22,
   "metadata": {},
   "outputs": [
    {
     "data": {
      "text/plain": [
       "-0.16179142819632988"
      ]
     },
     "execution_count": 22,
     "metadata": {},
     "output_type": "execute_result"
    }
   ],
   "source": [
    "# korelasi berdasarkan generasi kelahiran\n",
    "df['Year_Birth'].corr(df['Income'])"
   ]
  },
  {
   "cell_type": "code",
   "execution_count": 23,
   "metadata": {},
   "outputs": [
    {
     "data": {
      "image/png": "[encoded data removed]",
      "text/plain": [
       "<Figure size 640x480 with 1 Axes>"
      ]
     },
     "metadata": {},
     "output_type": "display_data"
    }
   ],
   "source": [
    "sns.regplot(data=df, x='Class_education', y='Income');"
   ]
  },
  {
   "cell_type": "code",
   "execution_count": 24,
   "metadata": {},
   "outputs": [
    {
     "data": {
      "text/plain": [
       "0.15301871622204508"
      ]
     },
     "execution_count": 24,
     "metadata": {},
     "output_type": "execute_result"
    }
   ],
   "source": [
    "# korelasi berdasarkan pendidikan\n",
    "df['Class_education'].corr(df['Income'], method='spearman')"
   ]
  },
  {
   "cell_type": "code",
   "execution_count": 25,
   "metadata": {},
   "outputs": [],
   "source": [
    "df['Income'] = df.groupby(['generasi'])['Income'].apply(lambda x: x.fillna(x.mean()))\n",
    "\n",
    "# berdasarkan hasil corelasi analisis saya mengisi msiing value income berdasarkan generasi \n",
    "# karena korelasinya lebih tinggi daripada corelasi tingkat pendididkan, walaupun keduanya lemah"
   ]
  },
  {
   "cell_type": "code",
   "execution_count": 26,
   "metadata": {},
   "outputs": [
    {
     "data": {
      "text/plain": [
       "ID                     0\n",
       "Year_Birth             0\n",
       "Education              0\n",
       "Marital_Status         0\n",
       "Income                 0\n",
       "Kidhome                0\n",
       "Teenhome               0\n",
       "Dt_Customer            0\n",
       "Recency                0\n",
       "MntWines               0\n",
       "MntFruits              0\n",
       "MntMeatProducts        0\n",
       "MntFishProducts        0\n",
       "MntSweetProducts       0\n",
       "MntGoldProds           0\n",
       "NumDealsPurchases      0\n",
       "NumWebPurchases        0\n",
       "NumCatalogPurchases    0\n",
       "NumStorePurchases      0\n",
       "NumWebVisitsMonth      0\n",
       "AcceptedCmp3           0\n",
       "AcceptedCmp4           0\n",
       "AcceptedCmp5           0\n",
       "AcceptedCmp1           0\n",
       "AcceptedCmp2           0\n",
       "Complain               0\n",
       "Z_CostContact          0\n",
       "Z_Revenue              0\n",
       "Response               0\n",
       "date_customer          0\n",
       "generasi               0\n",
       "Class_education        0\n",
       "dtype: int64"
      ]
     },
     "execution_count": 26,
     "metadata": {},
     "output_type": "execute_result"
    }
   ],
   "source": [
    "df.isna().sum()"
   ]
  },
  {
   "attachments": {},
   "cell_type": "markdown",
   "metadata": {},
   "source": [
    "## mengelompokan kelas ekonomi berdasarkan income"
   ]
  },
  {
   "attachments": {},
   "cell_type": "markdown",
   "metadata": {},
   "source": [
    "mengelompokan data income customers untuk memudahkan saya dalam mengkasifikasi customers. dalam melakukan klasifikasi saya menggunakan quantiles statistik.\n",
    "Klasifikasi\n",
    "- mengelompokan kelas ekonomi berdasarkan income dari data base. yaitu dibagi 4 kelas lower, middle, upper dan UltraRich\n",
    "- lower = kuranng dari 25% data\n",
    "- middle = antara 25% - 75%\n",
    "- upper = diatas 75% -100%\n",
    "- UltarRich = diatas 100%(outlieres)"
   ]
  },
  {
   "cell_type": "code",
   "execution_count": 27,
   "metadata": {},
   "outputs": [
    {
     "data": {
      "image/png": "[encoded data removed]",
      "text/plain": [
       "<Figure size 1000x300 with 1 Axes>"
      ]
     },
     "metadata": {},
     "output_type": "display_data"
    }
   ],
   "source": [
    "plt.figure(figsize=(10,3)) # mengatur ukuran figure/canvas\n",
    "sns.boxplot(data=df, x='Income');"
   ]
  },
  {
   "cell_type": "code",
   "execution_count": 28,
   "metadata": {},
   "outputs": [
    {
     "data": {
      "text/plain": [
       "count      2240.00\n",
       "mean      52258.33\n",
       "std       25042.75\n",
       "min        1730.00\n",
       "25%       35538.75\n",
       "50%       51371.00\n",
       "75%       68289.75\n",
       "max      666666.00\n",
       "Name: Income, dtype: float64"
      ]
     },
     "execution_count": 28,
     "metadata": {},
     "output_type": "execute_result"
    }
   ],
   "source": [
    "df['Income'].describe().round(2)"
   ]
  },
  {
   "attachments": {},
   "cell_type": "markdown",
   "metadata": {},
   "source": [
    "ALASAN:\n",
    "- melihat dari data diatas terdapat data outliere yang sedikit, maka saya akan menjadikan data outliere kelas income tersendiri.\n",
    "- jika data outliere diabaikan maka saya bisa dengan mudah membagi 3 kelompok Income lainya.\n"
   ]
  },
  {
   "cell_type": "code",
   "execution_count": 29,
   "metadata": {},
   "outputs": [
    {
     "data": {
      "text/plain": [
       "32751.0"
      ]
     },
     "execution_count": 29,
     "metadata": {},
     "output_type": "execute_result"
    }
   ],
   "source": [
    "# melihat nilai iqr\n",
    "iqr(df['Income'])"
   ]
  },
  {
   "cell_type": "code",
   "execution_count": 30,
   "metadata": {},
   "outputs": [
    {
     "data": {
      "text/plain": [
       "117416.25"
      ]
     },
     "execution_count": 30,
     "metadata": {},
     "output_type": "execute_result"
    }
   ],
   "source": [
    "# melihat nilai batas atas\n",
    "upper = df['Income'].describe()['75%'] + 1.5*iqr(df['Income']) \n",
    "upper"
   ]
  },
  {
   "cell_type": "code",
   "execution_count": 31,
   "metadata": {},
   "outputs": [],
   "source": [
    "df_1 = df.copy()"
   ]
  },
  {
   "cell_type": "code",
   "execution_count": 32,
   "metadata": {},
   "outputs": [
    {
     "data": {
      "text/plain": [
       "Int64Index([164, 617, 655, 687, 1300, 1653, 2132, 2233], dtype='int64')"
      ]
     },
     "execution_count": 32,
     "metadata": {},
     "output_type": "execute_result"
    }
   ],
   "source": [
    "# mencari index outliere \n",
    "index_out = df_1[df_1['Income'] >= upper].index\n",
    "index_out"
   ]
  },
  {
   "cell_type": "code",
   "execution_count": 33,
   "metadata": {},
   "outputs": [],
   "source": [
    "# menghapus index outliere\n",
    "df_income = df_1.drop(index_out)"
   ]
  },
  {
   "cell_type": "code",
   "execution_count": 34,
   "metadata": {},
   "outputs": [
    {
     "data": {
      "text/plain": [
       "count      2232.00\n",
       "mean      51651.35\n",
       "std       20608.12\n",
       "min        1730.00\n",
       "25%       35434.75\n",
       "50%       51277.00\n",
       "75%       68118.00\n",
       "max      113734.00\n",
       "Name: Income, dtype: float64"
      ]
     },
     "execution_count": 34,
     "metadata": {},
     "output_type": "execute_result"
    }
   ],
   "source": [
    "# untuk mengambil nilai kuantile\n",
    "df_income['Income'].describe().round(2)"
   ]
  },
  {
   "cell_type": "code",
   "execution_count": 35,
   "metadata": {},
   "outputs": [
    {
     "data": {
      "image/png": "[encoded data removed]",
      "text/plain": [
       "<Figure size 1000x300 with 1 Axes>"
      ]
     },
     "metadata": {},
     "output_type": "display_data"
    }
   ],
   "source": [
    "\n",
    "plt.figure(figsize=(10,3)) \n",
    "sns.boxplot(data=df_income, x='Income');"
   ]
  },
  {
   "attachments": {},
   "cell_type": "markdown",
   "metadata": {},
   "source": [
    "boxplot diatas menunjukan sudah tidak ada lagi data outliere"
   ]
  },
  {
   "attachments": {},
   "cell_type": "markdown",
   "metadata": {},
   "source": [
    "Klasifikasi\n",
    "- mengelompokan kelas ekonomi berdasarkan income dari data base. yaitu dibagi 3 kelas lower, middle, upper\n",
    "- lower = kuranng dari 25% data\n",
    "- middle = antara 25% - 75%\n",
    "- upper = diatas 75% -100%\n",
    "- UltarRich = diatas 100%(outlieres)"
   ]
  },
  {
   "cell_type": "code",
   "execution_count": 36,
   "metadata": {},
   "outputs": [],
   "source": [
    "# mengklasifikasikan data income\n",
    "def classify_income(pendapatan):\n",
    "    inc_bawah_awal = 0\n",
    "    inc_bawah_akhir = df_income['Income'].describe().loc['25%']\n",
    "    inc_tengah_awal = df_income['Income'].describe().loc['25%']\n",
    "    inc_tengah_akhir = df_income['Income'].describe().loc['75%']\n",
    "    inc_tinggi_awal = df_income['Income'].describe().loc['75%']\n",
    "    inc_tinggi_akhir = df_income['Income'].describe().loc['max']\n",
    "\n",
    "   \n",
    "    if pendapatan >= inc_bawah_awal and pendapatan < inc_bawah_akhir:\n",
    "        hasil = 'Lower'\n",
    "    elif pendapatan >= inc_tengah_awal and pendapatan <= inc_tengah_akhir:\n",
    "        hasil = 'Middle'\n",
    "    elif pendapatan > inc_tinggi_awal and pendapatan <= inc_tinggi_akhir:\n",
    "        hasil = 'Upper'\n",
    "    elif pendapatan > inc_tinggi_akhir:\n",
    "        hasil = 'UltraRich'\n",
    "    else:\n",
    "        hasil = 'None'\n",
    "    return hasil"
   ]
  },
  {
   "cell_type": "code",
   "execution_count": 37,
   "metadata": {},
   "outputs": [
    {
     "data": {
      "text/plain": [
       "'UltraRich'"
      ]
     },
     "execution_count": 37,
     "metadata": {},
     "output_type": "execute_result"
    }
   ],
   "source": [
    "classify_income(113735)"
   ]
  },
  {
   "cell_type": "code",
   "execution_count": 38,
   "metadata": {},
   "outputs": [],
   "source": [
    "# menambahkan kolom baru yang sudah di klasifikasikan\n",
    "df['Class_Income'] = df['Income'].apply(classify_income)"
   ]
  },
  {
   "cell_type": "code",
   "execution_count": 39,
   "metadata": {},
   "outputs": [
    {
     "data": {
      "text/html": [
       "<div>\n",
       "<style scoped>\n",
       "    .dataframe tbody tr th:only-of-type {\n",
       "        vertical-align: middle;\n",
       "    }\n",
       "\n",
       "    .dataframe tbody tr th {\n",
       "        vertical-align: top;\n",
       "    }\n",
       "\n",
       "    .dataframe thead th {\n",
       "        text-align: right;\n",
       "    }\n",
       "</style>\n",
       "<table border=\"1\" class=\"dataframe\">\n",
       "  <thead>\n",
       "    <tr style=\"text-align: right;\">\n",
       "      <th></th>\n",
       "      <th>ID</th>\n",
       "      <th>Year_Birth</th>\n",
       "      <th>Education</th>\n",
       "      <th>Marital_Status</th>\n",
       "      <th>Income</th>\n",
       "      <th>Kidhome</th>\n",
       "      <th>Teenhome</th>\n",
       "      <th>Dt_Customer</th>\n",
       "      <th>Recency</th>\n",
       "      <th>MntWines</th>\n",
       "      <th>...</th>\n",
       "      <th>AcceptedCmp1</th>\n",
       "      <th>AcceptedCmp2</th>\n",
       "      <th>Complain</th>\n",
       "      <th>Z_CostContact</th>\n",
       "      <th>Z_Revenue</th>\n",
       "      <th>Response</th>\n",
       "      <th>date_customer</th>\n",
       "      <th>generasi</th>\n",
       "      <th>Class_education</th>\n",
       "      <th>Class_Income</th>\n",
       "    </tr>\n",
       "  </thead>\n",
       "  <tbody>\n",
       "    <tr>\n",
       "      <th>164</th>\n",
       "      <td>8475</td>\n",
       "      <td>1973</td>\n",
       "      <td>PhD</td>\n",
       "      <td>Married</td>\n",
       "      <td>157243.0</td>\n",
       "      <td>0</td>\n",
       "      <td>1</td>\n",
       "      <td>01-03-2014</td>\n",
       "      <td>98</td>\n",
       "      <td>20</td>\n",
       "      <td>...</td>\n",
       "      <td>0</td>\n",
       "      <td>0</td>\n",
       "      <td>0</td>\n",
       "      <td>3</td>\n",
       "      <td>11</td>\n",
       "      <td>0</td>\n",
       "      <td>2014-03-01</td>\n",
       "      <td>X</td>\n",
       "      <td>5</td>\n",
       "      <td>UltraRich</td>\n",
       "    </tr>\n",
       "    <tr>\n",
       "      <th>617</th>\n",
       "      <td>1503</td>\n",
       "      <td>1976</td>\n",
       "      <td>PhD</td>\n",
       "      <td>Together</td>\n",
       "      <td>162397.0</td>\n",
       "      <td>1</td>\n",
       "      <td>1</td>\n",
       "      <td>03-06-2013</td>\n",
       "      <td>31</td>\n",
       "      <td>85</td>\n",
       "      <td>...</td>\n",
       "      <td>0</td>\n",
       "      <td>0</td>\n",
       "      <td>0</td>\n",
       "      <td>3</td>\n",
       "      <td>11</td>\n",
       "      <td>0</td>\n",
       "      <td>2013-06-03</td>\n",
       "      <td>X</td>\n",
       "      <td>5</td>\n",
       "      <td>UltraRich</td>\n",
       "    </tr>\n",
       "    <tr>\n",
       "      <th>655</th>\n",
       "      <td>5555</td>\n",
       "      <td>1975</td>\n",
       "      <td>Bachelor</td>\n",
       "      <td>Divorced</td>\n",
       "      <td>153924.0</td>\n",
       "      <td>0</td>\n",
       "      <td>0</td>\n",
       "      <td>07-02-2014</td>\n",
       "      <td>81</td>\n",
       "      <td>1</td>\n",
       "      <td>...</td>\n",
       "      <td>0</td>\n",
       "      <td>0</td>\n",
       "      <td>0</td>\n",
       "      <td>3</td>\n",
       "      <td>11</td>\n",
       "      <td>0</td>\n",
       "      <td>2014-02-07</td>\n",
       "      <td>X</td>\n",
       "      <td>3</td>\n",
       "      <td>UltraRich</td>\n",
       "    </tr>\n",
       "    <tr>\n",
       "      <th>687</th>\n",
       "      <td>1501</td>\n",
       "      <td>1982</td>\n",
       "      <td>PhD</td>\n",
       "      <td>Married</td>\n",
       "      <td>160803.0</td>\n",
       "      <td>0</td>\n",
       "      <td>0</td>\n",
       "      <td>04-08-2012</td>\n",
       "      <td>21</td>\n",
       "      <td>55</td>\n",
       "      <td>...</td>\n",
       "      <td>0</td>\n",
       "      <td>0</td>\n",
       "      <td>0</td>\n",
       "      <td>3</td>\n",
       "      <td>11</td>\n",
       "      <td>0</td>\n",
       "      <td>2012-08-04</td>\n",
       "      <td>Y</td>\n",
       "      <td>5</td>\n",
       "      <td>UltraRich</td>\n",
       "    </tr>\n",
       "    <tr>\n",
       "      <th>1300</th>\n",
       "      <td>5336</td>\n",
       "      <td>1971</td>\n",
       "      <td>Master</td>\n",
       "      <td>Together</td>\n",
       "      <td>157733.0</td>\n",
       "      <td>1</td>\n",
       "      <td>0</td>\n",
       "      <td>04-06-2013</td>\n",
       "      <td>37</td>\n",
       "      <td>39</td>\n",
       "      <td>...</td>\n",
       "      <td>0</td>\n",
       "      <td>0</td>\n",
       "      <td>0</td>\n",
       "      <td>3</td>\n",
       "      <td>11</td>\n",
       "      <td>0</td>\n",
       "      <td>2013-06-04</td>\n",
       "      <td>X</td>\n",
       "      <td>4</td>\n",
       "      <td>UltraRich</td>\n",
       "    </tr>\n",
       "    <tr>\n",
       "      <th>1653</th>\n",
       "      <td>4931</td>\n",
       "      <td>1977</td>\n",
       "      <td>Bachelor</td>\n",
       "      <td>Together</td>\n",
       "      <td>157146.0</td>\n",
       "      <td>0</td>\n",
       "      <td>0</td>\n",
       "      <td>29-04-2013</td>\n",
       "      <td>13</td>\n",
       "      <td>1</td>\n",
       "      <td>...</td>\n",
       "      <td>0</td>\n",
       "      <td>0</td>\n",
       "      <td>0</td>\n",
       "      <td>3</td>\n",
       "      <td>11</td>\n",
       "      <td>0</td>\n",
       "      <td>2013-04-29</td>\n",
       "      <td>Y</td>\n",
       "      <td>3</td>\n",
       "      <td>UltraRich</td>\n",
       "    </tr>\n",
       "    <tr>\n",
       "      <th>2132</th>\n",
       "      <td>11181</td>\n",
       "      <td>1949</td>\n",
       "      <td>PhD</td>\n",
       "      <td>Married</td>\n",
       "      <td>156924.0</td>\n",
       "      <td>0</td>\n",
       "      <td>0</td>\n",
       "      <td>29-08-2013</td>\n",
       "      <td>85</td>\n",
       "      <td>2</td>\n",
       "      <td>...</td>\n",
       "      <td>0</td>\n",
       "      <td>0</td>\n",
       "      <td>0</td>\n",
       "      <td>3</td>\n",
       "      <td>11</td>\n",
       "      <td>0</td>\n",
       "      <td>2013-08-29</td>\n",
       "      <td>Boomers</td>\n",
       "      <td>5</td>\n",
       "      <td>UltraRich</td>\n",
       "    </tr>\n",
       "    <tr>\n",
       "      <th>2233</th>\n",
       "      <td>9432</td>\n",
       "      <td>1977</td>\n",
       "      <td>Bachelor</td>\n",
       "      <td>Together</td>\n",
       "      <td>666666.0</td>\n",
       "      <td>1</td>\n",
       "      <td>0</td>\n",
       "      <td>02-06-2013</td>\n",
       "      <td>23</td>\n",
       "      <td>9</td>\n",
       "      <td>...</td>\n",
       "      <td>0</td>\n",
       "      <td>0</td>\n",
       "      <td>0</td>\n",
       "      <td>3</td>\n",
       "      <td>11</td>\n",
       "      <td>0</td>\n",
       "      <td>2013-06-02</td>\n",
       "      <td>Y</td>\n",
       "      <td>3</td>\n",
       "      <td>UltraRich</td>\n",
       "    </tr>\n",
       "  </tbody>\n",
       "</table>\n",
       "<p>8 rows × 33 columns</p>\n",
       "</div>"
      ],
      "text/plain": [
       "         ID  Year_Birth Education Marital_Status    Income  Kidhome  Teenhome  \\\n",
       "164    8475        1973       PhD        Married  157243.0        0         1   \n",
       "617    1503        1976       PhD       Together  162397.0        1         1   \n",
       "655    5555        1975  Bachelor       Divorced  153924.0        0         0   \n",
       "687    1501        1982       PhD        Married  160803.0        0         0   \n",
       "1300   5336        1971    Master       Together  157733.0        1         0   \n",
       "1653   4931        1977  Bachelor       Together  157146.0        0         0   \n",
       "2132  11181        1949       PhD        Married  156924.0        0         0   \n",
       "2233   9432        1977  Bachelor       Together  666666.0        1         0   \n",
       "\n",
       "     Dt_Customer  Recency  MntWines  ...  AcceptedCmp1  AcceptedCmp2  \\\n",
       "164   01-03-2014       98        20  ...             0             0   \n",
       "617   03-06-2013       31        85  ...             0             0   \n",
       "655   07-02-2014       81         1  ...             0             0   \n",
       "687   04-08-2012       21        55  ...             0             0   \n",
       "1300  04-06-2013       37        39  ...             0             0   \n",
       "1653  29-04-2013       13         1  ...             0             0   \n",
       "2132  29-08-2013       85         2  ...             0             0   \n",
       "2233  02-06-2013       23         9  ...             0             0   \n",
       "\n",
       "      Complain  Z_CostContact  Z_Revenue  Response  date_customer  generasi  \\\n",
       "164          0              3         11         0     2014-03-01         X   \n",
       "617          0              3         11         0     2013-06-03         X   \n",
       "655          0              3         11         0     2014-02-07         X   \n",
       "687          0              3         11         0     2012-08-04         Y   \n",
       "1300         0              3         11         0     2013-06-04         X   \n",
       "1653         0              3         11         0     2013-04-29         Y   \n",
       "2132         0              3         11         0     2013-08-29   Boomers   \n",
       "2233         0              3         11         0     2013-06-02         Y   \n",
       "\n",
       "      Class_education  Class_Income  \n",
       "164                 5     UltraRich  \n",
       "617                 5     UltraRich  \n",
       "655                 3     UltraRich  \n",
       "687                 5     UltraRich  \n",
       "1300                4     UltraRich  \n",
       "1653                3     UltraRich  \n",
       "2132                5     UltraRich  \n",
       "2233                3     UltraRich  \n",
       "\n",
       "[8 rows x 33 columns]"
      ]
     },
     "execution_count": 39,
     "metadata": {},
     "output_type": "execute_result"
    }
   ],
   "source": [
    "df[df['Class_Income']=='UltraRich']\n",
    "\n",
    "# terdapat 8 data ouliere yang saya kelompokan menjadi kelas tersendiri "
   ]
  },
  {
   "attachments": {},
   "cell_type": "markdown",
   "metadata": {},
   "source": [
    "## megelompokan data anak"
   ]
  },
  {
   "attachments": {},
   "cell_type": "markdown",
   "metadata": {},
   "source": [
    "disini saya mengkatagorikan kepemilikan anak menjadi beberapa katagori yaitu: No Child, Kids, Kids & Teen dan Teen"
   ]
  },
  {
   "cell_type": "code",
   "execution_count": 40,
   "metadata": {},
   "outputs": [],
   "source": [
    "df_anak = df.copy()"
   ]
  },
  {
   "cell_type": "code",
   "execution_count": 41,
   "metadata": {},
   "outputs": [],
   "source": [
    "# mengklasifikasikan data anak\n",
    "def classify_child(baris):\n",
    "    anak = baris[0]\n",
    "    remaja = baris[1]\n",
    "\n",
    "    if anak == 0 and remaja == 0 :\n",
    "        hasil = 'No Child'\n",
    "    elif anak >= 1 and remaja == 0:\n",
    "        hasil = 'Kids'\n",
    "    elif anak >= 1 and remaja >= 1:\n",
    "        hasil = 'Kids & Teen'\n",
    "    elif anak == 0 and remaja >= 1:\n",
    "        hasil = 'Teen'\n",
    "    else:\n",
    "        hasil = 'None'\n",
    "    return hasil"
   ]
  },
  {
   "cell_type": "code",
   "execution_count": 42,
   "metadata": {},
   "outputs": [
    {
     "data": {
      "text/plain": [
       "Kidhome     0\n",
       "Teenhome    0\n",
       "Name: 0, dtype: object"
      ]
     },
     "execution_count": 42,
     "metadata": {},
     "output_type": "execute_result"
    }
   ],
   "source": [
    "df_anak.loc[0, ['Kidhome',\t'Teenhome']]"
   ]
  },
  {
   "cell_type": "code",
   "execution_count": 43,
   "metadata": {},
   "outputs": [
    {
     "data": {
      "text/plain": [
       "'No Child'"
      ]
     },
     "execution_count": 43,
     "metadata": {},
     "output_type": "execute_result"
    }
   ],
   "source": [
    "classify_child(df_anak.loc[0, ['Kidhome','Teenhome']])"
   ]
  },
  {
   "cell_type": "code",
   "execution_count": 44,
   "metadata": {},
   "outputs": [],
   "source": [
    "# df_anak['Child'] = df_anak['Kidhome'] + ',' + df_anak['Teenhome']"
   ]
  },
  {
   "cell_type": "code",
   "execution_count": 45,
   "metadata": {},
   "outputs": [
    {
     "data": {
      "text/plain": [
       "Kidhome     Teen\n",
       "Teenhome    Teen\n",
       "dtype: object"
      ]
     },
     "execution_count": 45,
     "metadata": {},
     "output_type": "execute_result"
    }
   ],
   "source": [
    "df_anak[['Kidhome','Teenhome']].apply(classify_child)"
   ]
  },
  {
   "cell_type": "code",
   "execution_count": 46,
   "metadata": {},
   "outputs": [],
   "source": [
    "df['child'] = df[['Kidhome','Teenhome']].apply(classify_child, axis=1)"
   ]
  },
  {
   "cell_type": "code",
   "execution_count": 47,
   "metadata": {},
   "outputs": [
    {
     "name": "stdout",
     "output_type": "stream",
     "text": [
      "<class 'pandas.core.frame.DataFrame'>\n",
      "RangeIndex: 2240 entries, 0 to 2239\n",
      "Data columns (total 34 columns):\n",
      " #   Column               Non-Null Count  Dtype         \n",
      "---  ------               --------------  -----         \n",
      " 0   ID                   2240 non-null   object        \n",
      " 1   Year_Birth           2240 non-null   int64         \n",
      " 2   Education            2240 non-null   object        \n",
      " 3   Marital_Status       2240 non-null   object        \n",
      " 4   Income               2240 non-null   float64       \n",
      " 5   Kidhome              2240 non-null   int64         \n",
      " 6   Teenhome             2240 non-null   int64         \n",
      " 7   Dt_Customer          2240 non-null   object        \n",
      " 8   Recency              2240 non-null   int64         \n",
      " 9   MntWines             2240 non-null   int64         \n",
      " 10  MntFruits            2240 non-null   int64         \n",
      " 11  MntMeatProducts      2240 non-null   int64         \n",
      " 12  MntFishProducts      2240 non-null   int64         \n",
      " 13  MntSweetProducts     2240 non-null   int64         \n",
      " 14  MntGoldProds         2240 non-null   int64         \n",
      " 15  NumDealsPurchases    2240 non-null   int64         \n",
      " 16  NumWebPurchases      2240 non-null   int64         \n",
      " 17  NumCatalogPurchases  2240 non-null   int64         \n",
      " 18  NumStorePurchases    2240 non-null   int64         \n",
      " 19  NumWebVisitsMonth    2240 non-null   int64         \n",
      " 20  AcceptedCmp3         2240 non-null   int64         \n",
      " 21  AcceptedCmp4         2240 non-null   int64         \n",
      " 22  AcceptedCmp5         2240 non-null   int64         \n",
      " 23  AcceptedCmp1         2240 non-null   int64         \n",
      " 24  AcceptedCmp2         2240 non-null   int64         \n",
      " 25  Complain             2240 non-null   int64         \n",
      " 26  Z_CostContact        2240 non-null   int64         \n",
      " 27  Z_Revenue            2240 non-null   int64         \n",
      " 28  Response             2240 non-null   int64         \n",
      " 29  date_customer        2240 non-null   datetime64[ns]\n",
      " 30  generasi             2240 non-null   object        \n",
      " 31  Class_education      2240 non-null   int64         \n",
      " 32  Class_Income         2240 non-null   object        \n",
      " 33  child                2240 non-null   object        \n",
      "dtypes: datetime64[ns](1), float64(1), int64(25), object(7)\n",
      "memory usage: 595.1+ KB\n"
     ]
    }
   ],
   "source": [
    "df.info()"
   ]
  },
  {
   "attachments": {},
   "cell_type": "markdown",
   "metadata": {},
   "source": [
    "## menggurutkan kolom dan menghapus kolom yang tidak berkaitan."
   ]
  },
  {
   "cell_type": "code",
   "execution_count": 48,
   "metadata": {},
   "outputs": [],
   "source": [
    "# merubah value yang tidak jelas menjadi value yang dapat dibaca oleh audience\n",
    "\n",
    "df['Marital_Status'] = df['Marital_Status'].replace('Alone', 'Single')\n",
    "df['Marital_Status'] = df['Marital_Status'].replace({'Absurd': 'Unknown', 'YOLO': 'Unknown'})"
   ]
  },
  {
   "cell_type": "code",
   "execution_count": 49,
   "metadata": {},
   "outputs": [
    {
     "data": {
      "text/plain": [
       "array(['Bachelor', 'PhD', 'Master', 'Primary education', '2n Cycle'],\n",
       "      dtype=object)"
      ]
     },
     "execution_count": 49,
     "metadata": {},
     "output_type": "execute_result"
    }
   ],
   "source": [
    "df['Education'].unique()"
   ]
  },
  {
   "cell_type": "code",
   "execution_count": 50,
   "metadata": {},
   "outputs": [
    {
     "data": {
      "text/plain": [
       "34"
      ]
     },
     "execution_count": 50,
     "metadata": {},
     "output_type": "execute_result"
    }
   ],
   "source": [
    "len(df.columns)"
   ]
  },
  {
   "cell_type": "code",
   "execution_count": 51,
   "metadata": {},
   "outputs": [],
   "source": [
    "df_A = df.reindex(columns=['ID','Year_Birth','generasi','Education','Income',\n",
    "                         'Class_Income','child','Marital_Status','date_customer','Recency','MntWines',\n",
    "                         'MntFruits','MntMeatProducts', 'MntFishProducts', 'MntSweetProducts','MntGoldProds', \n",
    "                         'NumWebPurchases','NumCatalogPurchases', 'NumStorePurchases','NumWebVisitsMonth','NumDealsPurchases',\n",
    "                         'AcceptedCmp1','AcceptedCmp2','AcceptedCmp3', 'AcceptedCmp4', 'AcceptedCmp5','Response',\n",
    "                         'Complain','Z_CostContact', 'Z_Revenue','Dt_Customer',\n",
    "                         'Kidhome','Teenhome','Class_education'])\n",
    "\n",
    "# merubag sususnan kolom agar mudah dalam mengambil data untuk di analisis"
   ]
  },
  {
   "cell_type": "code",
   "execution_count": 52,
   "metadata": {},
   "outputs": [
    {
     "data": {
      "text/plain": [
       "34"
      ]
     },
     "execution_count": 52,
     "metadata": {},
     "output_type": "execute_result"
    }
   ],
   "source": [
    "len(df_A.columns)"
   ]
  },
  {
   "cell_type": "code",
   "execution_count": 53,
   "metadata": {},
   "outputs": [],
   "source": [
    "df_A = df_A.rename(columns={'MntWines': 'Wines_Product',\n",
    "                         'MntFruits':'Fruits_Product','MntMeatProducts':'Meat_Product', 'MntFishProducts': 'Fish_Product', 'MntSweetProducts': 'Sweet_Product','MntGoldProds':'Gold_Product', \n",
    "                         'NumDealsPurchases': 'Deals_Purchases', 'NumWebPurchases':'Web_Purchases','NumCatalogPurchases':'Catalog_Purchases', 'NumStorePurchases':'Store_Purchases','NumWebVisitsMonth':'Web_Visits_Month',\n",
    "                         'AcceptedCmp1':'campaign_1','AcceptedCmp2':'campaign_2','AcceptedCmp3':'campaign_3', 'AcceptedCmp4':'campaign_4', 'AcceptedCmp5':'campaign_5','Response':'last_campaign'})\n",
    "\n",
    "# Merubah nama kolom agar mudah dimengerti"
   ]
  },
  {
   "cell_type": "code",
   "execution_count": 54,
   "metadata": {},
   "outputs": [],
   "source": [
    "df_Clean = df_A.drop (columns=['Z_CostContact' , 'Z_Revenue', 'Dt_Customer'])\n",
    "\n",
    "# saya hapus karena nilainya sama semua dari semua ID "
   ]
  },
  {
   "cell_type": "code",
   "execution_count": 55,
   "metadata": {},
   "outputs": [
    {
     "data": {
      "text/plain": [
       "31"
      ]
     },
     "execution_count": 55,
     "metadata": {},
     "output_type": "execute_result"
    }
   ],
   "source": [
    "len(df_Clean.columns)"
   ]
  },
  {
   "attachments": {},
   "cell_type": "markdown",
   "metadata": {},
   "source": [
    "## Data Clean"
   ]
  },
  {
   "cell_type": "code",
   "execution_count": 56,
   "metadata": {},
   "outputs": [
    {
     "data": {
      "text/html": [
       "<div>\n",
       "<style scoped>\n",
       "    .dataframe tbody tr th:only-of-type {\n",
       "        vertical-align: middle;\n",
       "    }\n",
       "\n",
       "    .dataframe tbody tr th {\n",
       "        vertical-align: top;\n",
       "    }\n",
       "\n",
       "    .dataframe thead th {\n",
       "        text-align: right;\n",
       "    }\n",
       "</style>\n",
       "<table border=\"1\" class=\"dataframe\">\n",
       "  <thead>\n",
       "    <tr style=\"text-align: right;\">\n",
       "      <th></th>\n",
       "      <th>ID</th>\n",
       "      <th>Year_Birth</th>\n",
       "      <th>generasi</th>\n",
       "      <th>Education</th>\n",
       "      <th>Income</th>\n",
       "      <th>Class_Income</th>\n",
       "      <th>child</th>\n",
       "      <th>Marital_Status</th>\n",
       "      <th>date_customer</th>\n",
       "      <th>Recency</th>\n",
       "      <th>...</th>\n",
       "      <th>campaign_1</th>\n",
       "      <th>campaign_2</th>\n",
       "      <th>campaign_3</th>\n",
       "      <th>campaign_4</th>\n",
       "      <th>campaign_5</th>\n",
       "      <th>last_campaign</th>\n",
       "      <th>Complain</th>\n",
       "      <th>Kidhome</th>\n",
       "      <th>Teenhome</th>\n",
       "      <th>Class_education</th>\n",
       "    </tr>\n",
       "  </thead>\n",
       "  <tbody>\n",
       "    <tr>\n",
       "      <th>0</th>\n",
       "      <td>5524</td>\n",
       "      <td>1957</td>\n",
       "      <td>Boomers</td>\n",
       "      <td>Bachelor</td>\n",
       "      <td>58138.0</td>\n",
       "      <td>Middle</td>\n",
       "      <td>No Child</td>\n",
       "      <td>Single</td>\n",
       "      <td>2012-09-04</td>\n",
       "      <td>58</td>\n",
       "      <td>...</td>\n",
       "      <td>0</td>\n",
       "      <td>0</td>\n",
       "      <td>0</td>\n",
       "      <td>0</td>\n",
       "      <td>0</td>\n",
       "      <td>1</td>\n",
       "      <td>0</td>\n",
       "      <td>0</td>\n",
       "      <td>0</td>\n",
       "      <td>3</td>\n",
       "    </tr>\n",
       "    <tr>\n",
       "      <th>1</th>\n",
       "      <td>2174</td>\n",
       "      <td>1954</td>\n",
       "      <td>Boomers</td>\n",
       "      <td>Bachelor</td>\n",
       "      <td>46344.0</td>\n",
       "      <td>Middle</td>\n",
       "      <td>Kids &amp; Teen</td>\n",
       "      <td>Single</td>\n",
       "      <td>2014-03-08</td>\n",
       "      <td>38</td>\n",
       "      <td>...</td>\n",
       "      <td>0</td>\n",
       "      <td>0</td>\n",
       "      <td>0</td>\n",
       "      <td>0</td>\n",
       "      <td>0</td>\n",
       "      <td>0</td>\n",
       "      <td>0</td>\n",
       "      <td>1</td>\n",
       "      <td>1</td>\n",
       "      <td>3</td>\n",
       "    </tr>\n",
       "    <tr>\n",
       "      <th>2</th>\n",
       "      <td>4141</td>\n",
       "      <td>1965</td>\n",
       "      <td>X</td>\n",
       "      <td>Bachelor</td>\n",
       "      <td>71613.0</td>\n",
       "      <td>Upper</td>\n",
       "      <td>No Child</td>\n",
       "      <td>Together</td>\n",
       "      <td>2013-08-21</td>\n",
       "      <td>26</td>\n",
       "      <td>...</td>\n",
       "      <td>0</td>\n",
       "      <td>0</td>\n",
       "      <td>0</td>\n",
       "      <td>0</td>\n",
       "      <td>0</td>\n",
       "      <td>0</td>\n",
       "      <td>0</td>\n",
       "      <td>0</td>\n",
       "      <td>0</td>\n",
       "      <td>3</td>\n",
       "    </tr>\n",
       "    <tr>\n",
       "      <th>3</th>\n",
       "      <td>6182</td>\n",
       "      <td>1984</td>\n",
       "      <td>Y</td>\n",
       "      <td>Bachelor</td>\n",
       "      <td>26646.0</td>\n",
       "      <td>Lower</td>\n",
       "      <td>Kids</td>\n",
       "      <td>Together</td>\n",
       "      <td>2014-02-10</td>\n",
       "      <td>26</td>\n",
       "      <td>...</td>\n",
       "      <td>0</td>\n",
       "      <td>0</td>\n",
       "      <td>0</td>\n",
       "      <td>0</td>\n",
       "      <td>0</td>\n",
       "      <td>0</td>\n",
       "      <td>0</td>\n",
       "      <td>1</td>\n",
       "      <td>0</td>\n",
       "      <td>3</td>\n",
       "    </tr>\n",
       "    <tr>\n",
       "      <th>4</th>\n",
       "      <td>5324</td>\n",
       "      <td>1981</td>\n",
       "      <td>Y</td>\n",
       "      <td>PhD</td>\n",
       "      <td>58293.0</td>\n",
       "      <td>Middle</td>\n",
       "      <td>Kids</td>\n",
       "      <td>Married</td>\n",
       "      <td>2014-01-19</td>\n",
       "      <td>94</td>\n",
       "      <td>...</td>\n",
       "      <td>0</td>\n",
       "      <td>0</td>\n",
       "      <td>0</td>\n",
       "      <td>0</td>\n",
       "      <td>0</td>\n",
       "      <td>0</td>\n",
       "      <td>0</td>\n",
       "      <td>1</td>\n",
       "      <td>0</td>\n",
       "      <td>5</td>\n",
       "    </tr>\n",
       "  </tbody>\n",
       "</table>\n",
       "<p>5 rows × 31 columns</p>\n",
       "</div>"
      ],
      "text/plain": [
       "     ID  Year_Birth generasi Education   Income Class_Income        child  \\\n",
       "0  5524        1957  Boomers  Bachelor  58138.0       Middle     No Child   \n",
       "1  2174        1954  Boomers  Bachelor  46344.0       Middle  Kids & Teen   \n",
       "2  4141        1965        X  Bachelor  71613.0        Upper     No Child   \n",
       "3  6182        1984        Y  Bachelor  26646.0        Lower         Kids   \n",
       "4  5324        1981        Y       PhD  58293.0       Middle         Kids   \n",
       "\n",
       "  Marital_Status date_customer  Recency  ...  campaign_1  campaign_2  \\\n",
       "0         Single    2012-09-04       58  ...           0           0   \n",
       "1         Single    2014-03-08       38  ...           0           0   \n",
       "2       Together    2013-08-21       26  ...           0           0   \n",
       "3       Together    2014-02-10       26  ...           0           0   \n",
       "4        Married    2014-01-19       94  ...           0           0   \n",
       "\n",
       "   campaign_3  campaign_4  campaign_5  last_campaign  Complain  Kidhome  \\\n",
       "0           0           0           0              1         0        0   \n",
       "1           0           0           0              0         0        1   \n",
       "2           0           0           0              0         0        0   \n",
       "3           0           0           0              0         0        1   \n",
       "4           0           0           0              0         0        1   \n",
       "\n",
       "   Teenhome  Class_education  \n",
       "0         0                3  \n",
       "1         1                3  \n",
       "2         0                3  \n",
       "3         0                3  \n",
       "4         0                5  \n",
       "\n",
       "[5 rows x 31 columns]"
      ]
     },
     "execution_count": 56,
     "metadata": {},
     "output_type": "execute_result"
    }
   ],
   "source": [
    "df_Clean.head()"
   ]
  },
  {
   "attachments": {},
   "cell_type": "markdown",
   "metadata": {},
   "source": [
    "# 1. EDA Sales by segmentation People"
   ]
  },
  {
   "attachments": {},
   "cell_type": "markdown",
   "metadata": {},
   "source": [
    "## 1.1 mencari Korelasi terkuat antar kolom terhapap jumlah repeat Order"
   ]
  },
  {
   "attachments": {},
   "cell_type": "markdown",
   "metadata": {},
   "source": [
    "meliahat banyaknya katagori di bagian People saya mencari korelasi yang terkuat terhadap Sales. hal ini supaya kita bisa fokus untuk menargetkan segment customers yang lebih tepat.\n",
    "\n"
   ]
  },
  {
   "cell_type": "code",
   "execution_count": 57,
   "metadata": {},
   "outputs": [],
   "source": [
    "df_corr = df_Clean.copy()"
   ]
  },
  {
   "cell_type": "code",
   "execution_count": 58,
   "metadata": {},
   "outputs": [],
   "source": [
    "# membuat kolom total anak untuk melihat korelasi terhadap total pembelian\n",
    "df_corr['total_child'] = df_corr[['Kidhome', 'Teenhome']].sum(axis=1)"
   ]
  },
  {
   "cell_type": "code",
   "execution_count": 59,
   "metadata": {},
   "outputs": [],
   "source": [
    "# membuat kolom total buy sebagai pembanding\n",
    "df_corr['total_buy'] = df_corr[['Wines_Product',\n",
    "       'Fruits_Product', 'Meat_Product', 'Fish_Product', 'Sweet_Product',\n",
    "       'Gold_Product']].sum(axis=1)\n",
    "\n"
   ]
  },
  {
   "cell_type": "code",
   "execution_count": 60,
   "metadata": {},
   "outputs": [
    {
     "data": {
      "text/plain": [
       "array(['Middle', 'Upper', 'Lower', 'UltraRich'], dtype=object)"
      ]
     },
     "execution_count": 60,
     "metadata": {},
     "output_type": "execute_result"
    }
   ],
   "source": [
    "df_corr['Class_Income'].unique()"
   ]
  },
  {
   "cell_type": "code",
   "execution_count": 61,
   "metadata": {},
   "outputs": [],
   "source": [
    "# menghapus data outliere untuk mendapatkan ststistika yang lebih presisi.\n",
    "df_corr = df_corr.drop(df_corr[df_corr['Class_Income'] == 'UltraRich'].index)"
   ]
  },
  {
   "cell_type": "code",
   "execution_count": 62,
   "metadata": {},
   "outputs": [],
   "source": [
    "# menghapus kolom2 yang tidak perlu\n",
    "df_corr = df_corr.drop (columns=['Wines_Product',\n",
    "       'Fruits_Product', 'Meat_Product', 'Fish_Product', 'Sweet_Product',\n",
    "       'Gold_Product', 'campaign_1', 'campaign_2','Web_Purchases',\n",
    "       'Catalog_Purchases', 'Store_Purchases', 'Web_Visits_Month',\n",
    "       'Deals_Purchases',\n",
    "       'campaign_3', 'campaign_4', 'campaign_5','Kidhome', 'Teenhome','last_campaign'])"
   ]
  },
  {
   "cell_type": "code",
   "execution_count": 63,
   "metadata": {},
   "outputs": [
    {
     "data": {
      "image/png": "[encoded data removed]",
      "text/plain": [
       "<Figure size 2000x500 with 2 Axes>"
      ]
     },
     "metadata": {},
     "output_type": "display_data"
    }
   ],
   "source": [
    "plt.figure(figsize=(20,5))\n",
    "matrix = np.triu(df_corr.corr(method='spearman'))\n",
    "sns.heatmap(\n",
    "    data=df_corr.corr(),\n",
    "    annot = True,\n",
    "    cmap = 'coolwarm',\n",
    "    center = 0,\n",
    "    mask = matrix\n",
    ")\n",
    "plt.title('buyer Correlation Level')\n",
    "plt.show()"
   ]
  },
  {
   "attachments": {},
   "cell_type": "markdown",
   "metadata": {},
   "source": [
    "\n",
    "Demografic Buyer\n",
    "- saya akan mengambil segmentasi customers berdasarakan Income karena dari semua segment demografic hanya segment income yang paling kuat(melebihi 0,7)\n",
    "- saya juga membandingkan segment kepemilikan anak hanya sebagai refrensi untuk menambah sudut pandang (dipilih karena korelasio sedang/ terbesar ke-2 dari segment demografic)\n",
    "- dari segment income saya mensubtitusi beberapa kelompok untuk mengetahui tingkatan income seseorang agar lebih mudah dalam mengelompokan customers. dengan rincian kelompok yaitu: Upper, middle, lower dan UltraRich\n",
    "\n"
   ]
  },
  {
   "attachments": {},
   "cell_type": "markdown",
   "metadata": {},
   "source": [
    "## 1.2 Analisis penjualan berdasarkan product yang terbeli"
   ]
  },
  {
   "cell_type": "code",
   "execution_count": 64,
   "metadata": {},
   "outputs": [],
   "source": [
    "df_0 = df_Clean.copy()"
   ]
  },
  {
   "cell_type": "code",
   "execution_count": 65,
   "metadata": {},
   "outputs": [],
   "source": [
    "kolom = ['Class_Income','Wines_Product',\n",
    "       'Fruits_Product', 'Meat_Product', 'Fish_Product', 'Sweet_Product',\n",
    "       'Gold_Product']\n",
    "df_0 = df_0.loc[:, kolom]"
   ]
  },
  {
   "cell_type": "code",
   "execution_count": 66,
   "metadata": {},
   "outputs": [
    {
     "data": {
      "text/html": [
       "<div>\n",
       "<style scoped>\n",
       "    .dataframe tbody tr th:only-of-type {\n",
       "        vertical-align: middle;\n",
       "    }\n",
       "\n",
       "    .dataframe tbody tr th {\n",
       "        vertical-align: top;\n",
       "    }\n",
       "\n",
       "    .dataframe thead th {\n",
       "        text-align: right;\n",
       "    }\n",
       "</style>\n",
       "<table border=\"1\" class=\"dataframe\">\n",
       "  <thead>\n",
       "    <tr style=\"text-align: right;\">\n",
       "      <th></th>\n",
       "      <th>Class_Income</th>\n",
       "      <th>Wines_Product</th>\n",
       "      <th>Fruits_Product</th>\n",
       "      <th>Meat_Product</th>\n",
       "      <th>Fish_Product</th>\n",
       "      <th>Sweet_Product</th>\n",
       "      <th>Gold_Product</th>\n",
       "    </tr>\n",
       "  </thead>\n",
       "  <tbody>\n",
       "    <tr>\n",
       "      <th>0</th>\n",
       "      <td>Lower</td>\n",
       "      <td>12248</td>\n",
       "      <td>3304</td>\n",
       "      <td>12694</td>\n",
       "      <td>4821</td>\n",
       "      <td>3296</td>\n",
       "      <td>9412</td>\n",
       "    </tr>\n",
       "    <tr>\n",
       "      <th>1</th>\n",
       "      <td>Middle</td>\n",
       "      <td>308907</td>\n",
       "      <td>21323</td>\n",
       "      <td>116039</td>\n",
       "      <td>29531</td>\n",
       "      <td>20617</td>\n",
       "      <td>48476</td>\n",
       "    </tr>\n",
       "    <tr>\n",
       "      <th>2</th>\n",
       "      <td>UltraRich</td>\n",
       "      <td>212</td>\n",
       "      <td>36</td>\n",
       "      <td>4975</td>\n",
       "      <td>34</td>\n",
       "      <td>10</td>\n",
       "      <td>30</td>\n",
       "    </tr>\n",
       "    <tr>\n",
       "      <th>3</th>\n",
       "      <td>Upper</td>\n",
       "      <td>359449</td>\n",
       "      <td>34254</td>\n",
       "      <td>240260</td>\n",
       "      <td>49671</td>\n",
       "      <td>36698</td>\n",
       "      <td>40691</td>\n",
       "    </tr>\n",
       "  </tbody>\n",
       "</table>\n",
       "</div>"
      ],
      "text/plain": [
       "  Class_Income  Wines_Product  Fruits_Product  Meat_Product  Fish_Product  \\\n",
       "0        Lower          12248            3304         12694          4821   \n",
       "1       Middle         308907           21323        116039         29531   \n",
       "2    UltraRich            212              36          4975            34   \n",
       "3        Upper         359449           34254        240260         49671   \n",
       "\n",
       "   Sweet_Product  Gold_Product  \n",
       "0           3296          9412  \n",
       "1          20617         48476  \n",
       "2             10            30  \n",
       "3          36698         40691  "
      ]
     },
     "execution_count": 66,
     "metadata": {},
     "output_type": "execute_result"
    }
   ],
   "source": [
    "df_sum_0 = df_0.groupby('Class_Income').sum()[['Wines_Product',\n",
    "       'Fruits_Product', 'Meat_Product', 'Fish_Product', 'Sweet_Product',\n",
    "       'Gold_Product']].reset_index()\n",
    "df_sum_0"
   ]
  },
  {
   "cell_type": "code",
   "execution_count": 67,
   "metadata": {},
   "outputs": [],
   "source": [
    "df_melt_0 = pd.melt(df_sum_0, id_vars=['Class_Income'], value_vars=['Wines_Product','Fruits_Product', 'Meat_Product', 'Fish_Product', 'Sweet_Product',\n",
    "                                                            'Gold_Product'], \n",
    "                  var_name='Category', value_name='Nilai')"
   ]
  },
  {
   "cell_type": "code",
   "execution_count": 68,
   "metadata": {},
   "outputs": [
    {
     "data": {
      "text/html": [
       "<div>\n",
       "<style scoped>\n",
       "    .dataframe tbody tr th:only-of-type {\n",
       "        vertical-align: middle;\n",
       "    }\n",
       "\n",
       "    .dataframe tbody tr th {\n",
       "        vertical-align: top;\n",
       "    }\n",
       "\n",
       "    .dataframe thead th {\n",
       "        text-align: right;\n",
       "    }\n",
       "</style>\n",
       "<table border=\"1\" class=\"dataframe\">\n",
       "  <thead>\n",
       "    <tr style=\"text-align: right;\">\n",
       "      <th></th>\n",
       "      <th>Class_Income</th>\n",
       "      <th>Category</th>\n",
       "      <th>Nilai</th>\n",
       "    </tr>\n",
       "  </thead>\n",
       "  <tbody>\n",
       "    <tr>\n",
       "      <th>0</th>\n",
       "      <td>Lower</td>\n",
       "      <td>Wines_Product</td>\n",
       "      <td>12248</td>\n",
       "    </tr>\n",
       "    <tr>\n",
       "      <th>1</th>\n",
       "      <td>Middle</td>\n",
       "      <td>Wines_Product</td>\n",
       "      <td>308907</td>\n",
       "    </tr>\n",
       "    <tr>\n",
       "      <th>2</th>\n",
       "      <td>UltraRich</td>\n",
       "      <td>Wines_Product</td>\n",
       "      <td>212</td>\n",
       "    </tr>\n",
       "    <tr>\n",
       "      <th>3</th>\n",
       "      <td>Upper</td>\n",
       "      <td>Wines_Product</td>\n",
       "      <td>359449</td>\n",
       "    </tr>\n",
       "    <tr>\n",
       "      <th>4</th>\n",
       "      <td>Lower</td>\n",
       "      <td>Fruits_Product</td>\n",
       "      <td>3304</td>\n",
       "    </tr>\n",
       "  </tbody>\n",
       "</table>\n",
       "</div>"
      ],
      "text/plain": [
       "  Class_Income        Category   Nilai\n",
       "0        Lower   Wines_Product   12248\n",
       "1       Middle   Wines_Product  308907\n",
       "2    UltraRich   Wines_Product     212\n",
       "3        Upper   Wines_Product  359449\n",
       "4        Lower  Fruits_Product    3304"
      ]
     },
     "execution_count": 68,
     "metadata": {},
     "output_type": "execute_result"
    }
   ],
   "source": [
    "df_melt_0.head()"
   ]
  },
  {
   "attachments": {},
   "cell_type": "markdown",
   "metadata": {},
   "source": [
    "**Total Sales For 2 years**"
   ]
  },
  {
   "cell_type": "code",
   "execution_count": 69,
   "metadata": {},
   "outputs": [
    {
     "data": {
      "text/plain": [
       "1356988"
      ]
     },
     "execution_count": 69,
     "metadata": {},
     "output_type": "execute_result"
    }
   ],
   "source": [
    "total = df_melt_0['Nilai'].sum()\n",
    "total"
   ]
  },
  {
   "attachments": {},
   "cell_type": "markdown",
   "metadata": {},
   "source": [
    "**Total Sales For 2 years based Category**"
   ]
  },
  {
   "cell_type": "code",
   "execution_count": 70,
   "metadata": {},
   "outputs": [
    {
     "data": {
      "text/html": [
       "<div>\n",
       "<style scoped>\n",
       "    .dataframe tbody tr th:only-of-type {\n",
       "        vertical-align: middle;\n",
       "    }\n",
       "\n",
       "    .dataframe tbody tr th {\n",
       "        vertical-align: top;\n",
       "    }\n",
       "\n",
       "    .dataframe thead th {\n",
       "        text-align: right;\n",
       "    }\n",
       "</style>\n",
       "<table border=\"1\" class=\"dataframe\">\n",
       "  <thead>\n",
       "    <tr style=\"text-align: right;\">\n",
       "      <th></th>\n",
       "      <th>Nilai</th>\n",
       "      <th>persentage</th>\n",
       "    </tr>\n",
       "    <tr>\n",
       "      <th>Category</th>\n",
       "      <th></th>\n",
       "      <th></th>\n",
       "    </tr>\n",
       "  </thead>\n",
       "  <tbody>\n",
       "    <tr>\n",
       "      <th>Fish_Product</th>\n",
       "      <td>84057</td>\n",
       "      <td>6.19</td>\n",
       "    </tr>\n",
       "    <tr>\n",
       "      <th>Fruits_Product</th>\n",
       "      <td>58917</td>\n",
       "      <td>4.34</td>\n",
       "    </tr>\n",
       "    <tr>\n",
       "      <th>Gold_Product</th>\n",
       "      <td>98609</td>\n",
       "      <td>7.27</td>\n",
       "    </tr>\n",
       "    <tr>\n",
       "      <th>Meat_Product</th>\n",
       "      <td>373968</td>\n",
       "      <td>27.56</td>\n",
       "    </tr>\n",
       "    <tr>\n",
       "      <th>Sweet_Product</th>\n",
       "      <td>60621</td>\n",
       "      <td>4.47</td>\n",
       "    </tr>\n",
       "    <tr>\n",
       "      <th>Wines_Product</th>\n",
       "      <td>680816</td>\n",
       "      <td>50.17</td>\n",
       "    </tr>\n",
       "  </tbody>\n",
       "</table>\n",
       "</div>"
      ],
      "text/plain": [
       "                 Nilai  persentage\n",
       "Category                          \n",
       "Fish_Product     84057        6.19\n",
       "Fruits_Product   58917        4.34\n",
       "Gold_Product     98609        7.27\n",
       "Meat_Product    373968       27.56\n",
       "Sweet_Product    60621        4.47\n",
       "Wines_Product   680816       50.17"
      ]
     },
     "execution_count": 70,
     "metadata": {},
     "output_type": "execute_result"
    }
   ],
   "source": [
    "bar_sales = df_melt_0.groupby(['Category']).sum()[['Nilai']]\n",
    "\n",
    "bar_sales['persentage'] = (bar_sales['Nilai']/total)*100\n",
    "\n",
    "bar_sales.round(2)"
   ]
  },
  {
   "cell_type": "code",
   "execution_count": 71,
   "metadata": {},
   "outputs": [
    {
     "data": {
      "image/png": "[encoded data removed]",
      "text/plain": [
       "<Figure size 2000x600 with 1 Axes>"
      ]
     },
     "metadata": {},
     "output_type": "display_data"
    }
   ],
   "source": [
    "plt.figure( figsize=(20, 6))\n",
    "\n",
    "sns.barplot(data=df_melt_0, x='Category', y='Nilai', estimator=np.sum, ci=0,)\n",
    "plt.title('Total of Quantity sales for 2 Years per Product')\n",
    "plt.show()"
   ]
  },
  {
   "attachments": {},
   "cell_type": "markdown",
   "metadata": {},
   "source": [
    "Insight:\n",
    "- Total penjualan semua produk supermarket selama 2 tahun terakhir adalah 1.356.988\n",
    "- Data table diatas menunjukan bahwa penjualan product wine mendominasi penjualan dengan total sales 680.816 kemuadian disusul dengan penjualan produk Meat dengan total Sales 373.968\n",
    "- Dimana produk Wines menguasai hampir setengah dari penjualan supermarket selama 2 tahun terakhir. Produk wines dan meat dengan persentase 50,17% dan 27,5%"
   ]
  },
  {
   "attachments": {},
   "cell_type": "markdown",
   "metadata": {},
   "source": [
    "## 1.3 Analisi penjualan product berdasarkan kepemilikan anak"
   ]
  },
  {
   "cell_type": "code",
   "execution_count": 72,
   "metadata": {},
   "outputs": [],
   "source": [
    "df_3 = df_Clean.copy()"
   ]
  },
  {
   "cell_type": "code",
   "execution_count": 73,
   "metadata": {},
   "outputs": [
    {
     "data": {
      "text/html": [
       "<div>\n",
       "<style scoped>\n",
       "    .dataframe tbody tr th:only-of-type {\n",
       "        vertical-align: middle;\n",
       "    }\n",
       "\n",
       "    .dataframe tbody tr th {\n",
       "        vertical-align: top;\n",
       "    }\n",
       "\n",
       "    .dataframe thead th {\n",
       "        text-align: right;\n",
       "    }\n",
       "</style>\n",
       "<table border=\"1\" class=\"dataframe\">\n",
       "  <thead>\n",
       "    <tr style=\"text-align: right;\">\n",
       "      <th></th>\n",
       "      <th>child</th>\n",
       "      <th>Wines_Product</th>\n",
       "      <th>Fruits_Product</th>\n",
       "      <th>Meat_Product</th>\n",
       "      <th>Fish_Product</th>\n",
       "      <th>Sweet_Product</th>\n",
       "      <th>Gold_Product</th>\n",
       "    </tr>\n",
       "  </thead>\n",
       "  <tbody>\n",
       "    <tr>\n",
       "      <th>0</th>\n",
       "      <td>Kids</td>\n",
       "      <td>42084</td>\n",
       "      <td>5169</td>\n",
       "      <td>25280</td>\n",
       "      <td>7509</td>\n",
       "      <td>5092</td>\n",
       "      <td>11480</td>\n",
       "    </tr>\n",
       "    <tr>\n",
       "      <th>1</th>\n",
       "      <td>Kids &amp; Teen</td>\n",
       "      <td>55365</td>\n",
       "      <td>2813</td>\n",
       "      <td>20271</td>\n",
       "      <td>3930</td>\n",
       "      <td>3164</td>\n",
       "      <td>9501</td>\n",
       "    </tr>\n",
       "    <tr>\n",
       "      <th>2</th>\n",
       "      <td>No Child</td>\n",
       "      <td>310901</td>\n",
       "      <td>33404</td>\n",
       "      <td>237725</td>\n",
       "      <td>48837</td>\n",
       "      <td>33853</td>\n",
       "      <td>40927</td>\n",
       "    </tr>\n",
       "    <tr>\n",
       "      <th>3</th>\n",
       "      <td>Teen</td>\n",
       "      <td>272466</td>\n",
       "      <td>17531</td>\n",
       "      <td>90692</td>\n",
       "      <td>23781</td>\n",
       "      <td>18512</td>\n",
       "      <td>36701</td>\n",
       "    </tr>\n",
       "  </tbody>\n",
       "</table>\n",
       "</div>"
      ],
      "text/plain": [
       "         child  Wines_Product  Fruits_Product  Meat_Product  Fish_Product  \\\n",
       "0         Kids          42084            5169         25280          7509   \n",
       "1  Kids & Teen          55365            2813         20271          3930   \n",
       "2     No Child         310901           33404        237725         48837   \n",
       "3         Teen         272466           17531         90692         23781   \n",
       "\n",
       "   Sweet_Product  Gold_Product  \n",
       "0           5092         11480  \n",
       "1           3164          9501  \n",
       "2          33853         40927  \n",
       "3          18512         36701  "
      ]
     },
     "execution_count": 73,
     "metadata": {},
     "output_type": "execute_result"
    }
   ],
   "source": [
    "df_sum_3 = df_3.groupby('child').sum()[['Wines_Product',\n",
    "                                        'Fruits_Product', 'Meat_Product', 'Fish_Product', 'Sweet_Product',\n",
    "                                        'Gold_Product']].reset_index()\n",
    "df_sum_3"
   ]
  },
  {
   "cell_type": "code",
   "execution_count": 74,
   "metadata": {},
   "outputs": [],
   "source": [
    "kolom = ['child','Wines_Product',\n",
    "       'Fruits_Product', 'Meat_Product', 'Fish_Product', 'Sweet_Product',\n",
    "       'Gold_Product']\n",
    "df_3 = df_3.loc[:, kolom]"
   ]
  },
  {
   "cell_type": "code",
   "execution_count": 75,
   "metadata": {},
   "outputs": [],
   "source": [
    "df_melt_3 = pd.melt(df_3, id_vars=['child'], value_vars=['Wines_Product','Fruits_Product', 'Meat_Product', 'Fish_Product', 'Sweet_Product',\n",
    "                                                            'Gold_Product'], \n",
    "                  var_name='Category', value_name='Purchase')"
   ]
  },
  {
   "cell_type": "code",
   "execution_count": 76,
   "metadata": {},
   "outputs": [
    {
     "data": {
      "text/html": [
       "<div>\n",
       "<style scoped>\n",
       "    .dataframe tbody tr th:only-of-type {\n",
       "        vertical-align: middle;\n",
       "    }\n",
       "\n",
       "    .dataframe tbody tr th {\n",
       "        vertical-align: top;\n",
       "    }\n",
       "\n",
       "    .dataframe thead th {\n",
       "        text-align: right;\n",
       "    }\n",
       "</style>\n",
       "<table border=\"1\" class=\"dataframe\">\n",
       "  <thead>\n",
       "    <tr style=\"text-align: right;\">\n",
       "      <th></th>\n",
       "      <th>Category</th>\n",
       "      <th>child</th>\n",
       "      <th>Purchase</th>\n",
       "    </tr>\n",
       "  </thead>\n",
       "  <tbody>\n",
       "    <tr>\n",
       "      <th>0</th>\n",
       "      <td>Wines_Product</td>\n",
       "      <td>No Child</td>\n",
       "      <td>635</td>\n",
       "    </tr>\n",
       "    <tr>\n",
       "      <th>1</th>\n",
       "      <td>Wines_Product</td>\n",
       "      <td>Kids &amp; Teen</td>\n",
       "      <td>11</td>\n",
       "    </tr>\n",
       "    <tr>\n",
       "      <th>2</th>\n",
       "      <td>Wines_Product</td>\n",
       "      <td>No Child</td>\n",
       "      <td>426</td>\n",
       "    </tr>\n",
       "    <tr>\n",
       "      <th>3</th>\n",
       "      <td>Wines_Product</td>\n",
       "      <td>Kids</td>\n",
       "      <td>11</td>\n",
       "    </tr>\n",
       "    <tr>\n",
       "      <th>4</th>\n",
       "      <td>Wines_Product</td>\n",
       "      <td>Kids</td>\n",
       "      <td>173</td>\n",
       "    </tr>\n",
       "  </tbody>\n",
       "</table>\n",
       "</div>"
      ],
      "text/plain": [
       "        Category        child  Purchase\n",
       "0  Wines_Product     No Child       635\n",
       "1  Wines_Product  Kids & Teen        11\n",
       "2  Wines_Product     No Child       426\n",
       "3  Wines_Product         Kids        11\n",
       "4  Wines_Product         Kids       173"
      ]
     },
     "execution_count": 76,
     "metadata": {},
     "output_type": "execute_result"
    }
   ],
   "source": [
    "df_2_clean = df_melt_3.reindex(columns=['Category','child','Purchase'])\n",
    "B = df_2_clean\n",
    "B.head()"
   ]
  },
  {
   "cell_type": "code",
   "execution_count": 77,
   "metadata": {},
   "outputs": [
    {
     "data": {
      "text/html": [
       "<div>\n",
       "<style scoped>\n",
       "    .dataframe tbody tr th:only-of-type {\n",
       "        vertical-align: middle;\n",
       "    }\n",
       "\n",
       "    .dataframe tbody tr th {\n",
       "        vertical-align: top;\n",
       "    }\n",
       "\n",
       "    .dataframe thead th {\n",
       "        text-align: right;\n",
       "    }\n",
       "</style>\n",
       "<table border=\"1\" class=\"dataframe\">\n",
       "  <thead>\n",
       "    <tr style=\"text-align: right;\">\n",
       "      <th></th>\n",
       "      <th>child</th>\n",
       "      <th>Wines_Product</th>\n",
       "      <th>Fruits_Product</th>\n",
       "      <th>Meat_Product</th>\n",
       "      <th>Fish_Product</th>\n",
       "      <th>Sweet_Product</th>\n",
       "      <th>Gold_Product</th>\n",
       "      <th>total</th>\n",
       "    </tr>\n",
       "  </thead>\n",
       "  <tbody>\n",
       "    <tr>\n",
       "      <th>2</th>\n",
       "      <td>No Child</td>\n",
       "      <td>310901</td>\n",
       "      <td>33404</td>\n",
       "      <td>237725</td>\n",
       "      <td>48837</td>\n",
       "      <td>33853</td>\n",
       "      <td>40927</td>\n",
       "      <td>705647</td>\n",
       "    </tr>\n",
       "    <tr>\n",
       "      <th>3</th>\n",
       "      <td>Teen</td>\n",
       "      <td>272466</td>\n",
       "      <td>17531</td>\n",
       "      <td>90692</td>\n",
       "      <td>23781</td>\n",
       "      <td>18512</td>\n",
       "      <td>36701</td>\n",
       "      <td>459683</td>\n",
       "    </tr>\n",
       "    <tr>\n",
       "      <th>0</th>\n",
       "      <td>Kids</td>\n",
       "      <td>42084</td>\n",
       "      <td>5169</td>\n",
       "      <td>25280</td>\n",
       "      <td>7509</td>\n",
       "      <td>5092</td>\n",
       "      <td>11480</td>\n",
       "      <td>96614</td>\n",
       "    </tr>\n",
       "    <tr>\n",
       "      <th>1</th>\n",
       "      <td>Kids &amp; Teen</td>\n",
       "      <td>55365</td>\n",
       "      <td>2813</td>\n",
       "      <td>20271</td>\n",
       "      <td>3930</td>\n",
       "      <td>3164</td>\n",
       "      <td>9501</td>\n",
       "      <td>95044</td>\n",
       "    </tr>\n",
       "  </tbody>\n",
       "</table>\n",
       "</div>"
      ],
      "text/plain": [
       "         child  Wines_Product  Fruits_Product  Meat_Product  Fish_Product  \\\n",
       "2     No Child         310901           33404        237725         48837   \n",
       "3         Teen         272466           17531         90692         23781   \n",
       "0         Kids          42084            5169         25280          7509   \n",
       "1  Kids & Teen          55365            2813         20271          3930   \n",
       "\n",
       "   Sweet_Product  Gold_Product   total  \n",
       "2          33853         40927  705647  \n",
       "3          18512         36701  459683  \n",
       "0           5092         11480   96614  \n",
       "1           3164          9501   95044  "
      ]
     },
     "execution_count": 77,
     "metadata": {},
     "output_type": "execute_result"
    }
   ],
   "source": [
    "df_ket = df_sum_3.copy()\n",
    "\n",
    "df_ket['total'] = df_ket[['Wines_Product',\n",
    "       'Fruits_Product', 'Meat_Product', 'Fish_Product', 'Sweet_Product',\n",
    "       'Gold_Product']].sum(axis=1)\n",
    "\n",
    "A = df_ket.sort_values('total',ascending=False)\n",
    "A"
   ]
  },
  {
   "cell_type": "code",
   "execution_count": 78,
   "metadata": {},
   "outputs": [
    {
     "data": {
      "image/png": "[encoded data removed]",
      "text/plain": [
       "<Figure size 2000x600 with 2 Axes>"
      ]
     },
     "metadata": {},
     "output_type": "display_data"
    }
   ],
   "source": [
    "fig, axes = plt.subplots(1, 2, figsize=(20, 6))\n",
    "sns.barplot(data= B,x='child',y='Purchase',ci=0,hue='Category',ax=axes[1])\n",
    "sns.barplot(data=A,x='child',y='total',ci=0,ax=axes[0])\n",
    "plt.suptitle('Based on Child Ownership')\n",
    "axes[0].set_title('Purchase Totals All Product By Child Ownership')\n",
    "axes[1].set_title('Total of Quantity Sales per Child Ownership Based on Category')\n",
    "\n",
    "plt.show()"
   ]
  },
  {
   "attachments": {},
   "cell_type": "markdown",
   "metadata": {},
   "source": [
    "Insight:\n",
    "- dari data diatas basis pembelian terbanyak berdasarakan segment customer tingkat kepemilikan anak adalah yang tidak memiliki anak. sedangkan sedangkan pada customers segment yang memiliki balita saja dan segment yang memiliki balita dan remaja pembelianya relative sama.\n",
    "- pada segment tidak mempunyai anak & hanya mempunyai remaja saja pembelian terbanyak adalah produk wine setelah itu produk daging"
   ]
  },
  {
   "attachments": {},
   "cell_type": "markdown",
   "metadata": {},
   "source": [
    "## 1.4 Analisis penjualan berdasarkan income(Priority)"
   ]
  },
  {
   "cell_type": "code",
   "execution_count": 79,
   "metadata": {},
   "outputs": [],
   "source": [
    "df_i = df_Clean.copy()"
   ]
  },
  {
   "cell_type": "code",
   "execution_count": 80,
   "metadata": {},
   "outputs": [
    {
     "data": {
      "text/html": [
       "<div>\n",
       "<style scoped>\n",
       "    .dataframe tbody tr th:only-of-type {\n",
       "        vertical-align: middle;\n",
       "    }\n",
       "\n",
       "    .dataframe tbody tr th {\n",
       "        vertical-align: top;\n",
       "    }\n",
       "\n",
       "    .dataframe thead th {\n",
       "        text-align: right;\n",
       "    }\n",
       "</style>\n",
       "<table border=\"1\" class=\"dataframe\">\n",
       "  <thead>\n",
       "    <tr style=\"text-align: right;\">\n",
       "      <th></th>\n",
       "      <th>Class_Income</th>\n",
       "      <th>Wines_Product</th>\n",
       "      <th>Fruits_Product</th>\n",
       "      <th>Meat_Product</th>\n",
       "      <th>Fish_Product</th>\n",
       "      <th>Sweet_Product</th>\n",
       "      <th>Gold_Product</th>\n",
       "    </tr>\n",
       "  </thead>\n",
       "  <tbody>\n",
       "    <tr>\n",
       "      <th>0</th>\n",
       "      <td>Lower</td>\n",
       "      <td>12248</td>\n",
       "      <td>3304</td>\n",
       "      <td>12694</td>\n",
       "      <td>4821</td>\n",
       "      <td>3296</td>\n",
       "      <td>9412</td>\n",
       "    </tr>\n",
       "    <tr>\n",
       "      <th>1</th>\n",
       "      <td>Middle</td>\n",
       "      <td>308907</td>\n",
       "      <td>21323</td>\n",
       "      <td>116039</td>\n",
       "      <td>29531</td>\n",
       "      <td>20617</td>\n",
       "      <td>48476</td>\n",
       "    </tr>\n",
       "    <tr>\n",
       "      <th>2</th>\n",
       "      <td>UltraRich</td>\n",
       "      <td>212</td>\n",
       "      <td>36</td>\n",
       "      <td>4975</td>\n",
       "      <td>34</td>\n",
       "      <td>10</td>\n",
       "      <td>30</td>\n",
       "    </tr>\n",
       "    <tr>\n",
       "      <th>3</th>\n",
       "      <td>Upper</td>\n",
       "      <td>359449</td>\n",
       "      <td>34254</td>\n",
       "      <td>240260</td>\n",
       "      <td>49671</td>\n",
       "      <td>36698</td>\n",
       "      <td>40691</td>\n",
       "    </tr>\n",
       "  </tbody>\n",
       "</table>\n",
       "</div>"
      ],
      "text/plain": [
       "  Class_Income  Wines_Product  Fruits_Product  Meat_Product  Fish_Product  \\\n",
       "0        Lower          12248            3304         12694          4821   \n",
       "1       Middle         308907           21323        116039         29531   \n",
       "2    UltraRich            212              36          4975            34   \n",
       "3        Upper         359449           34254        240260         49671   \n",
       "\n",
       "   Sweet_Product  Gold_Product  \n",
       "0           3296          9412  \n",
       "1          20617         48476  \n",
       "2             10            30  \n",
       "3          36698         40691  "
      ]
     },
     "execution_count": 80,
     "metadata": {},
     "output_type": "execute_result"
    }
   ],
   "source": [
    "df_sum_i = df_i.groupby('Class_Income').sum()[['Wines_Product',\n",
    "                                        'Fruits_Product', 'Meat_Product', 'Fish_Product', 'Sweet_Product',\n",
    "                                        'Gold_Product']].reset_index()\n",
    "df_sum_i"
   ]
  },
  {
   "cell_type": "code",
   "execution_count": 81,
   "metadata": {},
   "outputs": [
    {
     "data": {
      "text/html": [
       "<div>\n",
       "<style scoped>\n",
       "    .dataframe tbody tr th:only-of-type {\n",
       "        vertical-align: middle;\n",
       "    }\n",
       "\n",
       "    .dataframe tbody tr th {\n",
       "        vertical-align: top;\n",
       "    }\n",
       "\n",
       "    .dataframe thead th {\n",
       "        text-align: right;\n",
       "    }\n",
       "</style>\n",
       "<table border=\"1\" class=\"dataframe\">\n",
       "  <thead>\n",
       "    <tr style=\"text-align: right;\">\n",
       "      <th></th>\n",
       "      <th>Class_Income</th>\n",
       "      <th>Category</th>\n",
       "      <th>Purchase</th>\n",
       "    </tr>\n",
       "  </thead>\n",
       "  <tbody>\n",
       "    <tr>\n",
       "      <th>0</th>\n",
       "      <td>Lower</td>\n",
       "      <td>Wines_Product</td>\n",
       "      <td>12248</td>\n",
       "    </tr>\n",
       "    <tr>\n",
       "      <th>1</th>\n",
       "      <td>Middle</td>\n",
       "      <td>Wines_Product</td>\n",
       "      <td>308907</td>\n",
       "    </tr>\n",
       "    <tr>\n",
       "      <th>2</th>\n",
       "      <td>UltraRich</td>\n",
       "      <td>Wines_Product</td>\n",
       "      <td>212</td>\n",
       "    </tr>\n",
       "    <tr>\n",
       "      <th>3</th>\n",
       "      <td>Upper</td>\n",
       "      <td>Wines_Product</td>\n",
       "      <td>359449</td>\n",
       "    </tr>\n",
       "    <tr>\n",
       "      <th>4</th>\n",
       "      <td>Lower</td>\n",
       "      <td>Fruits_Product</td>\n",
       "      <td>3304</td>\n",
       "    </tr>\n",
       "  </tbody>\n",
       "</table>\n",
       "</div>"
      ],
      "text/plain": [
       "  Class_Income        Category  Purchase\n",
       "0        Lower   Wines_Product     12248\n",
       "1       Middle   Wines_Product    308907\n",
       "2    UltraRich   Wines_Product       212\n",
       "3        Upper   Wines_Product    359449\n",
       "4        Lower  Fruits_Product      3304"
      ]
     },
     "execution_count": 81,
     "metadata": {},
     "output_type": "execute_result"
    }
   ],
   "source": [
    "df_melt_i = pd.melt(df_sum_i, id_vars=['Class_Income'], value_vars=['Wines_Product','Fruits_Product', 'Meat_Product', 'Fish_Product', 'Sweet_Product',\n",
    "                                                            'Gold_Product'], \n",
    "                  var_name='Category', value_name='Purchase')\n",
    "df_melt_i.head()"
   ]
  },
  {
   "cell_type": "code",
   "execution_count": 82,
   "metadata": {},
   "outputs": [
    {
     "data": {
      "text/html": [
       "<div>\n",
       "<style scoped>\n",
       "    .dataframe tbody tr th:only-of-type {\n",
       "        vertical-align: middle;\n",
       "    }\n",
       "\n",
       "    .dataframe tbody tr th {\n",
       "        vertical-align: top;\n",
       "    }\n",
       "\n",
       "    .dataframe thead th {\n",
       "        text-align: right;\n",
       "    }\n",
       "</style>\n",
       "<table border=\"1\" class=\"dataframe\">\n",
       "  <thead>\n",
       "    <tr style=\"text-align: right;\">\n",
       "      <th></th>\n",
       "      <th>Category</th>\n",
       "      <th>Class_Income</th>\n",
       "      <th>Purchase</th>\n",
       "    </tr>\n",
       "  </thead>\n",
       "  <tbody>\n",
       "    <tr>\n",
       "      <th>0</th>\n",
       "      <td>Wines_Product</td>\n",
       "      <td>Lower</td>\n",
       "      <td>12248</td>\n",
       "    </tr>\n",
       "    <tr>\n",
       "      <th>1</th>\n",
       "      <td>Wines_Product</td>\n",
       "      <td>Middle</td>\n",
       "      <td>308907</td>\n",
       "    </tr>\n",
       "    <tr>\n",
       "      <th>2</th>\n",
       "      <td>Wines_Product</td>\n",
       "      <td>UltraRich</td>\n",
       "      <td>212</td>\n",
       "    </tr>\n",
       "    <tr>\n",
       "      <th>3</th>\n",
       "      <td>Wines_Product</td>\n",
       "      <td>Upper</td>\n",
       "      <td>359449</td>\n",
       "    </tr>\n",
       "    <tr>\n",
       "      <th>4</th>\n",
       "      <td>Fruits_Product</td>\n",
       "      <td>Lower</td>\n",
       "      <td>3304</td>\n",
       "    </tr>\n",
       "  </tbody>\n",
       "</table>\n",
       "</div>"
      ],
      "text/plain": [
       "         Category Class_Income  Purchase\n",
       "0   Wines_Product        Lower     12248\n",
       "1   Wines_Product       Middle    308907\n",
       "2   Wines_Product    UltraRich       212\n",
       "3   Wines_Product        Upper    359449\n",
       "4  Fruits_Product        Lower      3304"
      ]
     },
     "execution_count": 82,
     "metadata": {},
     "output_type": "execute_result"
    }
   ],
   "source": [
    "df_i_clean = df_melt_i.reindex(columns=['Category','Class_Income','Purchase'])\n",
    "B = df_i_clean\n",
    "B.head()"
   ]
  },
  {
   "cell_type": "code",
   "execution_count": 83,
   "metadata": {},
   "outputs": [
    {
     "data": {
      "text/html": [
       "<div>\n",
       "<style scoped>\n",
       "    .dataframe tbody tr th:only-of-type {\n",
       "        vertical-align: middle;\n",
       "    }\n",
       "\n",
       "    .dataframe tbody tr th {\n",
       "        vertical-align: top;\n",
       "    }\n",
       "\n",
       "    .dataframe thead th {\n",
       "        text-align: right;\n",
       "    }\n",
       "</style>\n",
       "<table border=\"1\" class=\"dataframe\">\n",
       "  <thead>\n",
       "    <tr style=\"text-align: right;\">\n",
       "      <th></th>\n",
       "      <th>Class_Income</th>\n",
       "      <th>Wines_Product</th>\n",
       "      <th>Fruits_Product</th>\n",
       "      <th>Meat_Product</th>\n",
       "      <th>Fish_Product</th>\n",
       "      <th>Sweet_Product</th>\n",
       "      <th>Gold_Product</th>\n",
       "      <th>total</th>\n",
       "    </tr>\n",
       "  </thead>\n",
       "  <tbody>\n",
       "    <tr>\n",
       "      <th>3</th>\n",
       "      <td>Upper</td>\n",
       "      <td>359449</td>\n",
       "      <td>34254</td>\n",
       "      <td>240260</td>\n",
       "      <td>49671</td>\n",
       "      <td>36698</td>\n",
       "      <td>40691</td>\n",
       "      <td>761023</td>\n",
       "    </tr>\n",
       "    <tr>\n",
       "      <th>1</th>\n",
       "      <td>Middle</td>\n",
       "      <td>308907</td>\n",
       "      <td>21323</td>\n",
       "      <td>116039</td>\n",
       "      <td>29531</td>\n",
       "      <td>20617</td>\n",
       "      <td>48476</td>\n",
       "      <td>544893</td>\n",
       "    </tr>\n",
       "    <tr>\n",
       "      <th>0</th>\n",
       "      <td>Lower</td>\n",
       "      <td>12248</td>\n",
       "      <td>3304</td>\n",
       "      <td>12694</td>\n",
       "      <td>4821</td>\n",
       "      <td>3296</td>\n",
       "      <td>9412</td>\n",
       "      <td>45775</td>\n",
       "    </tr>\n",
       "    <tr>\n",
       "      <th>2</th>\n",
       "      <td>UltraRich</td>\n",
       "      <td>212</td>\n",
       "      <td>36</td>\n",
       "      <td>4975</td>\n",
       "      <td>34</td>\n",
       "      <td>10</td>\n",
       "      <td>30</td>\n",
       "      <td>5297</td>\n",
       "    </tr>\n",
       "  </tbody>\n",
       "</table>\n",
       "</div>"
      ],
      "text/plain": [
       "  Class_Income  Wines_Product  Fruits_Product  Meat_Product  Fish_Product  \\\n",
       "3        Upper         359449           34254        240260         49671   \n",
       "1       Middle         308907           21323        116039         29531   \n",
       "0        Lower          12248            3304         12694          4821   \n",
       "2    UltraRich            212              36          4975            34   \n",
       "\n",
       "   Sweet_Product  Gold_Product   total  \n",
       "3          36698         40691  761023  \n",
       "1          20617         48476  544893  \n",
       "0           3296          9412   45775  \n",
       "2             10            30    5297  "
      ]
     },
     "execution_count": 83,
     "metadata": {},
     "output_type": "execute_result"
    }
   ],
   "source": [
    "df_ket = df_sum_i.copy()\n",
    "\n",
    "df_ket['total'] = df_ket[['Wines_Product',\n",
    "       'Fruits_Product', 'Meat_Product', 'Fish_Product', 'Sweet_Product',\n",
    "       'Gold_Product']].sum(axis=1)\n",
    "\n",
    "A = df_ket.sort_values('total',ascending=False)\n",
    "A"
   ]
  },
  {
   "cell_type": "code",
   "execution_count": 84,
   "metadata": {},
   "outputs": [
    {
     "data": {
      "image/png": "[encoded data removed]",
      "text/plain": [
       "<Figure size 2000x600 with 2 Axes>"
      ]
     },
     "metadata": {},
     "output_type": "display_data"
    }
   ],
   "source": [
    "fig, axes = plt.subplots(1, 2, figsize=(20, 6))\n",
    "sns.barplot(data= B,x='Class_Income',y='Purchase',ci=0,hue='Category',ax=axes[1])\n",
    "sns.barplot(data=A,x='Class_Income',y='total',ci=0,ax=axes[0])\n",
    "plt.suptitle('Class Income Overview')\n",
    "axes[0].set_title('Purchase Totals All Product By Class Income')\n",
    "axes[1].set_title('Total of Quantity Sales per Class Income Based on Category')\n",
    "\n",
    "plt.show()"
   ]
  },
  {
   "attachments": {},
   "cell_type": "markdown",
   "metadata": {},
   "source": [
    "Insight: \n",
    "- dari tabel diatas kita bisa menarik kesimpulan bahwa basis customers dengan income upper dan middle sangat berpengaruh terhadap penjualan.\n",
    "- Product yang sering di beli segment upper dan middle adalah wine product kemudian meat product\n",
    "- selama 2 tahun terakhir kelompok upper berbelanja dengan total 761.032 item produk dengan rincian pembelian terbanyak produk wines dengan total 359.449 piece. kemudian produk yang sering dibeli kedua adalah produk meat dengan total 240.260 piece. \n",
    "- selama 2 tahun terakhir kelompok Middle berbelanja dengan total 544.893 item produk dengan rincian pembelian terbanyak produk wines dengan total 308.907 piece. kemudian produk yang sering dibeli kedua adalah produk meat dengan total 116.039 piece.\n",
    "- selama 2 tahun terakhir kelompok lower berbelanja dengan total 45.775 item produk dengan rincian pembelian terbanyak produk meat dengan total 12.694 piece. kemudian produk yang sering dibeli kedua adalah produk wines dengan total 12.248 piece.\n",
    "- selama 2 tahun terakhir kelompok lower berbelanja dengan total 5.297 item produk dengan rincian pembelian terbanyak produk meat dengan total 4.975 piece. kemudian produk yang sering dibeli kedua adalah produk wines dengan total 212 piece.\n"
   ]
  },
  {
   "attachments": {},
   "cell_type": "markdown",
   "metadata": {},
   "source": [
    "## 1.5 Mengetahui karakteristik demografic customers berdasarkan segment income "
   ]
  },
  {
   "attachments": {},
   "cell_type": "markdown",
   "metadata": {},
   "source": [
    "### Spesifik demografic dari Class Icome upper"
   ]
  },
  {
   "cell_type": "code",
   "execution_count": 85,
   "metadata": {},
   "outputs": [],
   "source": [
    "AB = df_Clean.copy()"
   ]
  },
  {
   "cell_type": "code",
   "execution_count": 86,
   "metadata": {},
   "outputs": [
    {
     "data": {
      "text/html": [
       "<div>\n",
       "<style scoped>\n",
       "    .dataframe tbody tr th:only-of-type {\n",
       "        vertical-align: middle;\n",
       "    }\n",
       "\n",
       "    .dataframe tbody tr th {\n",
       "        vertical-align: top;\n",
       "    }\n",
       "\n",
       "    .dataframe thead th {\n",
       "        text-align: right;\n",
       "    }\n",
       "</style>\n",
       "<table border=\"1\" class=\"dataframe\">\n",
       "  <thead>\n",
       "    <tr style=\"text-align: right;\">\n",
       "      <th></th>\n",
       "      <th>ID</th>\n",
       "      <th>Year_Birth</th>\n",
       "      <th>generasi</th>\n",
       "      <th>Education</th>\n",
       "      <th>Income</th>\n",
       "      <th>Class_Income</th>\n",
       "      <th>child</th>\n",
       "      <th>Marital_Status</th>\n",
       "      <th>date_customer</th>\n",
       "      <th>Recency</th>\n",
       "      <th>...</th>\n",
       "      <th>campaign_1</th>\n",
       "      <th>campaign_2</th>\n",
       "      <th>campaign_3</th>\n",
       "      <th>campaign_4</th>\n",
       "      <th>campaign_5</th>\n",
       "      <th>last_campaign</th>\n",
       "      <th>Complain</th>\n",
       "      <th>Kidhome</th>\n",
       "      <th>Teenhome</th>\n",
       "      <th>Class_education</th>\n",
       "    </tr>\n",
       "  </thead>\n",
       "  <tbody>\n",
       "    <tr>\n",
       "      <th>2</th>\n",
       "      <td>4141</td>\n",
       "      <td>1965</td>\n",
       "      <td>X</td>\n",
       "      <td>Bachelor</td>\n",
       "      <td>71613.0</td>\n",
       "      <td>Upper</td>\n",
       "      <td>No Child</td>\n",
       "      <td>Together</td>\n",
       "      <td>2013-08-21</td>\n",
       "      <td>26</td>\n",
       "      <td>...</td>\n",
       "      <td>0</td>\n",
       "      <td>0</td>\n",
       "      <td>0</td>\n",
       "      <td>0</td>\n",
       "      <td>0</td>\n",
       "      <td>0</td>\n",
       "      <td>0</td>\n",
       "      <td>0</td>\n",
       "      <td>0</td>\n",
       "      <td>3</td>\n",
       "    </tr>\n",
       "    <tr>\n",
       "      <th>15</th>\n",
       "      <td>2114</td>\n",
       "      <td>1946</td>\n",
       "      <td>Boomers</td>\n",
       "      <td>PhD</td>\n",
       "      <td>82800.0</td>\n",
       "      <td>Upper</td>\n",
       "      <td>No Child</td>\n",
       "      <td>Single</td>\n",
       "      <td>2012-11-24</td>\n",
       "      <td>23</td>\n",
       "      <td>...</td>\n",
       "      <td>1</td>\n",
       "      <td>0</td>\n",
       "      <td>0</td>\n",
       "      <td>0</td>\n",
       "      <td>1</td>\n",
       "      <td>1</td>\n",
       "      <td>0</td>\n",
       "      <td>0</td>\n",
       "      <td>0</td>\n",
       "      <td>5</td>\n",
       "    </tr>\n",
       "    <tr>\n",
       "      <th>18</th>\n",
       "      <td>6565</td>\n",
       "      <td>1949</td>\n",
       "      <td>Boomers</td>\n",
       "      <td>Master</td>\n",
       "      <td>76995.0</td>\n",
       "      <td>Upper</td>\n",
       "      <td>Teen</td>\n",
       "      <td>Married</td>\n",
       "      <td>2013-03-28</td>\n",
       "      <td>91</td>\n",
       "      <td>...</td>\n",
       "      <td>1</td>\n",
       "      <td>0</td>\n",
       "      <td>0</td>\n",
       "      <td>0</td>\n",
       "      <td>0</td>\n",
       "      <td>0</td>\n",
       "      <td>0</td>\n",
       "      <td>0</td>\n",
       "      <td>1</td>\n",
       "      <td>4</td>\n",
       "    </tr>\n",
       "    <tr>\n",
       "      <th>29</th>\n",
       "      <td>1966</td>\n",
       "      <td>1965</td>\n",
       "      <td>X</td>\n",
       "      <td>PhD</td>\n",
       "      <td>84618.0</td>\n",
       "      <td>Upper</td>\n",
       "      <td>No Child</td>\n",
       "      <td>Married</td>\n",
       "      <td>2013-11-22</td>\n",
       "      <td>96</td>\n",
       "      <td>...</td>\n",
       "      <td>0</td>\n",
       "      <td>0</td>\n",
       "      <td>0</td>\n",
       "      <td>0</td>\n",
       "      <td>1</td>\n",
       "      <td>0</td>\n",
       "      <td>0</td>\n",
       "      <td>0</td>\n",
       "      <td>0</td>\n",
       "      <td>5</td>\n",
       "    </tr>\n",
       "    <tr>\n",
       "      <th>34</th>\n",
       "      <td>8755</td>\n",
       "      <td>1946</td>\n",
       "      <td>Boomers</td>\n",
       "      <td>Master</td>\n",
       "      <td>68657.0</td>\n",
       "      <td>Upper</td>\n",
       "      <td>No Child</td>\n",
       "      <td>Married</td>\n",
       "      <td>2013-02-20</td>\n",
       "      <td>4</td>\n",
       "      <td>...</td>\n",
       "      <td>0</td>\n",
       "      <td>0</td>\n",
       "      <td>0</td>\n",
       "      <td>0</td>\n",
       "      <td>0</td>\n",
       "      <td>0</td>\n",
       "      <td>0</td>\n",
       "      <td>0</td>\n",
       "      <td>0</td>\n",
       "      <td>4</td>\n",
       "    </tr>\n",
       "  </tbody>\n",
       "</table>\n",
       "<p>5 rows × 31 columns</p>\n",
       "</div>"
      ],
      "text/plain": [
       "      ID  Year_Birth generasi Education   Income Class_Income     child  \\\n",
       "2   4141        1965        X  Bachelor  71613.0        Upper  No Child   \n",
       "15  2114        1946  Boomers       PhD  82800.0        Upper  No Child   \n",
       "18  6565        1949  Boomers    Master  76995.0        Upper      Teen   \n",
       "29  1966        1965        X       PhD  84618.0        Upper  No Child   \n",
       "34  8755        1946  Boomers    Master  68657.0        Upper  No Child   \n",
       "\n",
       "   Marital_Status date_customer  Recency  ...  campaign_1  campaign_2  \\\n",
       "2        Together    2013-08-21       26  ...           0           0   \n",
       "15         Single    2012-11-24       23  ...           1           0   \n",
       "18        Married    2013-03-28       91  ...           1           0   \n",
       "29        Married    2013-11-22       96  ...           0           0   \n",
       "34        Married    2013-02-20        4  ...           0           0   \n",
       "\n",
       "    campaign_3  campaign_4  campaign_5  last_campaign  Complain  Kidhome  \\\n",
       "2            0           0           0              0         0        0   \n",
       "15           0           0           1              1         0        0   \n",
       "18           0           0           0              0         0        0   \n",
       "29           0           0           1              0         0        0   \n",
       "34           0           0           0              0         0        0   \n",
       "\n",
       "    Teenhome  Class_education  \n",
       "2          0                3  \n",
       "15         0                5  \n",
       "18         1                4  \n",
       "29         0                5  \n",
       "34         0                4  \n",
       "\n",
       "[5 rows x 31 columns]"
      ]
     },
     "execution_count": 86,
     "metadata": {},
     "output_type": "execute_result"
    }
   ],
   "source": [
    "AB = AB[AB['Class_Income']=='Upper']\n",
    "AB.head()"
   ]
  },
  {
   "cell_type": "code",
   "execution_count": 87,
   "metadata": {},
   "outputs": [
    {
     "data": {
      "text/plain": [
       "Boomers    38.78\n",
       "X          32.32\n",
       "Y          26.39\n",
       "Elderly     1.97\n",
       "Z           0.54\n",
       "Name: generasi, dtype: float64"
      ]
     },
     "execution_count": 87,
     "metadata": {},
     "output_type": "execute_result"
    }
   ],
   "source": [
    "Persen_generasi = (AB['generasi'].value_counts(normalize=True) * 100).round(2)\n",
    "Persen_generasi"
   ]
  },
  {
   "cell_type": "code",
   "execution_count": 88,
   "metadata": {},
   "outputs": [
    {
     "data": {
      "text/plain": [
       "Bachelor    54.76\n",
       "PhD         22.80\n",
       "Master      14.90\n",
       "2n Cycle     7.54\n",
       "Name: Education, dtype: float64"
      ]
     },
     "execution_count": 88,
     "metadata": {},
     "output_type": "execute_result"
    }
   ],
   "source": [
    "Persen_Education = (AB['Education'].value_counts(normalize=True) * 100).round(2)\n",
    "Persen_Education"
   ]
  },
  {
   "cell_type": "code",
   "execution_count": 89,
   "metadata": {},
   "outputs": [
    {
     "data": {
      "text/plain": [
       "No Child       69.48\n",
       "Teen           23.16\n",
       "Kids            3.77\n",
       "Kids & Teen     3.59\n",
       "Name: child, dtype: float64"
      ]
     },
     "execution_count": 89,
     "metadata": {},
     "output_type": "execute_result"
    }
   ],
   "source": [
    "Persen_child = (AB['child'].value_counts(normalize=True) * 100).round(2)\n",
    "Persen_child"
   ]
  },
  {
   "cell_type": "code",
   "execution_count": 90,
   "metadata": {},
   "outputs": [
    {
     "data": {
      "text/plain": [
       "Married     37.52\n",
       "Together    25.85\n",
       "Single      22.26\n",
       "Divorced    10.59\n",
       "Widow        3.59\n",
       "Unknown      0.18\n",
       "Name: Marital_Status, dtype: float64"
      ]
     },
     "execution_count": 90,
     "metadata": {},
     "output_type": "execute_result"
    }
   ],
   "source": [
    "Persen_Marital_Status = (AB['Marital_Status'].value_counts(normalize=True) * 100).round(2)\n",
    "Persen_Marital_Status"
   ]
  },
  {
   "cell_type": "code",
   "execution_count": 91,
   "metadata": {},
   "outputs": [
    {
     "name": "stdout",
     "output_type": "stream",
     "text": [
      "berdasarkan customers dengan segment income Upper mempunyai karakteristik dominan seperti: \n",
      "customers segment income Upper paling banyak pada generasi Boomers dengan total 38.78 %.\n",
      "kemudian untuk tingkat pendidikan paling banyak pada tingkat pendididkan Bachelor dengan total 54.76 %.\n",
      "kemudian pada kepemilikan anak paling banyak kepemilikan No Child dengan total 69.48 %.\n",
      "dan pada status Married dengan total 37.52 %\n"
     ]
    }
   ],
   "source": [
    "print(f\"berdasarkan customers dengan segment income Upper mempunyai karakteristik dominan seperti: \")\n",
    "print(f\"customers segment income Upper paling banyak pada generasi {Persen_generasi.idxmax()} dengan total {Persen_generasi.max()} %.\")\n",
    "print(f\"kemudian untuk tingkat pendidikan paling banyak pada tingkat pendididkan {Persen_Education.idxmax()} dengan total {Persen_Education.max()} %.\")\n",
    "print(f\"kemudian pada kepemilikan anak paling banyak kepemilikan {Persen_child.idxmax()} dengan total {Persen_child.max()} %.\")\n",
    "print(f\"dan pada status {Persen_Marital_Status.idxmax()} dengan total {Persen_Marital_Status.max()} %\")"
   ]
  },
  {
   "attachments": {},
   "cell_type": "markdown",
   "metadata": {},
   "source": [
    "### Spesific demografic dari Class income Middle\n"
   ]
  },
  {
   "cell_type": "code",
   "execution_count": 92,
   "metadata": {},
   "outputs": [],
   "source": [
    "df_m = df_Clean.copy()"
   ]
  },
  {
   "cell_type": "code",
   "execution_count": 93,
   "metadata": {},
   "outputs": [
    {
     "data": {
      "text/html": [
       "<div>\n",
       "<style scoped>\n",
       "    .dataframe tbody tr th:only-of-type {\n",
       "        vertical-align: middle;\n",
       "    }\n",
       "\n",
       "    .dataframe tbody tr th {\n",
       "        vertical-align: top;\n",
       "    }\n",
       "\n",
       "    .dataframe thead th {\n",
       "        text-align: right;\n",
       "    }\n",
       "</style>\n",
       "<table border=\"1\" class=\"dataframe\">\n",
       "  <thead>\n",
       "    <tr style=\"text-align: right;\">\n",
       "      <th></th>\n",
       "      <th>ID</th>\n",
       "      <th>Year_Birth</th>\n",
       "      <th>generasi</th>\n",
       "      <th>Education</th>\n",
       "      <th>Income</th>\n",
       "      <th>Class_Income</th>\n",
       "      <th>child</th>\n",
       "      <th>Marital_Status</th>\n",
       "      <th>date_customer</th>\n",
       "      <th>Recency</th>\n",
       "      <th>...</th>\n",
       "      <th>campaign_1</th>\n",
       "      <th>campaign_2</th>\n",
       "      <th>campaign_3</th>\n",
       "      <th>campaign_4</th>\n",
       "      <th>campaign_5</th>\n",
       "      <th>last_campaign</th>\n",
       "      <th>Complain</th>\n",
       "      <th>Kidhome</th>\n",
       "      <th>Teenhome</th>\n",
       "      <th>Class_education</th>\n",
       "    </tr>\n",
       "  </thead>\n",
       "  <tbody>\n",
       "    <tr>\n",
       "      <th>0</th>\n",
       "      <td>5524</td>\n",
       "      <td>1957</td>\n",
       "      <td>Boomers</td>\n",
       "      <td>Bachelor</td>\n",
       "      <td>58138.0</td>\n",
       "      <td>Middle</td>\n",
       "      <td>No Child</td>\n",
       "      <td>Single</td>\n",
       "      <td>2012-09-04</td>\n",
       "      <td>58</td>\n",
       "      <td>...</td>\n",
       "      <td>0</td>\n",
       "      <td>0</td>\n",
       "      <td>0</td>\n",
       "      <td>0</td>\n",
       "      <td>0</td>\n",
       "      <td>1</td>\n",
       "      <td>0</td>\n",
       "      <td>0</td>\n",
       "      <td>0</td>\n",
       "      <td>3</td>\n",
       "    </tr>\n",
       "    <tr>\n",
       "      <th>1</th>\n",
       "      <td>2174</td>\n",
       "      <td>1954</td>\n",
       "      <td>Boomers</td>\n",
       "      <td>Bachelor</td>\n",
       "      <td>46344.0</td>\n",
       "      <td>Middle</td>\n",
       "      <td>Kids &amp; Teen</td>\n",
       "      <td>Single</td>\n",
       "      <td>2014-03-08</td>\n",
       "      <td>38</td>\n",
       "      <td>...</td>\n",
       "      <td>0</td>\n",
       "      <td>0</td>\n",
       "      <td>0</td>\n",
       "      <td>0</td>\n",
       "      <td>0</td>\n",
       "      <td>0</td>\n",
       "      <td>0</td>\n",
       "      <td>1</td>\n",
       "      <td>1</td>\n",
       "      <td>3</td>\n",
       "    </tr>\n",
       "    <tr>\n",
       "      <th>4</th>\n",
       "      <td>5324</td>\n",
       "      <td>1981</td>\n",
       "      <td>Y</td>\n",
       "      <td>PhD</td>\n",
       "      <td>58293.0</td>\n",
       "      <td>Middle</td>\n",
       "      <td>Kids</td>\n",
       "      <td>Married</td>\n",
       "      <td>2014-01-19</td>\n",
       "      <td>94</td>\n",
       "      <td>...</td>\n",
       "      <td>0</td>\n",
       "      <td>0</td>\n",
       "      <td>0</td>\n",
       "      <td>0</td>\n",
       "      <td>0</td>\n",
       "      <td>0</td>\n",
       "      <td>0</td>\n",
       "      <td>1</td>\n",
       "      <td>0</td>\n",
       "      <td>5</td>\n",
       "    </tr>\n",
       "    <tr>\n",
       "      <th>5</th>\n",
       "      <td>7446</td>\n",
       "      <td>1967</td>\n",
       "      <td>X</td>\n",
       "      <td>Master</td>\n",
       "      <td>62513.0</td>\n",
       "      <td>Middle</td>\n",
       "      <td>Teen</td>\n",
       "      <td>Together</td>\n",
       "      <td>2013-09-09</td>\n",
       "      <td>16</td>\n",
       "      <td>...</td>\n",
       "      <td>0</td>\n",
       "      <td>0</td>\n",
       "      <td>0</td>\n",
       "      <td>0</td>\n",
       "      <td>0</td>\n",
       "      <td>0</td>\n",
       "      <td>0</td>\n",
       "      <td>0</td>\n",
       "      <td>1</td>\n",
       "      <td>4</td>\n",
       "    </tr>\n",
       "    <tr>\n",
       "      <th>6</th>\n",
       "      <td>965</td>\n",
       "      <td>1971</td>\n",
       "      <td>X</td>\n",
       "      <td>Bachelor</td>\n",
       "      <td>55635.0</td>\n",
       "      <td>Middle</td>\n",
       "      <td>Teen</td>\n",
       "      <td>Divorced</td>\n",
       "      <td>2012-11-13</td>\n",
       "      <td>34</td>\n",
       "      <td>...</td>\n",
       "      <td>0</td>\n",
       "      <td>0</td>\n",
       "      <td>0</td>\n",
       "      <td>0</td>\n",
       "      <td>0</td>\n",
       "      <td>0</td>\n",
       "      <td>0</td>\n",
       "      <td>0</td>\n",
       "      <td>1</td>\n",
       "      <td>3</td>\n",
       "    </tr>\n",
       "  </tbody>\n",
       "</table>\n",
       "<p>5 rows × 31 columns</p>\n",
       "</div>"
      ],
      "text/plain": [
       "     ID  Year_Birth generasi Education   Income Class_Income        child  \\\n",
       "0  5524        1957  Boomers  Bachelor  58138.0       Middle     No Child   \n",
       "1  2174        1954  Boomers  Bachelor  46344.0       Middle  Kids & Teen   \n",
       "4  5324        1981        Y       PhD  58293.0       Middle         Kids   \n",
       "5  7446        1967        X    Master  62513.0       Middle         Teen   \n",
       "6   965        1971        X  Bachelor  55635.0       Middle         Teen   \n",
       "\n",
       "  Marital_Status date_customer  Recency  ...  campaign_1  campaign_2  \\\n",
       "0         Single    2012-09-04       58  ...           0           0   \n",
       "1         Single    2014-03-08       38  ...           0           0   \n",
       "4        Married    2014-01-19       94  ...           0           0   \n",
       "5       Together    2013-09-09       16  ...           0           0   \n",
       "6       Divorced    2012-11-13       34  ...           0           0   \n",
       "\n",
       "   campaign_3  campaign_4  campaign_5  last_campaign  Complain  Kidhome  \\\n",
       "0           0           0           0              1         0        0   \n",
       "1           0           0           0              0         0        1   \n",
       "4           0           0           0              0         0        1   \n",
       "5           0           0           0              0         0        0   \n",
       "6           0           0           0              0         0        0   \n",
       "\n",
       "   Teenhome  Class_education  \n",
       "0         0                3  \n",
       "1         1                3  \n",
       "4         0                5  \n",
       "5         1                4  \n",
       "6         1                3  \n",
       "\n",
       "[5 rows x 31 columns]"
      ]
     },
     "execution_count": 93,
     "metadata": {},
     "output_type": "execute_result"
    }
   ],
   "source": [
    "df_m = df_m[df_m['Class_Income']=='Middle']\n",
    "df_m.head()"
   ]
  },
  {
   "cell_type": "code",
   "execution_count": 94,
   "metadata": {},
   "outputs": [
    {
     "data": {
      "text/plain": [
       "X          40.38\n",
       "Boomers    39.12\n",
       "Y          19.07\n",
       "Elderly     1.43\n",
       "Name: generasi, dtype: float64"
      ]
     },
     "execution_count": 94,
     "metadata": {},
     "output_type": "execute_result"
    }
   ],
   "source": [
    "Persen_generasi = (df_m['generasi'].value_counts(normalize=True) * 100).round(2)\n",
    "Persen_generasi"
   ]
  },
  {
   "cell_type": "code",
   "execution_count": 95,
   "metadata": {},
   "outputs": [
    {
     "data": {
      "text/plain": [
       "Bachelor    47.36\n",
       "PhD         25.25\n",
       "Master      19.07\n",
       "2n Cycle     8.33\n",
       "Name: Education, dtype: float64"
      ]
     },
     "execution_count": 95,
     "metadata": {},
     "output_type": "execute_result"
    }
   ],
   "source": [
    "Persen_Education = (df_m['Education'].value_counts(normalize=True) * 100).round(2)\n",
    "Persen_Education"
   ]
  },
  {
   "cell_type": "code",
   "execution_count": 96,
   "metadata": {},
   "outputs": [
    {
     "data": {
      "text/plain": [
       "Teen           44.05\n",
       "Kids & Teen    27.04\n",
       "Kids           15.94\n",
       "No Child       12.98\n",
       "Name: child, dtype: float64"
      ]
     },
     "execution_count": 96,
     "metadata": {},
     "output_type": "execute_result"
    }
   ],
   "source": [
    "Persen_child = (df_m['child'].value_counts(normalize=True) * 100).round(2)\n",
    "Persen_child"
   ]
  },
  {
   "cell_type": "code",
   "execution_count": 97,
   "metadata": {},
   "outputs": [
    {
     "data": {
      "text/plain": [
       "Married     39.21\n",
       "Together    25.34\n",
       "Single      20.23\n",
       "Divorced    10.92\n",
       "Widow        4.03\n",
       "Unknown      0.27\n",
       "Name: Marital_Status, dtype: float64"
      ]
     },
     "execution_count": 97,
     "metadata": {},
     "output_type": "execute_result"
    }
   ],
   "source": [
    "Persen_Marital_Status = (df_m['Marital_Status'].value_counts(normalize=True) * 100).round(2)\n",
    "Persen_Marital_Status"
   ]
  },
  {
   "cell_type": "code",
   "execution_count": 98,
   "metadata": {},
   "outputs": [
    {
     "name": "stdout",
     "output_type": "stream",
     "text": [
      "berdasarkan customers dengan segment income Middle mempunyai karakteristik dominan seperti: \n",
      "customers segment income Middle paling banyak pada generasi X dengan total 40.38 %.\n",
      "kemudian untuk tingkat pendidikan paling banyak pada tingkat pendididkan Bachelor dengan total 47.36 %.\n",
      "kemudian pada kepemilikan anak paling banyak kepemilikan Teen dengan total 44.05 %.\n",
      "dan pada status Married dengan total 39.21 %\n"
     ]
    }
   ],
   "source": [
    "print(f\"berdasarkan customers dengan segment income Middle mempunyai karakteristik dominan seperti: \")\n",
    "print(f\"customers segment income Middle paling banyak pada generasi {Persen_generasi.idxmax()} dengan total {Persen_generasi.max()} %.\")\n",
    "print(f\"kemudian untuk tingkat pendidikan paling banyak pada tingkat pendididkan {Persen_Education.idxmax()} dengan total {Persen_Education.max()} %.\")\n",
    "print(f\"kemudian pada kepemilikan anak paling banyak kepemilikan {Persen_child.idxmax()} dengan total {Persen_child.max()} %.\")\n",
    "print(f\"dan pada status {Persen_Marital_Status.idxmax()} dengan total {Persen_Marital_Status.max()} %\")"
   ]
  },
  {
   "attachments": {},
   "cell_type": "markdown",
   "metadata": {},
   "source": [
    "### Spesific demografic dari Class income Lower"
   ]
  },
  {
   "cell_type": "code",
   "execution_count": 99,
   "metadata": {},
   "outputs": [],
   "source": [
    "df_l = df_Clean.copy()"
   ]
  },
  {
   "cell_type": "code",
   "execution_count": 100,
   "metadata": {},
   "outputs": [
    {
     "data": {
      "text/html": [
       "<div>\n",
       "<style scoped>\n",
       "    .dataframe tbody tr th:only-of-type {\n",
       "        vertical-align: middle;\n",
       "    }\n",
       "\n",
       "    .dataframe tbody tr th {\n",
       "        vertical-align: top;\n",
       "    }\n",
       "\n",
       "    .dataframe thead th {\n",
       "        text-align: right;\n",
       "    }\n",
       "</style>\n",
       "<table border=\"1\" class=\"dataframe\">\n",
       "  <thead>\n",
       "    <tr style=\"text-align: right;\">\n",
       "      <th></th>\n",
       "      <th>ID</th>\n",
       "      <th>Year_Birth</th>\n",
       "      <th>generasi</th>\n",
       "      <th>Education</th>\n",
       "      <th>Income</th>\n",
       "      <th>Class_Income</th>\n",
       "      <th>child</th>\n",
       "      <th>Marital_Status</th>\n",
       "      <th>date_customer</th>\n",
       "      <th>Recency</th>\n",
       "      <th>...</th>\n",
       "      <th>campaign_1</th>\n",
       "      <th>campaign_2</th>\n",
       "      <th>campaign_3</th>\n",
       "      <th>campaign_4</th>\n",
       "      <th>campaign_5</th>\n",
       "      <th>last_campaign</th>\n",
       "      <th>Complain</th>\n",
       "      <th>Kidhome</th>\n",
       "      <th>Teenhome</th>\n",
       "      <th>Class_education</th>\n",
       "    </tr>\n",
       "  </thead>\n",
       "  <tbody>\n",
       "    <tr>\n",
       "      <th>3</th>\n",
       "      <td>6182</td>\n",
       "      <td>1984</td>\n",
       "      <td>Y</td>\n",
       "      <td>Bachelor</td>\n",
       "      <td>26646.0</td>\n",
       "      <td>Lower</td>\n",
       "      <td>Kids</td>\n",
       "      <td>Together</td>\n",
       "      <td>2014-02-10</td>\n",
       "      <td>26</td>\n",
       "      <td>...</td>\n",
       "      <td>0</td>\n",
       "      <td>0</td>\n",
       "      <td>0</td>\n",
       "      <td>0</td>\n",
       "      <td>0</td>\n",
       "      <td>0</td>\n",
       "      <td>0</td>\n",
       "      <td>1</td>\n",
       "      <td>0</td>\n",
       "      <td>3</td>\n",
       "    </tr>\n",
       "    <tr>\n",
       "      <th>7</th>\n",
       "      <td>6177</td>\n",
       "      <td>1985</td>\n",
       "      <td>Y</td>\n",
       "      <td>PhD</td>\n",
       "      <td>33454.0</td>\n",
       "      <td>Lower</td>\n",
       "      <td>Kids</td>\n",
       "      <td>Married</td>\n",
       "      <td>2013-05-08</td>\n",
       "      <td>32</td>\n",
       "      <td>...</td>\n",
       "      <td>0</td>\n",
       "      <td>0</td>\n",
       "      <td>0</td>\n",
       "      <td>0</td>\n",
       "      <td>0</td>\n",
       "      <td>0</td>\n",
       "      <td>0</td>\n",
       "      <td>1</td>\n",
       "      <td>0</td>\n",
       "      <td>5</td>\n",
       "    </tr>\n",
       "    <tr>\n",
       "      <th>8</th>\n",
       "      <td>4855</td>\n",
       "      <td>1974</td>\n",
       "      <td>X</td>\n",
       "      <td>PhD</td>\n",
       "      <td>30351.0</td>\n",
       "      <td>Lower</td>\n",
       "      <td>Kids</td>\n",
       "      <td>Together</td>\n",
       "      <td>2013-06-06</td>\n",
       "      <td>19</td>\n",
       "      <td>...</td>\n",
       "      <td>0</td>\n",
       "      <td>0</td>\n",
       "      <td>0</td>\n",
       "      <td>0</td>\n",
       "      <td>0</td>\n",
       "      <td>1</td>\n",
       "      <td>0</td>\n",
       "      <td>1</td>\n",
       "      <td>0</td>\n",
       "      <td>5</td>\n",
       "    </tr>\n",
       "    <tr>\n",
       "      <th>9</th>\n",
       "      <td>5899</td>\n",
       "      <td>1950</td>\n",
       "      <td>Boomers</td>\n",
       "      <td>PhD</td>\n",
       "      <td>5648.0</td>\n",
       "      <td>Lower</td>\n",
       "      <td>Kids &amp; Teen</td>\n",
       "      <td>Together</td>\n",
       "      <td>2014-03-13</td>\n",
       "      <td>68</td>\n",
       "      <td>...</td>\n",
       "      <td>0</td>\n",
       "      <td>0</td>\n",
       "      <td>1</td>\n",
       "      <td>0</td>\n",
       "      <td>0</td>\n",
       "      <td>0</td>\n",
       "      <td>0</td>\n",
       "      <td>1</td>\n",
       "      <td>1</td>\n",
       "      <td>5</td>\n",
       "    </tr>\n",
       "    <tr>\n",
       "      <th>11</th>\n",
       "      <td>387</td>\n",
       "      <td>1976</td>\n",
       "      <td>X</td>\n",
       "      <td>Primary education</td>\n",
       "      <td>7500.0</td>\n",
       "      <td>Lower</td>\n",
       "      <td>No Child</td>\n",
       "      <td>Married</td>\n",
       "      <td>2012-11-13</td>\n",
       "      <td>59</td>\n",
       "      <td>...</td>\n",
       "      <td>0</td>\n",
       "      <td>0</td>\n",
       "      <td>0</td>\n",
       "      <td>0</td>\n",
       "      <td>0</td>\n",
       "      <td>0</td>\n",
       "      <td>0</td>\n",
       "      <td>0</td>\n",
       "      <td>0</td>\n",
       "      <td>1</td>\n",
       "    </tr>\n",
       "  </tbody>\n",
       "</table>\n",
       "<p>5 rows × 31 columns</p>\n",
       "</div>"
      ],
      "text/plain": [
       "      ID  Year_Birth generasi          Education   Income Class_Income  \\\n",
       "3   6182        1984        Y           Bachelor  26646.0        Lower   \n",
       "7   6177        1985        Y                PhD  33454.0        Lower   \n",
       "8   4855        1974        X                PhD  30351.0        Lower   \n",
       "9   5899        1950  Boomers                PhD   5648.0        Lower   \n",
       "11   387        1976        X  Primary education   7500.0        Lower   \n",
       "\n",
       "          child Marital_Status date_customer  Recency  ...  campaign_1  \\\n",
       "3          Kids       Together    2014-02-10       26  ...           0   \n",
       "7          Kids        Married    2013-05-08       32  ...           0   \n",
       "8          Kids       Together    2013-06-06       19  ...           0   \n",
       "9   Kids & Teen       Together    2014-03-13       68  ...           0   \n",
       "11     No Child        Married    2012-11-13       59  ...           0   \n",
       "\n",
       "    campaign_2  campaign_3  campaign_4  campaign_5  last_campaign  Complain  \\\n",
       "3            0           0           0           0              0         0   \n",
       "7            0           0           0           0              0         0   \n",
       "8            0           0           0           0              1         0   \n",
       "9            0           1           0           0              0         0   \n",
       "11           0           0           0           0              0         0   \n",
       "\n",
       "    Kidhome  Teenhome  Class_education  \n",
       "3         1         0                3  \n",
       "7         1         0                5  \n",
       "8         1         0                5  \n",
       "9         1         1                5  \n",
       "11        0         0                1  \n",
       "\n",
       "[5 rows x 31 columns]"
      ]
     },
     "execution_count": 100,
     "metadata": {},
     "output_type": "execute_result"
    }
   ],
   "source": [
    "df_l = df_l[df_l['Class_Income']=='Lower']\n",
    "df_l.head()"
   ]
  },
  {
   "cell_type": "code",
   "execution_count": 101,
   "metadata": {},
   "outputs": [
    {
     "data": {
      "text/plain": [
       "Y          42.29\n",
       "X          38.17\n",
       "Boomers    18.82\n",
       "Z           0.72\n",
       "Name: generasi, dtype: float64"
      ]
     },
     "execution_count": 101,
     "metadata": {},
     "output_type": "execute_result"
    }
   ],
   "source": [
    "Persen_generasi = (df_l['generasi'].value_counts(normalize=True) * 100).round(2)\n",
    "Persen_generasi"
   ]
  },
  {
   "cell_type": "code",
   "execution_count": 102,
   "metadata": {},
   "outputs": [
    {
     "data": {
      "text/plain": [
       "Bachelor             51.97\n",
       "PhD                  13.08\n",
       "Master               13.08\n",
       "2n Cycle             12.19\n",
       "Primary education     9.68\n",
       "Name: Education, dtype: float64"
      ]
     },
     "execution_count": 102,
     "metadata": {},
     "output_type": "execute_result"
    }
   ],
   "source": [
    "Persen_Education = (df_l['Education'].value_counts(normalize=True) * 100).round(2)\n",
    "Persen_Education"
   ]
  },
  {
   "cell_type": "code",
   "execution_count": 103,
   "metadata": {},
   "outputs": [
    {
     "data": {
      "text/plain": [
       "Kids           57.17\n",
       "Kids & Teen    18.64\n",
       "No Child       18.28\n",
       "Teen            5.91\n",
       "Name: child, dtype: float64"
      ]
     },
     "execution_count": 103,
     "metadata": {},
     "output_type": "execute_result"
    }
   ],
   "source": [
    "Persen_child = (df_l['child'].value_counts(normalize=True) * 100).round(2)\n",
    "Persen_child"
   ]
  },
  {
   "cell_type": "code",
   "execution_count": 104,
   "metadata": {},
   "outputs": [
    {
     "data": {
      "text/plain": [
       "Married     38.35\n",
       "Together    26.70\n",
       "Single      23.84\n",
       "Divorced     8.96\n",
       "Widow        2.15\n",
       "Name: Marital_Status, dtype: float64"
      ]
     },
     "execution_count": 104,
     "metadata": {},
     "output_type": "execute_result"
    }
   ],
   "source": [
    "Persen_Marital_Status = (df_l['Marital_Status'].value_counts(normalize=True) * 100).round(2)\n",
    "Persen_Marital_Status"
   ]
  },
  {
   "cell_type": "code",
   "execution_count": 105,
   "metadata": {},
   "outputs": [
    {
     "name": "stdout",
     "output_type": "stream",
     "text": [
      "berdasarkan customers dengan segment income Lower mempunyai karakteristik dominan seperti: \n",
      "customers segment income Lower paling banyak pada generasi Y dengan total 42.29 %.\n",
      "kemudian untuk tingkat pendidikan paling banyak pada tingkat pendididkan Bachelor dengan total 51.97 %.\n",
      "kemudian pada kepemilikan anak paling banyak kepemilikan Kids dengan total 57.17 %.\n",
      "dan pada status Married dengan total 38.35 %\n"
     ]
    }
   ],
   "source": [
    "print(f\"berdasarkan customers dengan segment income Lower mempunyai karakteristik dominan seperti: \")\n",
    "print(f\"customers segment income Lower paling banyak pada generasi {Persen_generasi.idxmax()} dengan total {Persen_generasi.max()} %.\")\n",
    "print(f\"kemudian untuk tingkat pendidikan paling banyak pada tingkat pendididkan {Persen_Education.idxmax()} dengan total {Persen_Education.max()} %.\")\n",
    "print(f\"kemudian pada kepemilikan anak paling banyak kepemilikan {Persen_child.idxmax()} dengan total {Persen_child.max()} %.\")\n",
    "print(f\"dan pada status {Persen_Marital_Status.idxmax()} dengan total {Persen_Marital_Status.max()} %\")"
   ]
  },
  {
   "attachments": {},
   "cell_type": "markdown",
   "metadata": {},
   "source": [
    "### Spesific demografic dari Class income UltaraRich"
   ]
  },
  {
   "cell_type": "code",
   "execution_count": 106,
   "metadata": {},
   "outputs": [],
   "source": [
    "df_Ur = df_Clean.copy()"
   ]
  },
  {
   "cell_type": "code",
   "execution_count": 107,
   "metadata": {},
   "outputs": [
    {
     "data": {
      "text/html": [
       "<div>\n",
       "<style scoped>\n",
       "    .dataframe tbody tr th:only-of-type {\n",
       "        vertical-align: middle;\n",
       "    }\n",
       "\n",
       "    .dataframe tbody tr th {\n",
       "        vertical-align: top;\n",
       "    }\n",
       "\n",
       "    .dataframe thead th {\n",
       "        text-align: right;\n",
       "    }\n",
       "</style>\n",
       "<table border=\"1\" class=\"dataframe\">\n",
       "  <thead>\n",
       "    <tr style=\"text-align: right;\">\n",
       "      <th></th>\n",
       "      <th>ID</th>\n",
       "      <th>Year_Birth</th>\n",
       "      <th>generasi</th>\n",
       "      <th>Education</th>\n",
       "      <th>Income</th>\n",
       "      <th>Class_Income</th>\n",
       "      <th>child</th>\n",
       "      <th>Marital_Status</th>\n",
       "      <th>date_customer</th>\n",
       "      <th>Recency</th>\n",
       "      <th>...</th>\n",
       "      <th>campaign_1</th>\n",
       "      <th>campaign_2</th>\n",
       "      <th>campaign_3</th>\n",
       "      <th>campaign_4</th>\n",
       "      <th>campaign_5</th>\n",
       "      <th>last_campaign</th>\n",
       "      <th>Complain</th>\n",
       "      <th>Kidhome</th>\n",
       "      <th>Teenhome</th>\n",
       "      <th>Class_education</th>\n",
       "    </tr>\n",
       "  </thead>\n",
       "  <tbody>\n",
       "    <tr>\n",
       "      <th>164</th>\n",
       "      <td>8475</td>\n",
       "      <td>1973</td>\n",
       "      <td>X</td>\n",
       "      <td>PhD</td>\n",
       "      <td>157243.0</td>\n",
       "      <td>UltraRich</td>\n",
       "      <td>Teen</td>\n",
       "      <td>Married</td>\n",
       "      <td>2014-03-01</td>\n",
       "      <td>98</td>\n",
       "      <td>...</td>\n",
       "      <td>0</td>\n",
       "      <td>0</td>\n",
       "      <td>0</td>\n",
       "      <td>0</td>\n",
       "      <td>0</td>\n",
       "      <td>0</td>\n",
       "      <td>0</td>\n",
       "      <td>0</td>\n",
       "      <td>1</td>\n",
       "      <td>5</td>\n",
       "    </tr>\n",
       "    <tr>\n",
       "      <th>617</th>\n",
       "      <td>1503</td>\n",
       "      <td>1976</td>\n",
       "      <td>X</td>\n",
       "      <td>PhD</td>\n",
       "      <td>162397.0</td>\n",
       "      <td>UltraRich</td>\n",
       "      <td>Kids &amp; Teen</td>\n",
       "      <td>Together</td>\n",
       "      <td>2013-06-03</td>\n",
       "      <td>31</td>\n",
       "      <td>...</td>\n",
       "      <td>0</td>\n",
       "      <td>0</td>\n",
       "      <td>0</td>\n",
       "      <td>0</td>\n",
       "      <td>0</td>\n",
       "      <td>0</td>\n",
       "      <td>0</td>\n",
       "      <td>1</td>\n",
       "      <td>1</td>\n",
       "      <td>5</td>\n",
       "    </tr>\n",
       "    <tr>\n",
       "      <th>655</th>\n",
       "      <td>5555</td>\n",
       "      <td>1975</td>\n",
       "      <td>X</td>\n",
       "      <td>Bachelor</td>\n",
       "      <td>153924.0</td>\n",
       "      <td>UltraRich</td>\n",
       "      <td>No Child</td>\n",
       "      <td>Divorced</td>\n",
       "      <td>2014-02-07</td>\n",
       "      <td>81</td>\n",
       "      <td>...</td>\n",
       "      <td>0</td>\n",
       "      <td>0</td>\n",
       "      <td>0</td>\n",
       "      <td>0</td>\n",
       "      <td>0</td>\n",
       "      <td>0</td>\n",
       "      <td>0</td>\n",
       "      <td>0</td>\n",
       "      <td>0</td>\n",
       "      <td>3</td>\n",
       "    </tr>\n",
       "    <tr>\n",
       "      <th>687</th>\n",
       "      <td>1501</td>\n",
       "      <td>1982</td>\n",
       "      <td>Y</td>\n",
       "      <td>PhD</td>\n",
       "      <td>160803.0</td>\n",
       "      <td>UltraRich</td>\n",
       "      <td>No Child</td>\n",
       "      <td>Married</td>\n",
       "      <td>2012-08-04</td>\n",
       "      <td>21</td>\n",
       "      <td>...</td>\n",
       "      <td>0</td>\n",
       "      <td>0</td>\n",
       "      <td>0</td>\n",
       "      <td>0</td>\n",
       "      <td>0</td>\n",
       "      <td>0</td>\n",
       "      <td>0</td>\n",
       "      <td>0</td>\n",
       "      <td>0</td>\n",
       "      <td>5</td>\n",
       "    </tr>\n",
       "    <tr>\n",
       "      <th>1300</th>\n",
       "      <td>5336</td>\n",
       "      <td>1971</td>\n",
       "      <td>X</td>\n",
       "      <td>Master</td>\n",
       "      <td>157733.0</td>\n",
       "      <td>UltraRich</td>\n",
       "      <td>Kids</td>\n",
       "      <td>Together</td>\n",
       "      <td>2013-06-04</td>\n",
       "      <td>37</td>\n",
       "      <td>...</td>\n",
       "      <td>0</td>\n",
       "      <td>0</td>\n",
       "      <td>0</td>\n",
       "      <td>0</td>\n",
       "      <td>0</td>\n",
       "      <td>0</td>\n",
       "      <td>0</td>\n",
       "      <td>1</td>\n",
       "      <td>0</td>\n",
       "      <td>4</td>\n",
       "    </tr>\n",
       "  </tbody>\n",
       "</table>\n",
       "<p>5 rows × 31 columns</p>\n",
       "</div>"
      ],
      "text/plain": [
       "        ID  Year_Birth generasi Education    Income Class_Income        child  \\\n",
       "164   8475        1973        X       PhD  157243.0    UltraRich         Teen   \n",
       "617   1503        1976        X       PhD  162397.0    UltraRich  Kids & Teen   \n",
       "655   5555        1975        X  Bachelor  153924.0    UltraRich     No Child   \n",
       "687   1501        1982        Y       PhD  160803.0    UltraRich     No Child   \n",
       "1300  5336        1971        X    Master  157733.0    UltraRich         Kids   \n",
       "\n",
       "     Marital_Status date_customer  Recency  ...  campaign_1  campaign_2  \\\n",
       "164         Married    2014-03-01       98  ...           0           0   \n",
       "617        Together    2013-06-03       31  ...           0           0   \n",
       "655        Divorced    2014-02-07       81  ...           0           0   \n",
       "687         Married    2012-08-04       21  ...           0           0   \n",
       "1300       Together    2013-06-04       37  ...           0           0   \n",
       "\n",
       "      campaign_3  campaign_4  campaign_5  last_campaign  Complain  Kidhome  \\\n",
       "164            0           0           0              0         0        0   \n",
       "617            0           0           0              0         0        1   \n",
       "655            0           0           0              0         0        0   \n",
       "687            0           0           0              0         0        0   \n",
       "1300           0           0           0              0         0        1   \n",
       "\n",
       "      Teenhome  Class_education  \n",
       "164          1                5  \n",
       "617          1                5  \n",
       "655          0                3  \n",
       "687          0                5  \n",
       "1300         0                4  \n",
       "\n",
       "[5 rows x 31 columns]"
      ]
     },
     "execution_count": 107,
     "metadata": {},
     "output_type": "execute_result"
    }
   ],
   "source": [
    "df_Ur = df_Ur[df_Ur['Class_Income']=='UltraRich']\n",
    "df_Ur.head()"
   ]
  },
  {
   "cell_type": "code",
   "execution_count": 108,
   "metadata": {},
   "outputs": [
    {
     "data": {
      "text/plain": [
       "X          50.0\n",
       "Y          37.5\n",
       "Boomers    12.5\n",
       "Name: generasi, dtype: float64"
      ]
     },
     "execution_count": 108,
     "metadata": {},
     "output_type": "execute_result"
    }
   ],
   "source": [
    "Persen_generasi = (df_Ur['generasi'].value_counts(normalize=True) * 100).round(2)\n",
    "Persen_generasi"
   ]
  },
  {
   "cell_type": "code",
   "execution_count": 109,
   "metadata": {},
   "outputs": [
    {
     "data": {
      "text/plain": [
       "PhD         50.0\n",
       "Bachelor    37.5\n",
       "Master      12.5\n",
       "Name: Education, dtype: float64"
      ]
     },
     "execution_count": 109,
     "metadata": {},
     "output_type": "execute_result"
    }
   ],
   "source": [
    "Persen_Education = (df_Ur['Education'].value_counts(normalize=True) * 100).round(2)\n",
    "Persen_Education"
   ]
  },
  {
   "cell_type": "code",
   "execution_count": 110,
   "metadata": {},
   "outputs": [
    {
     "data": {
      "text/plain": [
       "No Child       50.0\n",
       "Kids           25.0\n",
       "Teen           12.5\n",
       "Kids & Teen    12.5\n",
       "Name: child, dtype: float64"
      ]
     },
     "execution_count": 110,
     "metadata": {},
     "output_type": "execute_result"
    }
   ],
   "source": [
    "Persen_child = (df_Ur['child'].value_counts(normalize=True) * 100).round(2)\n",
    "Persen_child"
   ]
  },
  {
   "cell_type": "code",
   "execution_count": 111,
   "metadata": {},
   "outputs": [
    {
     "data": {
      "text/plain": [
       "Together    50.0\n",
       "Married     37.5\n",
       "Divorced    12.5\n",
       "Name: Marital_Status, dtype: float64"
      ]
     },
     "execution_count": 111,
     "metadata": {},
     "output_type": "execute_result"
    }
   ],
   "source": [
    "Persen_Marital_Status =(df_Ur['Marital_Status'].value_counts(normalize=True) * 100).round(2)\n",
    "Persen_Marital_Status"
   ]
  },
  {
   "cell_type": "code",
   "execution_count": 112,
   "metadata": {},
   "outputs": [
    {
     "name": "stdout",
     "output_type": "stream",
     "text": [
      "berdasarkan customers dengan segment income UltraRich mempunyai karakteristik dominan seperti: \n",
      "customers dengan segment income UltraRich paling banyak pada generasi X dengan total 50.0 %.\n",
      "kemudian untuk tingkat pendidikan paling banyak pada tingkat pendididkan PhD dengan total 50.0 %.\n",
      "kemudian pada kepemilikan anak paling banyak kepemilikan No Child dengan total 50.0 %.\n",
      "dan pada status Together dengan total 50.0 %\n"
     ]
    }
   ],
   "source": [
    "print(f\"berdasarkan customers dengan segment income UltraRich mempunyai karakteristik dominan seperti: \")\n",
    "print(f\"customers dengan segment income UltraRich paling banyak pada generasi {Persen_generasi.idxmax()} dengan total {Persen_generasi.max()} %.\")\n",
    "print(f\"kemudian untuk tingkat pendidikan paling banyak pada tingkat pendididkan {Persen_Education.idxmax()} dengan total {Persen_Education.max()} %.\")\n",
    "print(f\"kemudian pada kepemilikan anak paling banyak kepemilikan {Persen_child.idxmax()} dengan total {Persen_child.max()} %.\")\n",
    "print(f\"dan pada status {Persen_Marital_Status.idxmax()} dengan total {Persen_Marital_Status.max()} %\")"
   ]
  },
  {
   "attachments": {},
   "cell_type": "markdown",
   "metadata": {},
   "source": [
    "# 2. EDA Sales by Place"
   ]
  },
  {
   "attachments": {},
   "cell_type": "markdown",
   "metadata": {},
   "source": [
    "## 2.1 Analisis Placement Purchase dengan trafic tertinggi dan place purchases dari segment income\n",
    " "
   ]
  },
  {
   "cell_type": "code",
   "execution_count": 113,
   "metadata": {},
   "outputs": [],
   "source": [
    "df_PP = df_Clean.copy()"
   ]
  },
  {
   "cell_type": "code",
   "execution_count": 114,
   "metadata": {},
   "outputs": [],
   "source": [
    "kolom = ['ID','Web_Purchases', 'Catalog_Purchases', 'Store_Purchases','Web_Visits_Month']\n",
    "df_PP = df_PP.loc[:, kolom]"
   ]
  },
  {
   "cell_type": "code",
   "execution_count": 115,
   "metadata": {},
   "outputs": [
    {
     "data": {
      "text/html": [
       "<div>\n",
       "<style scoped>\n",
       "    .dataframe tbody tr th:only-of-type {\n",
       "        vertical-align: middle;\n",
       "    }\n",
       "\n",
       "    .dataframe tbody tr th {\n",
       "        vertical-align: top;\n",
       "    }\n",
       "\n",
       "    .dataframe thead th {\n",
       "        text-align: right;\n",
       "    }\n",
       "</style>\n",
       "<table border=\"1\" class=\"dataframe\">\n",
       "  <thead>\n",
       "    <tr style=\"text-align: right;\">\n",
       "      <th></th>\n",
       "      <th>ID</th>\n",
       "      <th>Web_Purchases</th>\n",
       "      <th>Catalog_Purchases</th>\n",
       "      <th>Store_Purchases</th>\n",
       "      <th>Web_Visits_Month</th>\n",
       "    </tr>\n",
       "  </thead>\n",
       "  <tbody>\n",
       "    <tr>\n",
       "      <th>0</th>\n",
       "      <td>5524</td>\n",
       "      <td>8</td>\n",
       "      <td>10</td>\n",
       "      <td>4</td>\n",
       "      <td>7</td>\n",
       "    </tr>\n",
       "    <tr>\n",
       "      <th>1</th>\n",
       "      <td>2174</td>\n",
       "      <td>1</td>\n",
       "      <td>1</td>\n",
       "      <td>2</td>\n",
       "      <td>5</td>\n",
       "    </tr>\n",
       "    <tr>\n",
       "      <th>2</th>\n",
       "      <td>4141</td>\n",
       "      <td>8</td>\n",
       "      <td>2</td>\n",
       "      <td>10</td>\n",
       "      <td>4</td>\n",
       "    </tr>\n",
       "    <tr>\n",
       "      <th>3</th>\n",
       "      <td>6182</td>\n",
       "      <td>2</td>\n",
       "      <td>0</td>\n",
       "      <td>4</td>\n",
       "      <td>6</td>\n",
       "    </tr>\n",
       "    <tr>\n",
       "      <th>4</th>\n",
       "      <td>5324</td>\n",
       "      <td>5</td>\n",
       "      <td>3</td>\n",
       "      <td>6</td>\n",
       "      <td>5</td>\n",
       "    </tr>\n",
       "  </tbody>\n",
       "</table>\n",
       "</div>"
      ],
      "text/plain": [
       "     ID  Web_Purchases  Catalog_Purchases  Store_Purchases  Web_Visits_Month\n",
       "0  5524              8                 10                4                 7\n",
       "1  2174              1                  1                2                 5\n",
       "2  4141              8                  2               10                 4\n",
       "3  6182              2                  0                4                 6\n",
       "4  5324              5                  3                6                 5"
      ]
     },
     "execution_count": 115,
     "metadata": {},
     "output_type": "execute_result"
    }
   ],
   "source": [
    "df_PP.head()"
   ]
  },
  {
   "cell_type": "code",
   "execution_count": 116,
   "metadata": {},
   "outputs": [],
   "source": [
    "df_melt_PP = pd.melt(df_PP, id_vars=['ID'], value_vars=['Web_Purchases', 'Catalog_Purchases', 'Store_Purchases'], var_name='Place', value_name='Total')"
   ]
  },
  {
   "cell_type": "code",
   "execution_count": 117,
   "metadata": {},
   "outputs": [
    {
     "data": {
      "text/html": [
       "<div>\n",
       "<style scoped>\n",
       "    .dataframe tbody tr th:only-of-type {\n",
       "        vertical-align: middle;\n",
       "    }\n",
       "\n",
       "    .dataframe tbody tr th {\n",
       "        vertical-align: top;\n",
       "    }\n",
       "\n",
       "    .dataframe thead th {\n",
       "        text-align: right;\n",
       "    }\n",
       "</style>\n",
       "<table border=\"1\" class=\"dataframe\">\n",
       "  <thead>\n",
       "    <tr style=\"text-align: right;\">\n",
       "      <th></th>\n",
       "      <th>ID</th>\n",
       "      <th>Place</th>\n",
       "      <th>Total</th>\n",
       "    </tr>\n",
       "  </thead>\n",
       "  <tbody>\n",
       "    <tr>\n",
       "      <th>0</th>\n",
       "      <td>5524</td>\n",
       "      <td>Web_Purchases</td>\n",
       "      <td>8</td>\n",
       "    </tr>\n",
       "    <tr>\n",
       "      <th>1</th>\n",
       "      <td>2174</td>\n",
       "      <td>Web_Purchases</td>\n",
       "      <td>1</td>\n",
       "    </tr>\n",
       "    <tr>\n",
       "      <th>2</th>\n",
       "      <td>4141</td>\n",
       "      <td>Web_Purchases</td>\n",
       "      <td>8</td>\n",
       "    </tr>\n",
       "    <tr>\n",
       "      <th>3</th>\n",
       "      <td>6182</td>\n",
       "      <td>Web_Purchases</td>\n",
       "      <td>2</td>\n",
       "    </tr>\n",
       "    <tr>\n",
       "      <th>4</th>\n",
       "      <td>5324</td>\n",
       "      <td>Web_Purchases</td>\n",
       "      <td>5</td>\n",
       "    </tr>\n",
       "  </tbody>\n",
       "</table>\n",
       "</div>"
      ],
      "text/plain": [
       "     ID          Place  Total\n",
       "0  5524  Web_Purchases      8\n",
       "1  2174  Web_Purchases      1\n",
       "2  4141  Web_Purchases      8\n",
       "3  6182  Web_Purchases      2\n",
       "4  5324  Web_Purchases      5"
      ]
     },
     "execution_count": 117,
     "metadata": {},
     "output_type": "execute_result"
    }
   ],
   "source": [
    "df_melt_PP.head()"
   ]
  },
  {
   "attachments": {},
   "cell_type": "markdown",
   "metadata": {},
   "source": [
    "mencari korelasi apakah Web_Visits_Month berpengaruh terhadap Web_Purchases"
   ]
  },
  {
   "cell_type": "code",
   "execution_count": 118,
   "metadata": {},
   "outputs": [
    {
     "data": {
      "text/plain": [
       "-0.09722232590644911"
      ]
     },
     "execution_count": 118,
     "metadata": {},
     "output_type": "execute_result"
    }
   ],
   "source": [
    "df_PP['Web_Visits_Month'].corr(df_PP['Web_Purchases'], method='spearman')"
   ]
  },
  {
   "attachments": {},
   "cell_type": "markdown",
   "metadata": {},
   "source": [
    "- berdasarkan data korelasi diatas menunjukan bahwa kunjungan website bulan terakhir tidak terlalu signifikan terhadap transaksi di website"
   ]
  },
  {
   "attachments": {},
   "cell_type": "markdown",
   "metadata": {},
   "source": [
    "**Mengetahui place purchases dari segment income**"
   ]
  },
  {
   "cell_type": "code",
   "execution_count": 119,
   "metadata": {},
   "outputs": [],
   "source": [
    "df_pi = df_Clean.copy()"
   ]
  },
  {
   "cell_type": "code",
   "execution_count": 120,
   "metadata": {},
   "outputs": [
    {
     "data": {
      "text/html": [
       "<div>\n",
       "<style scoped>\n",
       "    .dataframe tbody tr th:only-of-type {\n",
       "        vertical-align: middle;\n",
       "    }\n",
       "\n",
       "    .dataframe tbody tr th {\n",
       "        vertical-align: top;\n",
       "    }\n",
       "\n",
       "    .dataframe thead th {\n",
       "        text-align: right;\n",
       "    }\n",
       "</style>\n",
       "<table border=\"1\" class=\"dataframe\">\n",
       "  <thead>\n",
       "    <tr style=\"text-align: right;\">\n",
       "      <th></th>\n",
       "      <th>Class_Income</th>\n",
       "      <th>Web_Purchases</th>\n",
       "      <th>Catalog_Purchases</th>\n",
       "      <th>Store_Purchases</th>\n",
       "    </tr>\n",
       "  </thead>\n",
       "  <tbody>\n",
       "    <tr>\n",
       "      <th>0</th>\n",
       "      <td>Lower</td>\n",
       "      <td>1127</td>\n",
       "      <td>265</td>\n",
       "      <td>1655</td>\n",
       "    </tr>\n",
       "    <tr>\n",
       "      <th>1</th>\n",
       "      <td>Middle</td>\n",
       "      <td>5022</td>\n",
       "      <td>2480</td>\n",
       "      <td>6602</td>\n",
       "    </tr>\n",
       "    <tr>\n",
       "      <th>2</th>\n",
       "      <td>UltraRich</td>\n",
       "      <td>4</td>\n",
       "      <td>79</td>\n",
       "      <td>6</td>\n",
       "    </tr>\n",
       "    <tr>\n",
       "      <th>3</th>\n",
       "      <td>Upper</td>\n",
       "      <td>2997</td>\n",
       "      <td>3139</td>\n",
       "      <td>4707</td>\n",
       "    </tr>\n",
       "  </tbody>\n",
       "</table>\n",
       "</div>"
      ],
      "text/plain": [
       "  Class_Income  Web_Purchases  Catalog_Purchases  Store_Purchases\n",
       "0        Lower           1127                265             1655\n",
       "1       Middle           5022               2480             6602\n",
       "2    UltraRich              4                 79                6\n",
       "3        Upper           2997               3139             4707"
      ]
     },
     "execution_count": 120,
     "metadata": {},
     "output_type": "execute_result"
    }
   ],
   "source": [
    "df_sum_pi = df_pi.groupby('Class_Income').sum()[['Web_Purchases', 'Catalog_Purchases', 'Store_Purchases']].reset_index()\n",
    "df_sum_pi"
   ]
  },
  {
   "cell_type": "code",
   "execution_count": 121,
   "metadata": {},
   "outputs": [
    {
     "data": {
      "text/html": [
       "<div>\n",
       "<style scoped>\n",
       "    .dataframe tbody tr th:only-of-type {\n",
       "        vertical-align: middle;\n",
       "    }\n",
       "\n",
       "    .dataframe tbody tr th {\n",
       "        vertical-align: top;\n",
       "    }\n",
       "\n",
       "    .dataframe thead th {\n",
       "        text-align: right;\n",
       "    }\n",
       "</style>\n",
       "<table border=\"1\" class=\"dataframe\">\n",
       "  <thead>\n",
       "    <tr style=\"text-align: right;\">\n",
       "      <th></th>\n",
       "      <th>Class_Income</th>\n",
       "      <th>Place</th>\n",
       "      <th>Total</th>\n",
       "    </tr>\n",
       "  </thead>\n",
       "  <tbody>\n",
       "    <tr>\n",
       "      <th>0</th>\n",
       "      <td>Lower</td>\n",
       "      <td>Web_Purchases</td>\n",
       "      <td>1127</td>\n",
       "    </tr>\n",
       "    <tr>\n",
       "      <th>1</th>\n",
       "      <td>Middle</td>\n",
       "      <td>Web_Purchases</td>\n",
       "      <td>5022</td>\n",
       "    </tr>\n",
       "    <tr>\n",
       "      <th>2</th>\n",
       "      <td>UltraRich</td>\n",
       "      <td>Web_Purchases</td>\n",
       "      <td>4</td>\n",
       "    </tr>\n",
       "    <tr>\n",
       "      <th>3</th>\n",
       "      <td>Upper</td>\n",
       "      <td>Web_Purchases</td>\n",
       "      <td>2997</td>\n",
       "    </tr>\n",
       "    <tr>\n",
       "      <th>4</th>\n",
       "      <td>Lower</td>\n",
       "      <td>Catalog_Purchases</td>\n",
       "      <td>265</td>\n",
       "    </tr>\n",
       "  </tbody>\n",
       "</table>\n",
       "</div>"
      ],
      "text/plain": [
       "  Class_Income              Place  Total\n",
       "0        Lower      Web_Purchases   1127\n",
       "1       Middle      Web_Purchases   5022\n",
       "2    UltraRich      Web_Purchases      4\n",
       "3        Upper      Web_Purchases   2997\n",
       "4        Lower  Catalog_Purchases    265"
      ]
     },
     "execution_count": 121,
     "metadata": {},
     "output_type": "execute_result"
    }
   ],
   "source": [
    "df_melt_pi = pd.melt(df_sum_pi, id_vars=['Class_Income'], value_vars=['Web_Purchases', 'Catalog_Purchases', 'Store_Purchases'], \n",
    "                  var_name='Place', value_name='Total')\n",
    "df_melt_pi.head()"
   ]
  },
  {
   "cell_type": "code",
   "execution_count": 122,
   "metadata": {},
   "outputs": [
    {
     "data": {
      "text/html": [
       "<div>\n",
       "<style scoped>\n",
       "    .dataframe tbody tr th:only-of-type {\n",
       "        vertical-align: middle;\n",
       "    }\n",
       "\n",
       "    .dataframe tbody tr th {\n",
       "        vertical-align: top;\n",
       "    }\n",
       "\n",
       "    .dataframe thead th {\n",
       "        text-align: right;\n",
       "    }\n",
       "</style>\n",
       "<table border=\"1\" class=\"dataframe\">\n",
       "  <thead>\n",
       "    <tr style=\"text-align: right;\">\n",
       "      <th></th>\n",
       "      <th>Place</th>\n",
       "      <th>Class_Income</th>\n",
       "      <th>Total</th>\n",
       "    </tr>\n",
       "  </thead>\n",
       "  <tbody>\n",
       "    <tr>\n",
       "      <th>0</th>\n",
       "      <td>Web_Purchases</td>\n",
       "      <td>Lower</td>\n",
       "      <td>1127</td>\n",
       "    </tr>\n",
       "    <tr>\n",
       "      <th>1</th>\n",
       "      <td>Web_Purchases</td>\n",
       "      <td>Middle</td>\n",
       "      <td>5022</td>\n",
       "    </tr>\n",
       "    <tr>\n",
       "      <th>2</th>\n",
       "      <td>Web_Purchases</td>\n",
       "      <td>UltraRich</td>\n",
       "      <td>4</td>\n",
       "    </tr>\n",
       "    <tr>\n",
       "      <th>3</th>\n",
       "      <td>Web_Purchases</td>\n",
       "      <td>Upper</td>\n",
       "      <td>2997</td>\n",
       "    </tr>\n",
       "    <tr>\n",
       "      <th>4</th>\n",
       "      <td>Catalog_Purchases</td>\n",
       "      <td>Lower</td>\n",
       "      <td>265</td>\n",
       "    </tr>\n",
       "  </tbody>\n",
       "</table>\n",
       "</div>"
      ],
      "text/plain": [
       "               Place Class_Income  Total\n",
       "0      Web_Purchases        Lower   1127\n",
       "1      Web_Purchases       Middle   5022\n",
       "2      Web_Purchases    UltraRich      4\n",
       "3      Web_Purchases        Upper   2997\n",
       "4  Catalog_Purchases        Lower    265"
      ]
     },
     "execution_count": 122,
     "metadata": {},
     "output_type": "execute_result"
    }
   ],
   "source": [
    "df_pi_clean = df_melt_pi.reindex(columns=['Place','Class_Income','Total'])\n",
    "B = df_pi_clean\n",
    "B.head()"
   ]
  },
  {
   "attachments": {},
   "cell_type": "markdown",
   "metadata": {},
   "source": [
    "'Total of Transaction by Place Purchases for 2 yeras"
   ]
  },
  {
   "cell_type": "code",
   "execution_count": 123,
   "metadata": {},
   "outputs": [
    {
     "data": {
      "text/html": [
       "<div>\n",
       "<style scoped>\n",
       "    .dataframe tbody tr th:only-of-type {\n",
       "        vertical-align: middle;\n",
       "    }\n",
       "\n",
       "    .dataframe tbody tr th {\n",
       "        vertical-align: top;\n",
       "    }\n",
       "\n",
       "    .dataframe thead th {\n",
       "        text-align: right;\n",
       "    }\n",
       "</style>\n",
       "<table border=\"1\" class=\"dataframe\">\n",
       "  <thead>\n",
       "    <tr style=\"text-align: right;\">\n",
       "      <th></th>\n",
       "      <th>Place</th>\n",
       "      <th>Total</th>\n",
       "    </tr>\n",
       "  </thead>\n",
       "  <tbody>\n",
       "    <tr>\n",
       "      <th>0</th>\n",
       "      <td>Catalog_Purchases</td>\n",
       "      <td>5963</td>\n",
       "    </tr>\n",
       "    <tr>\n",
       "      <th>1</th>\n",
       "      <td>Store_Purchases</td>\n",
       "      <td>12970</td>\n",
       "    </tr>\n",
       "    <tr>\n",
       "      <th>2</th>\n",
       "      <td>Web_Purchases</td>\n",
       "      <td>9150</td>\n",
       "    </tr>\n",
       "  </tbody>\n",
       "</table>\n",
       "</div>"
      ],
      "text/plain": [
       "               Place  Total\n",
       "0  Catalog_Purchases   5963\n",
       "1    Store_Purchases  12970\n",
       "2      Web_Purchases   9150"
      ]
     },
     "execution_count": 123,
     "metadata": {},
     "output_type": "execute_result"
    }
   ],
   "source": [
    "df_melt_PP.groupby('Place').sum()['Total'].reset_index()"
   ]
  },
  {
   "attachments": {},
   "cell_type": "markdown",
   "metadata": {},
   "source": [
    "total of Transaction per Class Income based on place purchases"
   ]
  },
  {
   "cell_type": "code",
   "execution_count": 124,
   "metadata": {},
   "outputs": [
    {
     "data": {
      "text/html": [
       "<div>\n",
       "<style scoped>\n",
       "    .dataframe tbody tr th:only-of-type {\n",
       "        vertical-align: middle;\n",
       "    }\n",
       "\n",
       "    .dataframe tbody tr th {\n",
       "        vertical-align: top;\n",
       "    }\n",
       "\n",
       "    .dataframe thead th {\n",
       "        text-align: right;\n",
       "    }\n",
       "</style>\n",
       "<table border=\"1\" class=\"dataframe\">\n",
       "  <thead>\n",
       "    <tr style=\"text-align: right;\">\n",
       "      <th></th>\n",
       "      <th>Class_Income</th>\n",
       "      <th>Web_Purchases</th>\n",
       "      <th>Catalog_Purchases</th>\n",
       "      <th>Store_Purchases</th>\n",
       "    </tr>\n",
       "  </thead>\n",
       "  <tbody>\n",
       "    <tr>\n",
       "      <th>0</th>\n",
       "      <td>Lower</td>\n",
       "      <td>1127</td>\n",
       "      <td>265</td>\n",
       "      <td>1655</td>\n",
       "    </tr>\n",
       "    <tr>\n",
       "      <th>1</th>\n",
       "      <td>Middle</td>\n",
       "      <td>5022</td>\n",
       "      <td>2480</td>\n",
       "      <td>6602</td>\n",
       "    </tr>\n",
       "    <tr>\n",
       "      <th>2</th>\n",
       "      <td>UltraRich</td>\n",
       "      <td>4</td>\n",
       "      <td>79</td>\n",
       "      <td>6</td>\n",
       "    </tr>\n",
       "    <tr>\n",
       "      <th>3</th>\n",
       "      <td>Upper</td>\n",
       "      <td>2997</td>\n",
       "      <td>3139</td>\n",
       "      <td>4707</td>\n",
       "    </tr>\n",
       "  </tbody>\n",
       "</table>\n",
       "</div>"
      ],
      "text/plain": [
       "  Class_Income  Web_Purchases  Catalog_Purchases  Store_Purchases\n",
       "0        Lower           1127                265             1655\n",
       "1       Middle           5022               2480             6602\n",
       "2    UltraRich              4                 79                6\n",
       "3        Upper           2997               3139             4707"
      ]
     },
     "execution_count": 124,
     "metadata": {},
     "output_type": "execute_result"
    }
   ],
   "source": [
    "df_sum_pi"
   ]
  },
  {
   "cell_type": "code",
   "execution_count": 125,
   "metadata": {},
   "outputs": [
    {
     "data": {
      "image/png": "[encoded data removed]",
      "text/plain": [
       "<Figure size 2000x600 with 2 Axes>"
      ]
     },
     "metadata": {},
     "output_type": "display_data"
    }
   ],
   "source": [
    "fig, axes = plt.subplots(1, 2, figsize=(20, 6))\n",
    "sns.barplot(data= B,x='Class_Income',y='Total',estimator=np.sum,ci=0,hue='Place',ax=axes[1])\n",
    "sns.barplot(data=df_melt_PP, x='Place', y='Total', estimator=np.sum, ci=0,ax=axes[0])\n",
    "plt.suptitle('Place Purchases Overview')\n",
    "axes[0].set_title('Total of Transaction by Place Purchases for 2 yeras')\n",
    "axes[1].set_title('total of Transaction per Class Income based on place purchases')\n",
    "\n",
    "plt.show()"
   ]
  },
  {
   "attachments": {},
   "cell_type": "markdown",
   "metadata": {},
   "source": [
    "insight:\n",
    "\n",
    "- dari data jumlah transaksi place purchase menunjukan bahwa seseorang sering melakukan belanja di store dengan total 12970 transaksi. sedangkan di website dengan total 9150 transaksi. dan catalog dengan 5963 transaksi.\n",
    "- data diatas menunjukan bahwa segment kelompok upper lebih suka berbelanja di store dengan 4.707 transaksi.\n",
    "- sedangkan pada segment kelompok middle lebih suka berbelanja di Store dengan total 6602 transaksi. kemuadian berbelanja di website dengan 5022 transaksi.\n",
    "- sedangkan pada segment kelompok lower lebih suka berbelanja di Store dengan total 1655 transaksi. kemuadian berbelanja di website dengan 1127 transaksi.\n",
    "- sedangkan pada segment kelompok UltraRich lebih suka berbelanja di Catalog dengan total 79 transaksi.\n"
   ]
  },
  {
   "attachments": {},
   "cell_type": "markdown",
   "metadata": {},
   "source": [
    "## 2.2 mengukur daya beli customers dalam 1 kali transaksi"
   ]
  },
  {
   "cell_type": "code",
   "execution_count": 126,
   "metadata": {},
   "outputs": [],
   "source": [
    "df_uji = df_Clean.copy()"
   ]
  },
  {
   "cell_type": "code",
   "execution_count": 127,
   "metadata": {},
   "outputs": [
    {
     "data": {
      "text/html": [
       "<div>\n",
       "<style scoped>\n",
       "    .dataframe tbody tr th:only-of-type {\n",
       "        vertical-align: middle;\n",
       "    }\n",
       "\n",
       "    .dataframe tbody tr th {\n",
       "        vertical-align: top;\n",
       "    }\n",
       "\n",
       "    .dataframe thead th {\n",
       "        text-align: right;\n",
       "    }\n",
       "</style>\n",
       "<table border=\"1\" class=\"dataframe\">\n",
       "  <thead>\n",
       "    <tr style=\"text-align: right;\">\n",
       "      <th></th>\n",
       "      <th>ID</th>\n",
       "      <th>Class_Income</th>\n",
       "      <th>Wines_Product</th>\n",
       "      <th>Fruits_Product</th>\n",
       "      <th>Meat_Product</th>\n",
       "      <th>Fish_Product</th>\n",
       "      <th>Sweet_Product</th>\n",
       "      <th>Gold_Product</th>\n",
       "      <th>Web_Purchases</th>\n",
       "      <th>Catalog_Purchases</th>\n",
       "      <th>Store_Purchases</th>\n",
       "      <th>Web_Visits_Month</th>\n",
       "    </tr>\n",
       "  </thead>\n",
       "  <tbody>\n",
       "    <tr>\n",
       "      <th>0</th>\n",
       "      <td>5524</td>\n",
       "      <td>Middle</td>\n",
       "      <td>635</td>\n",
       "      <td>88</td>\n",
       "      <td>546</td>\n",
       "      <td>172</td>\n",
       "      <td>88</td>\n",
       "      <td>88</td>\n",
       "      <td>8</td>\n",
       "      <td>10</td>\n",
       "      <td>4</td>\n",
       "      <td>7</td>\n",
       "    </tr>\n",
       "    <tr>\n",
       "      <th>1</th>\n",
       "      <td>2174</td>\n",
       "      <td>Middle</td>\n",
       "      <td>11</td>\n",
       "      <td>1</td>\n",
       "      <td>6</td>\n",
       "      <td>2</td>\n",
       "      <td>1</td>\n",
       "      <td>6</td>\n",
       "      <td>1</td>\n",
       "      <td>1</td>\n",
       "      <td>2</td>\n",
       "      <td>5</td>\n",
       "    </tr>\n",
       "    <tr>\n",
       "      <th>2</th>\n",
       "      <td>4141</td>\n",
       "      <td>Upper</td>\n",
       "      <td>426</td>\n",
       "      <td>49</td>\n",
       "      <td>127</td>\n",
       "      <td>111</td>\n",
       "      <td>21</td>\n",
       "      <td>42</td>\n",
       "      <td>8</td>\n",
       "      <td>2</td>\n",
       "      <td>10</td>\n",
       "      <td>4</td>\n",
       "    </tr>\n",
       "    <tr>\n",
       "      <th>3</th>\n",
       "      <td>6182</td>\n",
       "      <td>Lower</td>\n",
       "      <td>11</td>\n",
       "      <td>4</td>\n",
       "      <td>20</td>\n",
       "      <td>10</td>\n",
       "      <td>3</td>\n",
       "      <td>5</td>\n",
       "      <td>2</td>\n",
       "      <td>0</td>\n",
       "      <td>4</td>\n",
       "      <td>6</td>\n",
       "    </tr>\n",
       "    <tr>\n",
       "      <th>4</th>\n",
       "      <td>5324</td>\n",
       "      <td>Middle</td>\n",
       "      <td>173</td>\n",
       "      <td>43</td>\n",
       "      <td>118</td>\n",
       "      <td>46</td>\n",
       "      <td>27</td>\n",
       "      <td>15</td>\n",
       "      <td>5</td>\n",
       "      <td>3</td>\n",
       "      <td>6</td>\n",
       "      <td>5</td>\n",
       "    </tr>\n",
       "  </tbody>\n",
       "</table>\n",
       "</div>"
      ],
      "text/plain": [
       "     ID Class_Income  Wines_Product  Fruits_Product  Meat_Product  \\\n",
       "0  5524       Middle            635              88           546   \n",
       "1  2174       Middle             11               1             6   \n",
       "2  4141        Upper            426              49           127   \n",
       "3  6182        Lower             11               4            20   \n",
       "4  5324       Middle            173              43           118   \n",
       "\n",
       "   Fish_Product  Sweet_Product  Gold_Product  Web_Purchases  \\\n",
       "0           172             88            88              8   \n",
       "1             2              1             6              1   \n",
       "2           111             21            42              8   \n",
       "3            10              3             5              2   \n",
       "4            46             27            15              5   \n",
       "\n",
       "   Catalog_Purchases  Store_Purchases  Web_Visits_Month  \n",
       "0                 10                4                 7  \n",
       "1                  1                2                 5  \n",
       "2                  2               10                 4  \n",
       "3                  0                4                 6  \n",
       "4                  3                6                 5  "
      ]
     },
     "execution_count": 127,
     "metadata": {},
     "output_type": "execute_result"
    }
   ],
   "source": [
    "kolom = ['ID','Class_Income','Wines_Product',\n",
    "       'Fruits_Product', 'Meat_Product', 'Fish_Product', 'Sweet_Product',\n",
    "       'Gold_Product', 'Web_Purchases', 'Catalog_Purchases', 'Store_Purchases',\n",
    "       'Web_Visits_Month',]\n",
    "df_uji = df_uji.loc[:, kolom]\n",
    "df_uji.head()"
   ]
  },
  {
   "cell_type": "code",
   "execution_count": 128,
   "metadata": {},
   "outputs": [],
   "source": [
    "df_uji['Total_Quntity'] = df_uji[['Wines_Product',\n",
    "       'Fruits_Product', 'Meat_Product', 'Fish_Product', 'Sweet_Product',\n",
    "       'Gold_Product']].sum(axis=1)"
   ]
  },
  {
   "cell_type": "code",
   "execution_count": 129,
   "metadata": {},
   "outputs": [],
   "source": [
    "df_uji['Total_Placement'] = df_uji[['Web_Purchases', 'Catalog_Purchases', 'Store_Purchases']].sum(axis=1)"
   ]
  },
  {
   "cell_type": "code",
   "execution_count": 130,
   "metadata": {},
   "outputs": [],
   "source": [
    "# saya drop karena tidak terjadi di place purchase manapun\n",
    "df_uji = df_uji.drop(df_uji[df_uji['Total_Placement'] == 0].index)"
   ]
  },
  {
   "cell_type": "code",
   "execution_count": 131,
   "metadata": {},
   "outputs": [],
   "source": [
    "df_uji['Basket_size'] = (df_uji['Total_Quntity'] / df_uji['Total_Placement']).round(2)"
   ]
  },
  {
   "cell_type": "code",
   "execution_count": 132,
   "metadata": {},
   "outputs": [
    {
     "data": {
      "text/html": [
       "<div>\n",
       "<style scoped>\n",
       "    .dataframe tbody tr th:only-of-type {\n",
       "        vertical-align: middle;\n",
       "    }\n",
       "\n",
       "    .dataframe tbody tr th {\n",
       "        vertical-align: top;\n",
       "    }\n",
       "\n",
       "    .dataframe thead th {\n",
       "        text-align: right;\n",
       "    }\n",
       "</style>\n",
       "<table border=\"1\" class=\"dataframe\">\n",
       "  <thead>\n",
       "    <tr style=\"text-align: right;\">\n",
       "      <th></th>\n",
       "      <th>ID</th>\n",
       "      <th>Class_Income</th>\n",
       "      <th>Wines_Product</th>\n",
       "      <th>Fruits_Product</th>\n",
       "      <th>Meat_Product</th>\n",
       "      <th>Fish_Product</th>\n",
       "      <th>Sweet_Product</th>\n",
       "      <th>Gold_Product</th>\n",
       "      <th>Web_Purchases</th>\n",
       "      <th>Catalog_Purchases</th>\n",
       "      <th>Store_Purchases</th>\n",
       "      <th>Web_Visits_Month</th>\n",
       "      <th>Total_Quntity</th>\n",
       "      <th>Total_Placement</th>\n",
       "      <th>Basket_size</th>\n",
       "    </tr>\n",
       "  </thead>\n",
       "  <tbody>\n",
       "    <tr>\n",
       "      <th>0</th>\n",
       "      <td>5524</td>\n",
       "      <td>Middle</td>\n",
       "      <td>635</td>\n",
       "      <td>88</td>\n",
       "      <td>546</td>\n",
       "      <td>172</td>\n",
       "      <td>88</td>\n",
       "      <td>88</td>\n",
       "      <td>8</td>\n",
       "      <td>10</td>\n",
       "      <td>4</td>\n",
       "      <td>7</td>\n",
       "      <td>1617</td>\n",
       "      <td>22</td>\n",
       "      <td>73.50</td>\n",
       "    </tr>\n",
       "    <tr>\n",
       "      <th>1</th>\n",
       "      <td>2174</td>\n",
       "      <td>Middle</td>\n",
       "      <td>11</td>\n",
       "      <td>1</td>\n",
       "      <td>6</td>\n",
       "      <td>2</td>\n",
       "      <td>1</td>\n",
       "      <td>6</td>\n",
       "      <td>1</td>\n",
       "      <td>1</td>\n",
       "      <td>2</td>\n",
       "      <td>5</td>\n",
       "      <td>27</td>\n",
       "      <td>4</td>\n",
       "      <td>6.75</td>\n",
       "    </tr>\n",
       "    <tr>\n",
       "      <th>2</th>\n",
       "      <td>4141</td>\n",
       "      <td>Upper</td>\n",
       "      <td>426</td>\n",
       "      <td>49</td>\n",
       "      <td>127</td>\n",
       "      <td>111</td>\n",
       "      <td>21</td>\n",
       "      <td>42</td>\n",
       "      <td>8</td>\n",
       "      <td>2</td>\n",
       "      <td>10</td>\n",
       "      <td>4</td>\n",
       "      <td>776</td>\n",
       "      <td>20</td>\n",
       "      <td>38.80</td>\n",
       "    </tr>\n",
       "    <tr>\n",
       "      <th>3</th>\n",
       "      <td>6182</td>\n",
       "      <td>Lower</td>\n",
       "      <td>11</td>\n",
       "      <td>4</td>\n",
       "      <td>20</td>\n",
       "      <td>10</td>\n",
       "      <td>3</td>\n",
       "      <td>5</td>\n",
       "      <td>2</td>\n",
       "      <td>0</td>\n",
       "      <td>4</td>\n",
       "      <td>6</td>\n",
       "      <td>53</td>\n",
       "      <td>6</td>\n",
       "      <td>8.83</td>\n",
       "    </tr>\n",
       "    <tr>\n",
       "      <th>4</th>\n",
       "      <td>5324</td>\n",
       "      <td>Middle</td>\n",
       "      <td>173</td>\n",
       "      <td>43</td>\n",
       "      <td>118</td>\n",
       "      <td>46</td>\n",
       "      <td>27</td>\n",
       "      <td>15</td>\n",
       "      <td>5</td>\n",
       "      <td>3</td>\n",
       "      <td>6</td>\n",
       "      <td>5</td>\n",
       "      <td>422</td>\n",
       "      <td>14</td>\n",
       "      <td>30.14</td>\n",
       "    </tr>\n",
       "  </tbody>\n",
       "</table>\n",
       "</div>"
      ],
      "text/plain": [
       "     ID Class_Income  Wines_Product  Fruits_Product  Meat_Product  \\\n",
       "0  5524       Middle            635              88           546   \n",
       "1  2174       Middle             11               1             6   \n",
       "2  4141        Upper            426              49           127   \n",
       "3  6182        Lower             11               4            20   \n",
       "4  5324       Middle            173              43           118   \n",
       "\n",
       "   Fish_Product  Sweet_Product  Gold_Product  Web_Purchases  \\\n",
       "0           172             88            88              8   \n",
       "1             2              1             6              1   \n",
       "2           111             21            42              8   \n",
       "3            10              3             5              2   \n",
       "4            46             27            15              5   \n",
       "\n",
       "   Catalog_Purchases  Store_Purchases  Web_Visits_Month  Total_Quntity  \\\n",
       "0                 10                4                 7           1617   \n",
       "1                  1                2                 5             27   \n",
       "2                  2               10                 4            776   \n",
       "3                  0                4                 6             53   \n",
       "4                  3                6                 5            422   \n",
       "\n",
       "   Total_Placement  Basket_size  \n",
       "0               22        73.50  \n",
       "1                4         6.75  \n",
       "2               20        38.80  \n",
       "3                6         8.83  \n",
       "4               14        30.14  "
      ]
     },
     "execution_count": 132,
     "metadata": {},
     "output_type": "execute_result"
    }
   ],
   "source": [
    "df_uji.head()"
   ]
  },
  {
   "cell_type": "code",
   "execution_count": 133,
   "metadata": {},
   "outputs": [
    {
     "data": {
      "text/html": [
       "<div>\n",
       "<style scoped>\n",
       "    .dataframe tbody tr th:only-of-type {\n",
       "        vertical-align: middle;\n",
       "    }\n",
       "\n",
       "    .dataframe tbody tr th {\n",
       "        vertical-align: top;\n",
       "    }\n",
       "\n",
       "    .dataframe thead th {\n",
       "        text-align: right;\n",
       "    }\n",
       "</style>\n",
       "<table border=\"1\" class=\"dataframe\">\n",
       "  <thead>\n",
       "    <tr style=\"text-align: right;\">\n",
       "      <th></th>\n",
       "      <th>Class_Income</th>\n",
       "      <th>Basket_size</th>\n",
       "    </tr>\n",
       "  </thead>\n",
       "  <tbody>\n",
       "    <tr>\n",
       "      <th>0</th>\n",
       "      <td>Middle</td>\n",
       "      <td>73.50</td>\n",
       "    </tr>\n",
       "    <tr>\n",
       "      <th>1</th>\n",
       "      <td>Middle</td>\n",
       "      <td>6.75</td>\n",
       "    </tr>\n",
       "    <tr>\n",
       "      <th>2</th>\n",
       "      <td>Upper</td>\n",
       "      <td>38.80</td>\n",
       "    </tr>\n",
       "    <tr>\n",
       "      <th>3</th>\n",
       "      <td>Lower</td>\n",
       "      <td>8.83</td>\n",
       "    </tr>\n",
       "    <tr>\n",
       "      <th>4</th>\n",
       "      <td>Middle</td>\n",
       "      <td>30.14</td>\n",
       "    </tr>\n",
       "  </tbody>\n",
       "</table>\n",
       "</div>"
      ],
      "text/plain": [
       "  Class_Income  Basket_size\n",
       "0       Middle        73.50\n",
       "1       Middle         6.75\n",
       "2        Upper        38.80\n",
       "3        Lower         8.83\n",
       "4       Middle        30.14"
      ]
     },
     "execution_count": 133,
     "metadata": {},
     "output_type": "execute_result"
    }
   ],
   "source": [
    "kolom = ['Class_Income','Basket_size']\n",
    "df_uji = df_uji.loc[:, kolom]\n",
    "df_uji.head()"
   ]
  },
  {
   "cell_type": "code",
   "execution_count": 134,
   "metadata": {},
   "outputs": [
    {
     "data": {
      "text/html": [
       "<div>\n",
       "<style scoped>\n",
       "    .dataframe tbody tr th:only-of-type {\n",
       "        vertical-align: middle;\n",
       "    }\n",
       "\n",
       "    .dataframe tbody tr th {\n",
       "        vertical-align: top;\n",
       "    }\n",
       "\n",
       "    .dataframe thead th {\n",
       "        text-align: right;\n",
       "    }\n",
       "</style>\n",
       "<table border=\"1\" class=\"dataframe\">\n",
       "  <thead>\n",
       "    <tr style=\"text-align: right;\">\n",
       "      <th></th>\n",
       "      <th>Basket_size</th>\n",
       "    </tr>\n",
       "    <tr>\n",
       "      <th>Class_Income</th>\n",
       "      <th></th>\n",
       "    </tr>\n",
       "  </thead>\n",
       "  <tbody>\n",
       "    <tr>\n",
       "      <th>Lower</th>\n",
       "      <td>13.0</td>\n",
       "    </tr>\n",
       "    <tr>\n",
       "      <th>Middle</th>\n",
       "      <td>33.0</td>\n",
       "    </tr>\n",
       "    <tr>\n",
       "      <th>UltraRich</th>\n",
       "      <td>57.0</td>\n",
       "    </tr>\n",
       "    <tr>\n",
       "      <th>Upper</th>\n",
       "      <td>73.0</td>\n",
       "    </tr>\n",
       "  </tbody>\n",
       "</table>\n",
       "</div>"
      ],
      "text/plain": [
       "              Basket_size\n",
       "Class_Income             \n",
       "Lower                13.0\n",
       "Middle               33.0\n",
       "UltraRich            57.0\n",
       "Upper                73.0"
      ]
     },
     "execution_count": 134,
     "metadata": {},
     "output_type": "execute_result"
    }
   ],
   "source": [
    "df_uji.groupby(by =['Class_Income']).mean()[['Basket_size']].round(0)"
   ]
  },
  {
   "cell_type": "code",
   "execution_count": 135,
   "metadata": {},
   "outputs": [
    {
     "data": {
      "text/plain": [
       "Text(0.5, 1.0, 'Average income Class Segment Buy the Product per Once Transaction')"
      ]
     },
     "execution_count": 135,
     "metadata": {},
     "output_type": "execute_result"
    },
    {
     "data": {
      "image/png": "[encoded data removed]",
      "text/plain": [
       "<Figure size 640x480 with 1 Axes>"
      ]
     },
     "metadata": {},
     "output_type": "display_data"
    }
   ],
   "source": [
    "sns.barplot(data=df_uji, x='Class_Income', y='Basket_size', estimator=np.mean, ci=0);\n",
    "plt.title('Average income Class Segment Buy the Product per Once Transaction')"
   ]
  },
  {
   "attachments": {},
   "cell_type": "markdown",
   "metadata": {},
   "source": [
    "Insight:\n",
    "- dari data di atas menunjukan bahwa rata-rata dalam 1 transaksi kelompok income upper dapat membeli 73 piece. sedangkan kelompok income UltraRich dapat membeli 57 piece dalam 1 kali transaksi. sedangkan kelompok income Middle dapat membeli 33 piece dalam 1 kali transaksi dan kelompok income UltraRich dapat membeli 13 piece dalam 1 kali transaksi"
   ]
  },
  {
   "attachments": {},
   "cell_type": "markdown",
   "metadata": {},
   "source": [
    "## 2.3 Mengukur daya beli rata-rata customers per hari"
   ]
  },
  {
   "cell_type": "code",
   "execution_count": 136,
   "metadata": {},
   "outputs": [],
   "source": [
    "df_inven  = df_Clean.copy()"
   ]
  },
  {
   "cell_type": "code",
   "execution_count": 137,
   "metadata": {},
   "outputs": [],
   "source": [
    "kolom = ['ID','Class_Income','Recency', 'Wines_Product',\n",
    "       'Fruits_Product', 'Meat_Product', 'Fish_Product', 'Sweet_Product',\n",
    "       'Gold_Product']\n",
    "df_inven = df_inven.loc[:, kolom]"
   ]
  },
  {
   "cell_type": "code",
   "execution_count": 138,
   "metadata": {},
   "outputs": [],
   "source": [
    "df_inven['total_sales'] = df_inven[['Wines_Product',\n",
    "       'Fruits_Product', 'Meat_Product', 'Fish_Product', 'Sweet_Product',\n",
    "       'Gold_Product']].sum(axis=1)"
   ]
  },
  {
   "cell_type": "code",
   "execution_count": 139,
   "metadata": {},
   "outputs": [],
   "source": [
    "# menghitung daya beli kemampuan konsumen per harinya selama 2 tahun\n",
    "# dengan cara:  total belanja selam 2 tahun dibagi 2 tahun(365hari x 2) - pembelian terakhir\n",
    "# disini saya mengabaikan hari tutup toko.\n",
    "\n",
    "df_inven['basket_size'] = (df_inven['total_sales'] / ((365*2) - df_inven['Recency'])).round(2)"
   ]
  },
  {
   "cell_type": "code",
   "execution_count": 140,
   "metadata": {},
   "outputs": [
    {
     "data": {
      "text/html": [
       "<div>\n",
       "<style scoped>\n",
       "    .dataframe tbody tr th:only-of-type {\n",
       "        vertical-align: middle;\n",
       "    }\n",
       "\n",
       "    .dataframe tbody tr th {\n",
       "        vertical-align: top;\n",
       "    }\n",
       "\n",
       "    .dataframe thead th {\n",
       "        text-align: right;\n",
       "    }\n",
       "</style>\n",
       "<table border=\"1\" class=\"dataframe\">\n",
       "  <thead>\n",
       "    <tr style=\"text-align: right;\">\n",
       "      <th></th>\n",
       "      <th>Class_Income</th>\n",
       "      <th>basket_size</th>\n",
       "    </tr>\n",
       "  </thead>\n",
       "  <tbody>\n",
       "    <tr>\n",
       "      <th>0</th>\n",
       "      <td>Lower</td>\n",
       "      <td>0.12</td>\n",
       "    </tr>\n",
       "    <tr>\n",
       "      <th>1</th>\n",
       "      <td>Middle</td>\n",
       "      <td>0.72</td>\n",
       "    </tr>\n",
       "    <tr>\n",
       "      <th>2</th>\n",
       "      <td>UltraRich</td>\n",
       "      <td>0.96</td>\n",
       "    </tr>\n",
       "    <tr>\n",
       "      <th>3</th>\n",
       "      <td>Upper</td>\n",
       "      <td>2.01</td>\n",
       "    </tr>\n",
       "  </tbody>\n",
       "</table>\n",
       "</div>"
      ],
      "text/plain": [
       "  Class_Income  basket_size\n",
       "0        Lower         0.12\n",
       "1       Middle         0.72\n",
       "2    UltraRich         0.96\n",
       "3        Upper         2.01"
      ]
     },
     "execution_count": 140,
     "metadata": {},
     "output_type": "execute_result"
    }
   ],
   "source": [
    "df_mean_inven = df_inven.groupby('Class_Income').mean()['basket_size'].reset_index()\n",
    "df_mean_inven.round(2)"
   ]
  },
  {
   "cell_type": "code",
   "execution_count": 141,
   "metadata": {},
   "outputs": [
    {
     "data": {
      "text/plain": [
       "Text(0.5, 1.0, 'Average Income Class Segment Buy the Product Per Day')"
      ]
     },
     "execution_count": 141,
     "metadata": {},
     "output_type": "execute_result"
    },
    {
     "data": {
      "image/png": "[encoded data removed]",
      "text/plain": [
       "<Figure size 640x480 with 1 Axes>"
      ]
     },
     "metadata": {},
     "output_type": "display_data"
    }
   ],
   "source": [
    "sns.barplot(data=df_mean_inven,x='Class_Income', y='basket_size',ci=0,)\n",
    "plt.title('Average Income Class Segment Buy the Product Per Day')"
   ]
  },
  {
   "attachments": {},
   "cell_type": "markdown",
   "metadata": {},
   "source": [
    "Insight:\n",
    "- berdasarakan table diatas menunjukan rata-rata daya beli tertinggi pada kelompok upper dengan 2 unit product perharinya\n",
    "- sedangkan daya beli terendah pada kelompok lower "
   ]
  },
  {
   "attachments": {},
   "cell_type": "markdown",
   "metadata": {},
   "source": [
    "# 3. EDA Sales by Promotion"
   ]
  },
  {
   "attachments": {},
   "cell_type": "markdown",
   "metadata": {},
   "source": [
    "## validasi faktor2 di bagian promotion"
   ]
  },
  {
   "cell_type": "code",
   "execution_count": 142,
   "metadata": {},
   "outputs": [],
   "source": [
    "qw = df_Clean.copy()"
   ]
  },
  {
   "cell_type": "code",
   "execution_count": 143,
   "metadata": {},
   "outputs": [],
   "source": [
    "A = qw[qw['Deals_Purchases']== 0]"
   ]
  },
  {
   "cell_type": "code",
   "execution_count": 144,
   "metadata": {},
   "outputs": [
    {
     "data": {
      "text/html": [
       "<div>\n",
       "<style scoped>\n",
       "    .dataframe tbody tr th:only-of-type {\n",
       "        vertical-align: middle;\n",
       "    }\n",
       "\n",
       "    .dataframe tbody tr th {\n",
       "        vertical-align: top;\n",
       "    }\n",
       "\n",
       "    .dataframe thead th {\n",
       "        text-align: right;\n",
       "    }\n",
       "</style>\n",
       "<table border=\"1\" class=\"dataframe\">\n",
       "  <thead>\n",
       "    <tr style=\"text-align: right;\">\n",
       "      <th></th>\n",
       "      <th>ID</th>\n",
       "      <th>Deals_Purchases</th>\n",
       "      <th>campaign_1</th>\n",
       "      <th>campaign_2</th>\n",
       "      <th>campaign_3</th>\n",
       "      <th>campaign_4</th>\n",
       "      <th>campaign_5</th>\n",
       "      <th>last_campaign</th>\n",
       "    </tr>\n",
       "  </thead>\n",
       "  <tbody>\n",
       "    <tr>\n",
       "      <th>27</th>\n",
       "      <td>5255</td>\n",
       "      <td>0</td>\n",
       "      <td>0</td>\n",
       "      <td>0</td>\n",
       "      <td>0</td>\n",
       "      <td>0</td>\n",
       "      <td>0</td>\n",
       "      <td>0</td>\n",
       "    </tr>\n",
       "    <tr>\n",
       "      <th>77</th>\n",
       "      <td>7503</td>\n",
       "      <td>0</td>\n",
       "      <td>0</td>\n",
       "      <td>0</td>\n",
       "      <td>1</td>\n",
       "      <td>0</td>\n",
       "      <td>0</td>\n",
       "      <td>1</td>\n",
       "    </tr>\n",
       "    <tr>\n",
       "      <th>116</th>\n",
       "      <td>1592</td>\n",
       "      <td>0</td>\n",
       "      <td>1</td>\n",
       "      <td>0</td>\n",
       "      <td>0</td>\n",
       "      <td>0</td>\n",
       "      <td>1</td>\n",
       "      <td>0</td>\n",
       "    </tr>\n",
       "    <tr>\n",
       "      <th>124</th>\n",
       "      <td>7215</td>\n",
       "      <td>0</td>\n",
       "      <td>1</td>\n",
       "      <td>0</td>\n",
       "      <td>0</td>\n",
       "      <td>1</td>\n",
       "      <td>1</td>\n",
       "      <td>1</td>\n",
       "    </tr>\n",
       "    <tr>\n",
       "      <th>203</th>\n",
       "      <td>2798</td>\n",
       "      <td>0</td>\n",
       "      <td>1</td>\n",
       "      <td>0</td>\n",
       "      <td>0</td>\n",
       "      <td>1</td>\n",
       "      <td>1</td>\n",
       "      <td>1</td>\n",
       "    </tr>\n",
       "  </tbody>\n",
       "</table>\n",
       "</div>"
      ],
      "text/plain": [
       "       ID  Deals_Purchases  campaign_1  campaign_2  campaign_3  campaign_4  \\\n",
       "27   5255                0           0           0           0           0   \n",
       "77   7503                0           0           0           1           0   \n",
       "116  1592                0           1           0           0           0   \n",
       "124  7215                0           1           0           0           1   \n",
       "203  2798                0           1           0           0           1   \n",
       "\n",
       "     campaign_5  last_campaign  \n",
       "27            0              0  \n",
       "77            0              1  \n",
       "116           1              0  \n",
       "124           1              1  \n",
       "203           1              1  "
      ]
     },
     "execution_count": 144,
     "metadata": {},
     "output_type": "execute_result"
    }
   ],
   "source": [
    "kolom = ['ID','Deals_Purchases','campaign_1', 'campaign_2',\n",
    "       'campaign_3', 'campaign_4', 'campaign_5', 'last_campaign',]\n",
    "A = A.loc[:, kolom]\n",
    "A.head()"
   ]
  },
  {
   "cell_type": "code",
   "execution_count": 145,
   "metadata": {},
   "outputs": [],
   "source": [
    "qw['total_campaign'] = qw[['campaign_1', 'campaign_2',\n",
    "       'campaign_3', 'campaign_4', 'campaign_5','last_campaign']].sum(axis=1)"
   ]
  },
  {
   "cell_type": "code",
   "execution_count": 146,
   "metadata": {},
   "outputs": [],
   "source": [
    "S = qw[qw['total_campaign']== 0]"
   ]
  },
  {
   "cell_type": "code",
   "execution_count": 147,
   "metadata": {},
   "outputs": [
    {
     "data": {
      "text/html": [
       "<div>\n",
       "<style scoped>\n",
       "    .dataframe tbody tr th:only-of-type {\n",
       "        vertical-align: middle;\n",
       "    }\n",
       "\n",
       "    .dataframe tbody tr th {\n",
       "        vertical-align: top;\n",
       "    }\n",
       "\n",
       "    .dataframe thead th {\n",
       "        text-align: right;\n",
       "    }\n",
       "</style>\n",
       "<table border=\"1\" class=\"dataframe\">\n",
       "  <thead>\n",
       "    <tr style=\"text-align: right;\">\n",
       "      <th></th>\n",
       "      <th>ID</th>\n",
       "      <th>Deals_Purchases</th>\n",
       "      <th>total_campaign</th>\n",
       "    </tr>\n",
       "  </thead>\n",
       "  <tbody>\n",
       "    <tr>\n",
       "      <th>1</th>\n",
       "      <td>2174</td>\n",
       "      <td>2</td>\n",
       "      <td>0</td>\n",
       "    </tr>\n",
       "    <tr>\n",
       "      <th>2</th>\n",
       "      <td>4141</td>\n",
       "      <td>1</td>\n",
       "      <td>0</td>\n",
       "    </tr>\n",
       "    <tr>\n",
       "      <th>3</th>\n",
       "      <td>6182</td>\n",
       "      <td>2</td>\n",
       "      <td>0</td>\n",
       "    </tr>\n",
       "    <tr>\n",
       "      <th>4</th>\n",
       "      <td>5324</td>\n",
       "      <td>5</td>\n",
       "      <td>0</td>\n",
       "    </tr>\n",
       "    <tr>\n",
       "      <th>5</th>\n",
       "      <td>7446</td>\n",
       "      <td>2</td>\n",
       "      <td>0</td>\n",
       "    </tr>\n",
       "    <tr>\n",
       "      <th>...</th>\n",
       "      <td>...</td>\n",
       "      <td>...</td>\n",
       "      <td>...</td>\n",
       "    </tr>\n",
       "    <tr>\n",
       "      <th>2232</th>\n",
       "      <td>8080</td>\n",
       "      <td>1</td>\n",
       "      <td>0</td>\n",
       "    </tr>\n",
       "    <tr>\n",
       "      <th>2233</th>\n",
       "      <td>9432</td>\n",
       "      <td>4</td>\n",
       "      <td>0</td>\n",
       "    </tr>\n",
       "    <tr>\n",
       "      <th>2234</th>\n",
       "      <td>8372</td>\n",
       "      <td>1</td>\n",
       "      <td>0</td>\n",
       "    </tr>\n",
       "    <tr>\n",
       "      <th>2235</th>\n",
       "      <td>10870</td>\n",
       "      <td>2</td>\n",
       "      <td>0</td>\n",
       "    </tr>\n",
       "    <tr>\n",
       "      <th>2238</th>\n",
       "      <td>8235</td>\n",
       "      <td>2</td>\n",
       "      <td>0</td>\n",
       "    </tr>\n",
       "  </tbody>\n",
       "</table>\n",
       "<p>1631 rows × 3 columns</p>\n",
       "</div>"
      ],
      "text/plain": [
       "         ID  Deals_Purchases  total_campaign\n",
       "1      2174                2               0\n",
       "2      4141                1               0\n",
       "3      6182                2               0\n",
       "4      5324                5               0\n",
       "5      7446                2               0\n",
       "...     ...              ...             ...\n",
       "2232   8080                1               0\n",
       "2233   9432                4               0\n",
       "2234   8372                1               0\n",
       "2235  10870                2               0\n",
       "2238   8235                2               0\n",
       "\n",
       "[1631 rows x 3 columns]"
      ]
     },
     "execution_count": 147,
     "metadata": {},
     "output_type": "execute_result"
    }
   ],
   "source": [
    "kolom = ['ID','Deals_Purchases','total_campaign']\n",
    "S = S.loc[:, kolom]\n",
    "S"
   ]
  },
  {
   "attachments": {},
   "cell_type": "markdown",
   "metadata": {},
   "source": [
    "- menunjukan bahwa campaign yang diterima customers tidak melakukan pembelian dengan diskon, begitu juga pembelian dengan diskon belum tentu menerima campaign\n",
    "- jadi 2 hal ini adalah metode promotion yang berbeda"
   ]
  },
  {
   "attachments": {},
   "cell_type": "markdown",
   "metadata": {},
   "source": [
    "## 3.1 Correlation Promotion based total Sales"
   ]
  },
  {
   "cell_type": "code",
   "execution_count": 148,
   "metadata": {},
   "outputs": [],
   "source": [
    "df_corr_p = df_Clean.copy()"
   ]
  },
  {
   "cell_type": "code",
   "execution_count": 149,
   "metadata": {},
   "outputs": [],
   "source": [
    "# merupakan kelompok outliere, karena kapasistas terhadap salesnya kecil.\n",
    "df_corr_p = df_corr_p.drop(df_corr_p[df_corr_p['Class_Income'] == 'UltraRich'].index)"
   ]
  },
  {
   "cell_type": "code",
   "execution_count": 150,
   "metadata": {},
   "outputs": [],
   "source": [
    "# membuat kolom total buy sebagai pembanding\n",
    "df_corr_p['total_buy'] = df_corr_p[['Wines_Product',\n",
    "       'Fruits_Product', 'Meat_Product', 'Fish_Product', 'Sweet_Product',\n",
    "       'Gold_Product']].sum(axis=1)"
   ]
  },
  {
   "cell_type": "code",
   "execution_count": 151,
   "metadata": {},
   "outputs": [],
   "source": [
    "# membuat kolom total campaign untuk melihat korelasi terhadap total pembelian\n",
    "df_corr_p['total_campaign'] = df_corr_p[['campaign_1', 'campaign_2',\n",
    "       'campaign_3', 'campaign_4', 'campaign_5','last_campaign']].sum(axis=1)"
   ]
  },
  {
   "cell_type": "code",
   "execution_count": 152,
   "metadata": {},
   "outputs": [],
   "source": [
    "df_corr_p = df_corr_p.drop(df_corr_p[df_corr_p['Class_Income'] == 'UltraRich'].index)"
   ]
  },
  {
   "cell_type": "code",
   "execution_count": 153,
   "metadata": {},
   "outputs": [],
   "source": [
    "# hanya mengambil kolom2 yang diperlukan kolom2 yang tidak perlu\n",
    "kolom = ['Deals_Purchases','total_campaign','total_buy']\n",
    "df_corr_p = df_corr_p.loc[:, kolom]"
   ]
  },
  {
   "cell_type": "code",
   "execution_count": 154,
   "metadata": {},
   "outputs": [
    {
     "data": {
      "image/png": "[encoded data removed]",
      "text/plain": [
       "<Figure size 2000x500 with 2 Axes>"
      ]
     },
     "metadata": {},
     "output_type": "display_data"
    }
   ],
   "source": [
    "plt.figure(figsize=(20,5))\n",
    "matrix = np.triu(df_corr_p.corr())\n",
    "sns.heatmap(\n",
    "    data=df_corr_p.corr(method='spearman'),\n",
    "    annot = True,\n",
    "    cmap = 'coolwarm',\n",
    "    center = 0,\n",
    "    mask = matrix,\n",
    "    # method='spearman'\n",
    ")\n",
    "plt.title('Promotion Correlation Level')\n",
    "plt.show()"
   ]
  },
  {
   "cell_type": "code",
   "execution_count": 155,
   "metadata": {},
   "outputs": [
    {
     "data": {
      "text/plain": [
       "Text(0.5, 1.0, 'Correlation Total Campaign vs Total Buy')"
      ]
     },
     "execution_count": 155,
     "metadata": {},
     "output_type": "execute_result"
    },
    {
     "data": {
      "image/png": "[encoded data removed]",
      "text/plain": [
       "<Figure size 640x480 with 1 Axes>"
      ]
     },
     "metadata": {},
     "output_type": "display_data"
    }
   ],
   "source": [
    "sns. regplot(data=df_corr_p, x='total_buy', y='total_campaign');\n",
    "plt.title('Correlation Total Campaign vs Total Buy')"
   ]
  },
  {
   "cell_type": "code",
   "execution_count": 156,
   "metadata": {},
   "outputs": [
    {
     "data": {
      "text/plain": [
       "-0.019819894487156094"
      ]
     },
     "execution_count": 156,
     "metadata": {},
     "output_type": "execute_result"
    }
   ],
   "source": [
    "df_corr_p['Deals_Purchases'].corr(df_corr_p['total_buy'], method='spearman')"
   ]
  },
  {
   "cell_type": "code",
   "execution_count": 157,
   "metadata": {},
   "outputs": [
    {
     "data": {
      "text/plain": [
       "0.39004708497797513"
      ]
     },
     "execution_count": 157,
     "metadata": {},
     "output_type": "execute_result"
    }
   ],
   "source": [
    "df_corr_p['total_campaign'].corr(df_corr_p['total_buy'], method='spearman')"
   ]
  },
  {
   "attachments": {},
   "cell_type": "markdown",
   "metadata": {},
   "source": [
    "Dari Korelasi total campaing terhadap total buy ternyata korelasinya sedang "
   ]
  },
  {
   "attachments": {},
   "cell_type": "markdown",
   "metadata": {},
   "source": [
    "- dari data ini kita bisa melihat pemeberian deals (diskon) tidak berpengaruh terhadap penjualan/ sales. karena korelasinya mendekati 0\n",
    "- sedangkan dari Korelasi total campaing terhadap total buy ternyata korelasinya sedang (antara 0.3 -.07)\n",
    "- disini managemnt bisa mendapatkan insight bahwa pemberian deals(diskon) tidak memberikan efek terhadap penjualan.\n",
    "- kemuadian dari sisi total campaign korelasinya sedang terhadap penjualan. kemuadian saya mencari kenapa korelasinya sedang? apakah efektivitas campaign rendah?\n"
   ]
  },
  {
   "attachments": {},
   "cell_type": "markdown",
   "metadata": {},
   "source": [
    "## 3.2 Mengetahui mana campaing yang lebih efektif di terima oleh costumers."
   ]
  },
  {
   "cell_type": "code",
   "execution_count": 158,
   "metadata": {},
   "outputs": [],
   "source": [
    "df_Promotion = df_Clean.copy()"
   ]
  },
  {
   "cell_type": "code",
   "execution_count": 159,
   "metadata": {},
   "outputs": [],
   "source": [
    "kolom = ['ID','campaign_1', 'campaign_2',\n",
    "       'campaign_3', 'campaign_4', 'campaign_5', 'last_campaign',]\n",
    "df_Promotion = df_Promotion.loc[:, kolom]"
   ]
  },
  {
   "cell_type": "code",
   "execution_count": 160,
   "metadata": {},
   "outputs": [
    {
     "data": {
      "text/html": [
       "<div>\n",
       "<style scoped>\n",
       "    .dataframe tbody tr th:only-of-type {\n",
       "        vertical-align: middle;\n",
       "    }\n",
       "\n",
       "    .dataframe tbody tr th {\n",
       "        vertical-align: top;\n",
       "    }\n",
       "\n",
       "    .dataframe thead th {\n",
       "        text-align: right;\n",
       "    }\n",
       "</style>\n",
       "<table border=\"1\" class=\"dataframe\">\n",
       "  <thead>\n",
       "    <tr style=\"text-align: right;\">\n",
       "      <th></th>\n",
       "      <th>ID</th>\n",
       "      <th>Campaign</th>\n",
       "      <th>Total</th>\n",
       "    </tr>\n",
       "  </thead>\n",
       "  <tbody>\n",
       "    <tr>\n",
       "      <th>0</th>\n",
       "      <td>5524</td>\n",
       "      <td>campaign_1</td>\n",
       "      <td>0</td>\n",
       "    </tr>\n",
       "    <tr>\n",
       "      <th>1</th>\n",
       "      <td>2174</td>\n",
       "      <td>campaign_1</td>\n",
       "      <td>0</td>\n",
       "    </tr>\n",
       "    <tr>\n",
       "      <th>2</th>\n",
       "      <td>4141</td>\n",
       "      <td>campaign_1</td>\n",
       "      <td>0</td>\n",
       "    </tr>\n",
       "    <tr>\n",
       "      <th>3</th>\n",
       "      <td>6182</td>\n",
       "      <td>campaign_1</td>\n",
       "      <td>0</td>\n",
       "    </tr>\n",
       "    <tr>\n",
       "      <th>4</th>\n",
       "      <td>5324</td>\n",
       "      <td>campaign_1</td>\n",
       "      <td>0</td>\n",
       "    </tr>\n",
       "  </tbody>\n",
       "</table>\n",
       "</div>"
      ],
      "text/plain": [
       "     ID    Campaign  Total\n",
       "0  5524  campaign_1      0\n",
       "1  2174  campaign_1      0\n",
       "2  4141  campaign_1      0\n",
       "3  6182  campaign_1      0\n",
       "4  5324  campaign_1      0"
      ]
     },
     "execution_count": 160,
     "metadata": {},
     "output_type": "execute_result"
    }
   ],
   "source": [
    "df_melt_Promotion = pd.melt(df_Promotion, id_vars=['ID'], value_vars=['campaign_1', 'campaign_2',\n",
    "       'campaign_3', 'campaign_4', 'campaign_5', 'last_campaign'], var_name='Campaign', value_name='Total')\n",
    "df_melt_Promotion.head()"
   ]
  },
  {
   "cell_type": "code",
   "execution_count": 161,
   "metadata": {},
   "outputs": [],
   "source": [
    "a = ((df_Promotion['campaign_1'].sum() / len(df_Promotion['campaign_1']))*100).round(2)\n",
    "b = ((df_Promotion['campaign_2'].sum() / len(df_Promotion['campaign_2']))*100).round(2)\n",
    "c = ((df_Promotion['campaign_3'].sum() / len(df_Promotion['campaign_3']))*100).round(2)\n",
    "d = ((df_Promotion['campaign_4'].sum() / len(df_Promotion['campaign_4']))*100).round(2)\n",
    "e = ((df_Promotion['campaign_5'].sum() / len(df_Promotion['campaign_5']))*100).round(2)\n",
    "f = ((df_Promotion['last_campaign'].sum() / len(df_Promotion['last_campaign']))*100).round(2)\n"
   ]
  },
  {
   "cell_type": "code",
   "execution_count": 162,
   "metadata": {},
   "outputs": [],
   "source": [
    "data = {'Campaign'                  : ['campaign_1', 'campaign_2','campaign_3', 'campaign_4', 'campaign_5', 'last_campaign'],\n",
    "        'Effectiveness Campaign (%)': [a,b,c,d,e,f]}\n",
    "df_data = pd.DataFrame(data)"
   ]
  },
  {
   "attachments": {},
   "cell_type": "markdown",
   "metadata": {},
   "source": [
    "** Mengetahui Segment dari Class Income mana yang mendapatkan Promotion **"
   ]
  },
  {
   "cell_type": "code",
   "execution_count": 163,
   "metadata": {},
   "outputs": [],
   "source": [
    "df_Promotion_1 = df_Clean.copy()"
   ]
  },
  {
   "cell_type": "code",
   "execution_count": 164,
   "metadata": {},
   "outputs": [],
   "source": [
    "df_Promotion_1['total_campaign'] = df_Promotion_1[['campaign_1', 'campaign_2',\n",
    "       'campaign_3', 'campaign_4', 'campaign_5', 'last_campaign',]].sum(axis=1)"
   ]
  },
  {
   "cell_type": "code",
   "execution_count": 165,
   "metadata": {},
   "outputs": [],
   "source": [
    "kolom = ['Class_Income','campaign_1', 'campaign_2',\n",
    "       'campaign_3', 'campaign_4', 'campaign_5', 'last_campaign','total_campaign']\n",
    "df_Promotion_1 = df_Promotion_1.loc[:, kolom]"
   ]
  },
  {
   "cell_type": "code",
   "execution_count": 166,
   "metadata": {},
   "outputs": [
    {
     "data": {
      "text/html": [
       "<div>\n",
       "<style scoped>\n",
       "    .dataframe tbody tr th:only-of-type {\n",
       "        vertical-align: middle;\n",
       "    }\n",
       "\n",
       "    .dataframe tbody tr th {\n",
       "        vertical-align: top;\n",
       "    }\n",
       "\n",
       "    .dataframe thead th {\n",
       "        text-align: right;\n",
       "    }\n",
       "</style>\n",
       "<table border=\"1\" class=\"dataframe\">\n",
       "  <thead>\n",
       "    <tr style=\"text-align: right;\">\n",
       "      <th></th>\n",
       "      <th>Class_Income</th>\n",
       "      <th>campaign_1</th>\n",
       "      <th>campaign_2</th>\n",
       "      <th>campaign_3</th>\n",
       "      <th>campaign_4</th>\n",
       "      <th>campaign_5</th>\n",
       "      <th>last_campaign</th>\n",
       "      <th>total_campaign</th>\n",
       "    </tr>\n",
       "  </thead>\n",
       "  <tbody>\n",
       "    <tr>\n",
       "      <th>0</th>\n",
       "      <td>Middle</td>\n",
       "      <td>0</td>\n",
       "      <td>0</td>\n",
       "      <td>0</td>\n",
       "      <td>0</td>\n",
       "      <td>0</td>\n",
       "      <td>1</td>\n",
       "      <td>1</td>\n",
       "    </tr>\n",
       "    <tr>\n",
       "      <th>1</th>\n",
       "      <td>Middle</td>\n",
       "      <td>0</td>\n",
       "      <td>0</td>\n",
       "      <td>0</td>\n",
       "      <td>0</td>\n",
       "      <td>0</td>\n",
       "      <td>0</td>\n",
       "      <td>0</td>\n",
       "    </tr>\n",
       "    <tr>\n",
       "      <th>2</th>\n",
       "      <td>Upper</td>\n",
       "      <td>0</td>\n",
       "      <td>0</td>\n",
       "      <td>0</td>\n",
       "      <td>0</td>\n",
       "      <td>0</td>\n",
       "      <td>0</td>\n",
       "      <td>0</td>\n",
       "    </tr>\n",
       "    <tr>\n",
       "      <th>3</th>\n",
       "      <td>Lower</td>\n",
       "      <td>0</td>\n",
       "      <td>0</td>\n",
       "      <td>0</td>\n",
       "      <td>0</td>\n",
       "      <td>0</td>\n",
       "      <td>0</td>\n",
       "      <td>0</td>\n",
       "    </tr>\n",
       "    <tr>\n",
       "      <th>4</th>\n",
       "      <td>Middle</td>\n",
       "      <td>0</td>\n",
       "      <td>0</td>\n",
       "      <td>0</td>\n",
       "      <td>0</td>\n",
       "      <td>0</td>\n",
       "      <td>0</td>\n",
       "      <td>0</td>\n",
       "    </tr>\n",
       "    <tr>\n",
       "      <th>...</th>\n",
       "      <td>...</td>\n",
       "      <td>...</td>\n",
       "      <td>...</td>\n",
       "      <td>...</td>\n",
       "      <td>...</td>\n",
       "      <td>...</td>\n",
       "      <td>...</td>\n",
       "      <td>...</td>\n",
       "    </tr>\n",
       "    <tr>\n",
       "      <th>2235</th>\n",
       "      <td>Middle</td>\n",
       "      <td>0</td>\n",
       "      <td>0</td>\n",
       "      <td>0</td>\n",
       "      <td>0</td>\n",
       "      <td>0</td>\n",
       "      <td>0</td>\n",
       "      <td>0</td>\n",
       "    </tr>\n",
       "    <tr>\n",
       "      <th>2236</th>\n",
       "      <td>Middle</td>\n",
       "      <td>1</td>\n",
       "      <td>0</td>\n",
       "      <td>0</td>\n",
       "      <td>0</td>\n",
       "      <td>0</td>\n",
       "      <td>0</td>\n",
       "      <td>1</td>\n",
       "    </tr>\n",
       "    <tr>\n",
       "      <th>2237</th>\n",
       "      <td>Middle</td>\n",
       "      <td>0</td>\n",
       "      <td>0</td>\n",
       "      <td>0</td>\n",
       "      <td>1</td>\n",
       "      <td>0</td>\n",
       "      <td>0</td>\n",
       "      <td>1</td>\n",
       "    </tr>\n",
       "    <tr>\n",
       "      <th>2238</th>\n",
       "      <td>Upper</td>\n",
       "      <td>0</td>\n",
       "      <td>0</td>\n",
       "      <td>0</td>\n",
       "      <td>0</td>\n",
       "      <td>0</td>\n",
       "      <td>0</td>\n",
       "      <td>0</td>\n",
       "    </tr>\n",
       "    <tr>\n",
       "      <th>2239</th>\n",
       "      <td>Middle</td>\n",
       "      <td>0</td>\n",
       "      <td>0</td>\n",
       "      <td>0</td>\n",
       "      <td>0</td>\n",
       "      <td>0</td>\n",
       "      <td>1</td>\n",
       "      <td>1</td>\n",
       "    </tr>\n",
       "  </tbody>\n",
       "</table>\n",
       "<p>2240 rows × 8 columns</p>\n",
       "</div>"
      ],
      "text/plain": [
       "     Class_Income  campaign_1  campaign_2  campaign_3  campaign_4  campaign_5  \\\n",
       "0          Middle           0           0           0           0           0   \n",
       "1          Middle           0           0           0           0           0   \n",
       "2           Upper           0           0           0           0           0   \n",
       "3           Lower           0           0           0           0           0   \n",
       "4          Middle           0           0           0           0           0   \n",
       "...           ...         ...         ...         ...         ...         ...   \n",
       "2235       Middle           0           0           0           0           0   \n",
       "2236       Middle           1           0           0           0           0   \n",
       "2237       Middle           0           0           0           1           0   \n",
       "2238        Upper           0           0           0           0           0   \n",
       "2239       Middle           0           0           0           0           0   \n",
       "\n",
       "      last_campaign  total_campaign  \n",
       "0                 1               1  \n",
       "1                 0               0  \n",
       "2                 0               0  \n",
       "3                 0               0  \n",
       "4                 0               0  \n",
       "...             ...             ...  \n",
       "2235              0               0  \n",
       "2236              0               1  \n",
       "2237              0               1  \n",
       "2238              0               0  \n",
       "2239              1               1  \n",
       "\n",
       "[2240 rows x 8 columns]"
      ]
     },
     "execution_count": 166,
     "metadata": {},
     "output_type": "execute_result"
    }
   ],
   "source": [
    "df_Promotion_1"
   ]
  },
  {
   "cell_type": "code",
   "execution_count": 167,
   "metadata": {},
   "outputs": [
    {
     "data": {
      "text/html": [
       "<div>\n",
       "<style scoped>\n",
       "    .dataframe tbody tr th:only-of-type {\n",
       "        vertical-align: middle;\n",
       "    }\n",
       "\n",
       "    .dataframe tbody tr th {\n",
       "        vertical-align: top;\n",
       "    }\n",
       "\n",
       "    .dataframe thead th {\n",
       "        text-align: right;\n",
       "    }\n",
       "</style>\n",
       "<table border=\"1\" class=\"dataframe\">\n",
       "  <thead>\n",
       "    <tr style=\"text-align: right;\">\n",
       "      <th></th>\n",
       "      <th>Class_Income</th>\n",
       "      <th>campaign_1</th>\n",
       "      <th>campaign_2</th>\n",
       "      <th>campaign_3</th>\n",
       "      <th>campaign_4</th>\n",
       "      <th>campaign_5</th>\n",
       "      <th>last_campaign</th>\n",
       "    </tr>\n",
       "  </thead>\n",
       "  <tbody>\n",
       "    <tr>\n",
       "      <th>0</th>\n",
       "      <td>Lower</td>\n",
       "      <td>0</td>\n",
       "      <td>0</td>\n",
       "      <td>43</td>\n",
       "      <td>1</td>\n",
       "      <td>0</td>\n",
       "      <td>58</td>\n",
       "    </tr>\n",
       "    <tr>\n",
       "      <th>1</th>\n",
       "      <td>Middle</td>\n",
       "      <td>23</td>\n",
       "      <td>14</td>\n",
       "      <td>77</td>\n",
       "      <td>88</td>\n",
       "      <td>10</td>\n",
       "      <td>125</td>\n",
       "    </tr>\n",
       "    <tr>\n",
       "      <th>2</th>\n",
       "      <td>UltraRich</td>\n",
       "      <td>0</td>\n",
       "      <td>0</td>\n",
       "      <td>0</td>\n",
       "      <td>0</td>\n",
       "      <td>0</td>\n",
       "      <td>0</td>\n",
       "    </tr>\n",
       "    <tr>\n",
       "      <th>3</th>\n",
       "      <td>Upper</td>\n",
       "      <td>121</td>\n",
       "      <td>16</td>\n",
       "      <td>43</td>\n",
       "      <td>78</td>\n",
       "      <td>153</td>\n",
       "      <td>151</td>\n",
       "    </tr>\n",
       "  </tbody>\n",
       "</table>\n",
       "</div>"
      ],
      "text/plain": [
       "  Class_Income  campaign_1  campaign_2  campaign_3  campaign_4  campaign_5  \\\n",
       "0        Lower           0           0          43           1           0   \n",
       "1       Middle          23          14          77          88          10   \n",
       "2    UltraRich           0           0           0           0           0   \n",
       "3        Upper         121          16          43          78         153   \n",
       "\n",
       "   last_campaign  \n",
       "0             58  \n",
       "1            125  \n",
       "2              0  \n",
       "3            151  "
      ]
     },
     "execution_count": 167,
     "metadata": {},
     "output_type": "execute_result"
    }
   ],
   "source": [
    "df_sum_Promotion_1 = df_Promotion_1.groupby('Class_Income').sum()[['campaign_1', 'campaign_2',\n",
    "       'campaign_3', 'campaign_4', 'campaign_5', 'last_campaign']].reset_index()\n",
    "df_sum_Promotion_1"
   ]
  },
  {
   "cell_type": "code",
   "execution_count": 168,
   "metadata": {},
   "outputs": [
    {
     "data": {
      "text/html": [
       "<div>\n",
       "<style scoped>\n",
       "    .dataframe tbody tr th:only-of-type {\n",
       "        vertical-align: middle;\n",
       "    }\n",
       "\n",
       "    .dataframe tbody tr th {\n",
       "        vertical-align: top;\n",
       "    }\n",
       "\n",
       "    .dataframe thead th {\n",
       "        text-align: right;\n",
       "    }\n",
       "</style>\n",
       "<table border=\"1\" class=\"dataframe\">\n",
       "  <thead>\n",
       "    <tr style=\"text-align: right;\">\n",
       "      <th></th>\n",
       "      <th>Class_Income</th>\n",
       "      <th>campaign</th>\n",
       "      <th>Total</th>\n",
       "    </tr>\n",
       "  </thead>\n",
       "  <tbody>\n",
       "    <tr>\n",
       "      <th>0</th>\n",
       "      <td>Lower</td>\n",
       "      <td>campaign_1</td>\n",
       "      <td>0</td>\n",
       "    </tr>\n",
       "    <tr>\n",
       "      <th>1</th>\n",
       "      <td>Middle</td>\n",
       "      <td>campaign_1</td>\n",
       "      <td>23</td>\n",
       "    </tr>\n",
       "    <tr>\n",
       "      <th>2</th>\n",
       "      <td>UltraRich</td>\n",
       "      <td>campaign_1</td>\n",
       "      <td>0</td>\n",
       "    </tr>\n",
       "    <tr>\n",
       "      <th>3</th>\n",
       "      <td>Upper</td>\n",
       "      <td>campaign_1</td>\n",
       "      <td>121</td>\n",
       "    </tr>\n",
       "    <tr>\n",
       "      <th>4</th>\n",
       "      <td>Lower</td>\n",
       "      <td>campaign_2</td>\n",
       "      <td>0</td>\n",
       "    </tr>\n",
       "  </tbody>\n",
       "</table>\n",
       "</div>"
      ],
      "text/plain": [
       "  Class_Income    campaign  Total\n",
       "0        Lower  campaign_1      0\n",
       "1       Middle  campaign_1     23\n",
       "2    UltraRich  campaign_1      0\n",
       "3        Upper  campaign_1    121\n",
       "4        Lower  campaign_2      0"
      ]
     },
     "execution_count": 168,
     "metadata": {},
     "output_type": "execute_result"
    }
   ],
   "source": [
    "df_melt_Promotion_1 = pd.melt(df_sum_Promotion_1, id_vars=['Class_Income'], \n",
    "                              value_vars=['campaign_1', 'campaign_2','campaign_3', 'campaign_4', 'campaign_5', 'last_campaign'], \n",
    "                              var_name='campaign', value_name='Total')\n",
    "df_melt_Promotion_1.head()"
   ]
  },
  {
   "attachments": {},
   "cell_type": "markdown",
   "metadata": {},
   "source": [
    "Total of Acceptance Campaign per segment Income Class"
   ]
  },
  {
   "cell_type": "code",
   "execution_count": 169,
   "metadata": {},
   "outputs": [
    {
     "data": {
      "text/html": [
       "<div>\n",
       "<style scoped>\n",
       "    .dataframe tbody tr th:only-of-type {\n",
       "        vertical-align: middle;\n",
       "    }\n",
       "\n",
       "    .dataframe tbody tr th {\n",
       "        vertical-align: top;\n",
       "    }\n",
       "\n",
       "    .dataframe thead th {\n",
       "        text-align: right;\n",
       "    }\n",
       "</style>\n",
       "<table border=\"1\" class=\"dataframe\">\n",
       "  <thead>\n",
       "    <tr style=\"text-align: right;\">\n",
       "      <th></th>\n",
       "      <th>Class_Income</th>\n",
       "      <th>campaign_1</th>\n",
       "      <th>campaign_2</th>\n",
       "      <th>campaign_3</th>\n",
       "      <th>campaign_4</th>\n",
       "      <th>campaign_5</th>\n",
       "      <th>last_campaign</th>\n",
       "    </tr>\n",
       "  </thead>\n",
       "  <tbody>\n",
       "    <tr>\n",
       "      <th>0</th>\n",
       "      <td>Lower</td>\n",
       "      <td>0</td>\n",
       "      <td>0</td>\n",
       "      <td>43</td>\n",
       "      <td>1</td>\n",
       "      <td>0</td>\n",
       "      <td>58</td>\n",
       "    </tr>\n",
       "    <tr>\n",
       "      <th>1</th>\n",
       "      <td>Middle</td>\n",
       "      <td>23</td>\n",
       "      <td>14</td>\n",
       "      <td>77</td>\n",
       "      <td>88</td>\n",
       "      <td>10</td>\n",
       "      <td>125</td>\n",
       "    </tr>\n",
       "    <tr>\n",
       "      <th>2</th>\n",
       "      <td>UltraRich</td>\n",
       "      <td>0</td>\n",
       "      <td>0</td>\n",
       "      <td>0</td>\n",
       "      <td>0</td>\n",
       "      <td>0</td>\n",
       "      <td>0</td>\n",
       "    </tr>\n",
       "    <tr>\n",
       "      <th>3</th>\n",
       "      <td>Upper</td>\n",
       "      <td>121</td>\n",
       "      <td>16</td>\n",
       "      <td>43</td>\n",
       "      <td>78</td>\n",
       "      <td>153</td>\n",
       "      <td>151</td>\n",
       "    </tr>\n",
       "  </tbody>\n",
       "</table>\n",
       "</div>"
      ],
      "text/plain": [
       "  Class_Income  campaign_1  campaign_2  campaign_3  campaign_4  campaign_5  \\\n",
       "0        Lower           0           0          43           1           0   \n",
       "1       Middle          23          14          77          88          10   \n",
       "2    UltraRich           0           0           0           0           0   \n",
       "3        Upper         121          16          43          78         153   \n",
       "\n",
       "   last_campaign  \n",
       "0             58  \n",
       "1            125  \n",
       "2              0  \n",
       "3            151  "
      ]
     },
     "execution_count": 169,
     "metadata": {},
     "output_type": "execute_result"
    }
   ],
   "source": [
    "df_sum_Promotion_1"
   ]
  },
  {
   "attachments": {},
   "cell_type": "markdown",
   "metadata": {},
   "source": [
    "Effectiveness Acceptance Campaign Ratio"
   ]
  },
  {
   "cell_type": "code",
   "execution_count": 170,
   "metadata": {},
   "outputs": [
    {
     "data": {
      "text/html": [
       "<div>\n",
       "<style scoped>\n",
       "    .dataframe tbody tr th:only-of-type {\n",
       "        vertical-align: middle;\n",
       "    }\n",
       "\n",
       "    .dataframe tbody tr th {\n",
       "        vertical-align: top;\n",
       "    }\n",
       "\n",
       "    .dataframe thead th {\n",
       "        text-align: right;\n",
       "    }\n",
       "</style>\n",
       "<table border=\"1\" class=\"dataframe\">\n",
       "  <thead>\n",
       "    <tr style=\"text-align: right;\">\n",
       "      <th></th>\n",
       "      <th>Campaign</th>\n",
       "      <th>Effectiveness Campaign (%)</th>\n",
       "    </tr>\n",
       "  </thead>\n",
       "  <tbody>\n",
       "    <tr>\n",
       "      <th>0</th>\n",
       "      <td>campaign_1</td>\n",
       "      <td>6.43</td>\n",
       "    </tr>\n",
       "    <tr>\n",
       "      <th>1</th>\n",
       "      <td>campaign_2</td>\n",
       "      <td>1.34</td>\n",
       "    </tr>\n",
       "    <tr>\n",
       "      <th>2</th>\n",
       "      <td>campaign_3</td>\n",
       "      <td>7.28</td>\n",
       "    </tr>\n",
       "    <tr>\n",
       "      <th>3</th>\n",
       "      <td>campaign_4</td>\n",
       "      <td>7.46</td>\n",
       "    </tr>\n",
       "    <tr>\n",
       "      <th>4</th>\n",
       "      <td>campaign_5</td>\n",
       "      <td>7.28</td>\n",
       "    </tr>\n",
       "    <tr>\n",
       "      <th>5</th>\n",
       "      <td>last_campaign</td>\n",
       "      <td>14.91</td>\n",
       "    </tr>\n",
       "  </tbody>\n",
       "</table>\n",
       "</div>"
      ],
      "text/plain": [
       "        Campaign  Effectiveness Campaign (%)\n",
       "0     campaign_1                        6.43\n",
       "1     campaign_2                        1.34\n",
       "2     campaign_3                        7.28\n",
       "3     campaign_4                        7.46\n",
       "4     campaign_5                        7.28\n",
       "5  last_campaign                       14.91"
      ]
     },
     "execution_count": 170,
     "metadata": {},
     "output_type": "execute_result"
    }
   ],
   "source": [
    "df_data"
   ]
  },
  {
   "cell_type": "code",
   "execution_count": 171,
   "metadata": {},
   "outputs": [
    {
     "data": {
      "image/png": "[encoded data removed]",
      "text/plain": [
       "<Figure size 2000x600 with 2 Axes>"
      ]
     },
     "metadata": {},
     "output_type": "display_data"
    }
   ],
   "source": [
    "fig, axes = plt.subplots(1, 2, figsize=(20, 6))\n",
    "sns.barplot(data=df_data,x='Campaign', y='Effectiveness Campaign (%)',ci=0,ax=axes[0])\n",
    "sns.barplot(data= df_melt_Promotion_1,x='Class_Income',y='Total',estimator=np.sum,ci=0,hue='campaign',ax=axes[1])\n",
    "plt.suptitle('Promotion Performance')\n",
    "axes[0].set_title('Effectiveness Acceptance Campaign Ratio')\n",
    "axes[1].set_title('Total of Acceptance Campaign per segment Income Class')\n",
    "\n",
    "plt.show()"
   ]
  },
  {
   "attachments": {},
   "cell_type": "markdown",
   "metadata": {},
   "source": [
    "Insight:\n",
    "- dari tabel 'Effectiveness Acceptance Campaign Ratio' bahwa campaiign secara keseluruhan efektivitasnya cukup rendah.\n",
    "- pada campaign ke 2 mempunyai efektivitas paling rendah diantara campaign yang lainya.\n",
    "- pada last campaign mempunyai efektivitas paling tinggi diantara campaign yang lainya.\n",
    "- sedangkan campaign ke 3 samapai campaign ke 5 mempunyai efektivitas yang hampir sama.\n",
    "<br><br>\n",
    "-  dari table 'Total of Acceptance Campaign per segment Income Class' bahwa segment class income upper menerima campaign paling banyak secara keseluruhan. terutama pada campaign ke 5 dan last campaign.\n",
    "- pada class income middle campaign terbanyak yang diterima adalah last campaign \n",
    "- pada class income UltraRich tidak mendapatkan campaign sama sekali.\n",
    "- sedangkan class lower campaign paling banyak diterima pada last campaign dan campaign ke 5. \n"
   ]
  },
  {
   "attachments": {},
   "cell_type": "markdown",
   "metadata": {},
   "source": [
    "# Analisis RFM"
   ]
  },
  {
   "cell_type": "code",
   "execution_count": 172,
   "metadata": {},
   "outputs": [],
   "source": [
    "df_RFM = df_Clean.copy()"
   ]
  },
  {
   "cell_type": "code",
   "execution_count": 173,
   "metadata": {},
   "outputs": [],
   "source": [
    "# monetary value di ambil dengan jumlah quantity produk yang dibeli\n",
    "df_RFM['monetary_value'] = df_RFM[['Wines_Product',\n",
    "       'Fruits_Product', 'Meat_Product', 'Fish_Product', 'Sweet_Product',\n",
    "       'Gold_Product']].sum(axis=1)\n",
    "\n",
    "# frequency di ambil dari data banyaknya transaksi\n",
    "df_RFM['frequency'] = df_RFM[['Web_Purchases', 'Catalog_Purchases', 'Store_Purchases']].sum(axis=1)"
   ]
  },
  {
   "cell_type": "code",
   "execution_count": 174,
   "metadata": {},
   "outputs": [
    {
     "data": {
      "text/html": [
       "<div>\n",
       "<style scoped>\n",
       "    .dataframe tbody tr th:only-of-type {\n",
       "        vertical-align: middle;\n",
       "    }\n",
       "\n",
       "    .dataframe tbody tr th {\n",
       "        vertical-align: top;\n",
       "    }\n",
       "\n",
       "    .dataframe thead th {\n",
       "        text-align: right;\n",
       "    }\n",
       "</style>\n",
       "<table border=\"1\" class=\"dataframe\">\n",
       "  <thead>\n",
       "    <tr style=\"text-align: right;\">\n",
       "      <th></th>\n",
       "      <th>ID</th>\n",
       "      <th>Recency</th>\n",
       "      <th>frequency</th>\n",
       "      <th>monetary_value</th>\n",
       "    </tr>\n",
       "  </thead>\n",
       "  <tbody>\n",
       "    <tr>\n",
       "      <th>0</th>\n",
       "      <td>5524</td>\n",
       "      <td>58</td>\n",
       "      <td>22</td>\n",
       "      <td>1617</td>\n",
       "    </tr>\n",
       "    <tr>\n",
       "      <th>1</th>\n",
       "      <td>2174</td>\n",
       "      <td>38</td>\n",
       "      <td>4</td>\n",
       "      <td>27</td>\n",
       "    </tr>\n",
       "    <tr>\n",
       "      <th>2</th>\n",
       "      <td>4141</td>\n",
       "      <td>26</td>\n",
       "      <td>20</td>\n",
       "      <td>776</td>\n",
       "    </tr>\n",
       "    <tr>\n",
       "      <th>3</th>\n",
       "      <td>6182</td>\n",
       "      <td>26</td>\n",
       "      <td>6</td>\n",
       "      <td>53</td>\n",
       "    </tr>\n",
       "    <tr>\n",
       "      <th>4</th>\n",
       "      <td>5324</td>\n",
       "      <td>94</td>\n",
       "      <td>14</td>\n",
       "      <td>422</td>\n",
       "    </tr>\n",
       "  </tbody>\n",
       "</table>\n",
       "</div>"
      ],
      "text/plain": [
       "     ID  Recency  frequency  monetary_value\n",
       "0  5524       58         22            1617\n",
       "1  2174       38          4              27\n",
       "2  4141       26         20             776\n",
       "3  6182       26          6              53\n",
       "4  5324       94         14             422"
      ]
     },
     "execution_count": 174,
     "metadata": {},
     "output_type": "execute_result"
    }
   ],
   "source": [
    "kolom = ['ID','Recency','frequency','monetary_value']\n",
    "RFM_table = df_RFM.loc[:, kolom]\n",
    "RFM_table.head()"
   ]
  },
  {
   "cell_type": "code",
   "execution_count": 175,
   "metadata": {},
   "outputs": [
    {
     "data": {
      "text/html": [
       "<div>\n",
       "<style scoped>\n",
       "    .dataframe tbody tr th:only-of-type {\n",
       "        vertical-align: middle;\n",
       "    }\n",
       "\n",
       "    .dataframe tbody tr th {\n",
       "        vertical-align: top;\n",
       "    }\n",
       "\n",
       "    .dataframe thead th {\n",
       "        text-align: right;\n",
       "    }\n",
       "</style>\n",
       "<table border=\"1\" class=\"dataframe\">\n",
       "  <thead>\n",
       "    <tr style=\"text-align: right;\">\n",
       "      <th></th>\n",
       "      <th>Recency</th>\n",
       "      <th>frequency</th>\n",
       "      <th>monetary_value</th>\n",
       "    </tr>\n",
       "  </thead>\n",
       "  <tbody>\n",
       "    <tr>\n",
       "      <th>0.25</th>\n",
       "      <td>24.0</td>\n",
       "      <td>6.0</td>\n",
       "      <td>68.75</td>\n",
       "    </tr>\n",
       "    <tr>\n",
       "      <th>0.50</th>\n",
       "      <td>49.0</td>\n",
       "      <td>12.0</td>\n",
       "      <td>396.00</td>\n",
       "    </tr>\n",
       "    <tr>\n",
       "      <th>0.75</th>\n",
       "      <td>74.0</td>\n",
       "      <td>18.0</td>\n",
       "      <td>1045.50</td>\n",
       "    </tr>\n",
       "  </tbody>\n",
       "</table>\n",
       "</div>"
      ],
      "text/plain": [
       "      Recency  frequency  monetary_value\n",
       "0.25     24.0        6.0           68.75\n",
       "0.50     49.0       12.0          396.00\n",
       "0.75     74.0       18.0         1045.50"
      ]
     },
     "execution_count": 175,
     "metadata": {},
     "output_type": "execute_result"
    }
   ],
   "source": [
    "quantiles = RFM_table.quantile(q=[0.25,0.5,0.75])\n",
    "quantiles"
   ]
  },
  {
   "cell_type": "code",
   "execution_count": 176,
   "metadata": {},
   "outputs": [
    {
     "data": {
      "text/html": [
       "<div>\n",
       "<style scoped>\n",
       "    .dataframe tbody tr th:only-of-type {\n",
       "        vertical-align: middle;\n",
       "    }\n",
       "\n",
       "    .dataframe tbody tr th {\n",
       "        vertical-align: top;\n",
       "    }\n",
       "\n",
       "    .dataframe thead th {\n",
       "        text-align: right;\n",
       "    }\n",
       "</style>\n",
       "<table border=\"1\" class=\"dataframe\">\n",
       "  <thead>\n",
       "    <tr style=\"text-align: right;\">\n",
       "      <th></th>\n",
       "      <th>Recency</th>\n",
       "      <th>frequency</th>\n",
       "      <th>monetary_value</th>\n",
       "    </tr>\n",
       "  </thead>\n",
       "  <tbody>\n",
       "    <tr>\n",
       "      <th>0.25</th>\n",
       "      <td>24.0</td>\n",
       "      <td>6.0</td>\n",
       "      <td>68.75</td>\n",
       "    </tr>\n",
       "    <tr>\n",
       "      <th>0.50</th>\n",
       "      <td>49.0</td>\n",
       "      <td>12.0</td>\n",
       "      <td>396.00</td>\n",
       "    </tr>\n",
       "    <tr>\n",
       "      <th>0.75</th>\n",
       "      <td>74.0</td>\n",
       "      <td>18.0</td>\n",
       "      <td>1045.50</td>\n",
       "    </tr>\n",
       "  </tbody>\n",
       "</table>\n",
       "</div>"
      ],
      "text/plain": [
       "      Recency  frequency  monetary_value\n",
       "0.25     24.0        6.0           68.75\n",
       "0.50     49.0       12.0          396.00\n",
       "0.75     74.0       18.0         1045.50"
      ]
     },
     "execution_count": 176,
     "metadata": {},
     "output_type": "execute_result"
    }
   ],
   "source": [
    "quantiles"
   ]
  },
  {
   "cell_type": "code",
   "execution_count": 177,
   "metadata": {},
   "outputs": [],
   "source": [
    "# Konversi kuantil ke dalam sebuah kamus, membuat penggunaan lebih mudah.\n",
    "quantiles = quantiles.to_dict()\n",
    "##  RFM Segmentation ----\n",
    "RFM_Segment = RFM_table.copy()\n",
    "# Argumen (x = nilai, p = Recency, nilai_moneter, frekuensi, d = kamus kuartil)\n",
    "def R_Class(x,p,d):\n",
    "    if x <= d[p][0.25]:\n",
    "        return 4\n",
    "    elif x <= d[p][0.50]:\n",
    "        return 3\n",
    "    elif x <= d[p][0.75]: \n",
    "        return 2\n",
    "    else:\n",
    "        return 1\n",
    "    \n",
    "# Argumen (x = nilai, p = Recency, nilai_moneter, frekuensi, d = kamus kuartil)\n",
    "def FM_Class(x,p,d):\n",
    "    if x <= d[p][0.25]:\n",
    "        return 1\n",
    "    elif x <= d[p][0.50]:\n",
    "        return 2\n",
    "    elif x <= d[p][0.75]: \n",
    "        return 3\n",
    "    else:\n",
    "        return 4\n",
    "RFM_Segment['R_Quartile'] = RFM_Segment['Recency'].apply(R_Class, args=('Recency',quantiles,))\n",
    "RFM_Segment['F_Quartile'] = RFM_Segment['frequency'].apply(FM_Class, args=('frequency',quantiles,))\n",
    "RFM_Segment['M_Quartile'] = RFM_Segment['monetary_value'].apply(FM_Class, args=('monetary_value',quantiles,))\n",
    "RFM_Segment['RFMClass'] = RFM_Segment.R_Quartile.map(str) \\\n",
    "                            + RFM_Segment.F_Quartile.map(str) \\\n",
    "                            + RFM_Segment.M_Quartile.map(str)"
   ]
  },
  {
   "attachments": {},
   "cell_type": "markdown",
   "metadata": {},
   "source": [
    "### pelanggan Terbaik"
   ]
  },
  {
   "cell_type": "code",
   "execution_count": 178,
   "metadata": {},
   "outputs": [],
   "source": [
    "#RFMClass = 444\n",
    "best_Cust = RFM_Segment[RFM_Segment['RFMClass']=='444'].sort_values('monetary_value', ascending=False)"
   ]
  },
  {
   "cell_type": "code",
   "execution_count": 179,
   "metadata": {},
   "outputs": [],
   "source": [
    "df_best = pd.merge(df_RFM, best_Cust, on='ID', how='inner')"
   ]
  },
  {
   "cell_type": "code",
   "execution_count": 180,
   "metadata": {},
   "outputs": [
    {
     "data": {
      "text/plain": [
       "74"
      ]
     },
     "execution_count": 180,
     "metadata": {},
     "output_type": "execute_result"
    }
   ],
   "source": [
    "len(df_best)"
   ]
  },
  {
   "cell_type": "code",
   "execution_count": 181,
   "metadata": {},
   "outputs": [
    {
     "data": {
      "text/plain": [
       "Upper        77.03\n",
       "Middle       20.27\n",
       "UltraRich     2.70\n",
       "Name: Class_Income, dtype: float64"
      ]
     },
     "execution_count": 181,
     "metadata": {},
     "output_type": "execute_result"
    }
   ],
   "source": [
    "Persen_class_income = (df_best['Class_Income'].value_counts(normalize=True) * 100).round(2)\n",
    "Persen_class_income"
   ]
  },
  {
   "cell_type": "code",
   "execution_count": 182,
   "metadata": {},
   "outputs": [
    {
     "data": {
      "text/plain": [
       "2.7"
      ]
     },
     "execution_count": 182,
     "metadata": {},
     "output_type": "execute_result"
    }
   ],
   "source": [
    "Persen_class_income[2]"
   ]
  },
  {
   "cell_type": "code",
   "execution_count": 183,
   "metadata": {},
   "outputs": [
    {
     "name": "stdout",
     "output_type": "stream",
     "text": [
      "Berdasarkan hasil analisis RFM untuk customers terbaik mempunyai jumlah total 74 customers yang terdiri dari kelompok income\n",
      "paling banyak didominasi oleh kelompok income Upper dengan total 77.03 %\n",
      "selanjutnya oleh kelompok income Middle dengan total 20.27 %\n",
      "dan terakhir oleh kelompok income UltraRich dengan total 2.7 %\n"
     ]
    }
   ],
   "source": [
    "print(f'Berdasarkan hasil analisis RFM untuk customers terbaik mempunyai jumlah total {len(df_best)} customers yang terdiri dari kelompok income')\n",
    "print(f'paling banyak didominasi oleh kelompok income {Persen_class_income.index[0]} dengan total {Persen_class_income[0]} %')\n",
    "print(f'selanjutnya oleh kelompok income {Persen_class_income.index[1]} dengan total {Persen_class_income[1]} %')\n",
    "print(f'dan terakhir oleh kelompok income {Persen_class_income.index[2]} dengan total {Persen_class_income[2]} %')"
   ]
  },
  {
   "attachments": {},
   "cell_type": "markdown",
   "metadata": {},
   "source": [
    "### Pelanggan yang berada di ambang churn (berhenti berlangganan/menggunakan layanan)(Goals)"
   ]
  },
  {
   "cell_type": "code",
   "execution_count": 184,
   "metadata": {},
   "outputs": [],
   "source": [
    "# Pelanggan yang berada di ambang churn (berhenti berlangganan/menggunakan layanan)\n",
    "\n",
    "Cust_Churn = RFM_Segment[RFM_Segment['R_Quartile'] <= 2 ].sort_values('monetary_value', ascending=False)"
   ]
  },
  {
   "cell_type": "code",
   "execution_count": 185,
   "metadata": {},
   "outputs": [],
   "source": [
    "df_churn = pd.merge(df_RFM, Cust_Churn, on='ID', how='inner')"
   ]
  },
  {
   "cell_type": "code",
   "execution_count": 186,
   "metadata": {},
   "outputs": [
    {
     "data": {
      "text/plain": [
       "1118"
      ]
     },
     "execution_count": 186,
     "metadata": {},
     "output_type": "execute_result"
    }
   ],
   "source": [
    "len(df_churn)"
   ]
  },
  {
   "cell_type": "code",
   "execution_count": 187,
   "metadata": {},
   "outputs": [
    {
     "data": {
      "text/plain": [
       "Middle       51.43\n",
       "Upper        24.69\n",
       "Lower        23.61\n",
       "UltraRich     0.27\n",
       "Name: Class_Income, dtype: float64"
      ]
     },
     "execution_count": 187,
     "metadata": {},
     "output_type": "execute_result"
    }
   ],
   "source": [
    "Persen_class_income = (df_churn['Class_Income'].value_counts(normalize=True) * 100).round(2)\n",
    "Persen_class_income"
   ]
  },
  {
   "cell_type": "code",
   "execution_count": 188,
   "metadata": {},
   "outputs": [],
   "source": [
    "df_Persen_class_income = pd.DataFrame(Persen_class_income)"
   ]
  },
  {
   "cell_type": "code",
   "execution_count": 189,
   "metadata": {},
   "outputs": [],
   "source": [
    "AB = df_Persen_class_income.reset_index().rename(columns={'Class_Income':'Persentage','index':'Class_Income'})\n"
   ]
  },
  {
   "cell_type": "code",
   "execution_count": 190,
   "metadata": {},
   "outputs": [
    {
     "data": {
      "image/png": "[encoded data removed]",
      "text/plain": [
       "<Figure size 640x480 with 1 Axes>"
      ]
     },
     "metadata": {},
     "output_type": "display_data"
    }
   ],
   "source": [
    "\n",
    "sns.barplot(data=AB, x='Class_Income',y='Persentage', ci=0)\n",
    "plt.title('Percentage of Class Income Customers Churn')\n",
    "plt.show()"
   ]
  },
  {
   "cell_type": "code",
   "execution_count": 191,
   "metadata": {},
   "outputs": [
    {
     "name": "stdout",
     "output_type": "stream",
     "text": [
      "Berdasarkan hasil analisis RFM untuk customers diambang Churn mempunyai jumlah total 1118 customers yang terdiri dari kelompok income\n",
      "paling banyak didominasi oleh kelompok income Middle dengan total 51.43 %\n",
      "selanjutnya oleh kelompok income Upper dengan total 24.69 %\n",
      "kemudian oleh kelompok income Lower dengan total 23.61 %\n",
      "dan terakhir oleh kelompok income UltraRich dengan total 0.27 %\n"
     ]
    }
   ],
   "source": [
    "print(f'Berdasarkan hasil analisis RFM untuk customers diambang Churn mempunyai jumlah total {len(df_churn)} customers yang terdiri dari kelompok income')\n",
    "print(f'paling banyak didominasi oleh kelompok income {Persen_class_income.index[0]} dengan total {Persen_class_income[0]} %')\n",
    "print(f'selanjutnya oleh kelompok income {Persen_class_income.index[1]} dengan total {Persen_class_income[1]} %')\n",
    "print(f'kemudian oleh kelompok income {Persen_class_income.index[2]} dengan total {Persen_class_income[2]} %')\n",
    "print(f'dan terakhir oleh kelompok income {Persen_class_income.index[3]} dengan total {Persen_class_income[3]} %')"
   ]
  },
  {
   "cell_type": "code",
   "execution_count": 192,
   "metadata": {},
   "outputs": [],
   "source": [
    "df_eval = df_churn.copy()"
   ]
  },
  {
   "cell_type": "code",
   "execution_count": 193,
   "metadata": {},
   "outputs": [
    {
     "data": {
      "text/html": [
       "<div>\n",
       "<style scoped>\n",
       "    .dataframe tbody tr th:only-of-type {\n",
       "        vertical-align: middle;\n",
       "    }\n",
       "\n",
       "    .dataframe tbody tr th {\n",
       "        vertical-align: top;\n",
       "    }\n",
       "\n",
       "    .dataframe thead th {\n",
       "        text-align: right;\n",
       "    }\n",
       "</style>\n",
       "<table border=\"1\" class=\"dataframe\">\n",
       "  <thead>\n",
       "    <tr style=\"text-align: right;\">\n",
       "      <th></th>\n",
       "      <th>total_campaign</th>\n",
       "      <th>Complain</th>\n",
       "    </tr>\n",
       "    <tr>\n",
       "      <th>Class_Income</th>\n",
       "      <th></th>\n",
       "      <th></th>\n",
       "    </tr>\n",
       "  </thead>\n",
       "  <tbody>\n",
       "    <tr>\n",
       "      <th>Lower</th>\n",
       "      <td>0.1</td>\n",
       "      <td>0.0</td>\n",
       "    </tr>\n",
       "    <tr>\n",
       "      <th>Middle</th>\n",
       "      <td>0.3</td>\n",
       "      <td>0.0</td>\n",
       "    </tr>\n",
       "    <tr>\n",
       "      <th>UltraRich</th>\n",
       "      <td>0.0</td>\n",
       "      <td>0.0</td>\n",
       "    </tr>\n",
       "    <tr>\n",
       "      <th>Upper</th>\n",
       "      <td>0.9</td>\n",
       "      <td>0.0</td>\n",
       "    </tr>\n",
       "  </tbody>\n",
       "</table>\n",
       "</div>"
      ],
      "text/plain": [
       "              total_campaign  Complain\n",
       "Class_Income                          \n",
       "Lower                    0.1       0.0\n",
       "Middle                   0.3       0.0\n",
       "UltraRich                0.0       0.0\n",
       "Upper                    0.9       0.0"
      ]
     },
     "execution_count": 193,
     "metadata": {},
     "output_type": "execute_result"
    }
   ],
   "source": [
    "kolom = ['Class_Income','Deals_Purchases', 'campaign_1','campaign_2', 'campaign_3', 'campaign_4', 'campaign_5', 'last_campaign','Complain']\n",
    "df_eval = df_eval.loc[:, kolom]\n",
    "df_eval['total_campaign'] = df_eval[['campaign_1','campaign_2', 'campaign_3', 'campaign_4', 'campaign_5', 'last_campaign']].sum(axis=1)\n",
    "kolom = ['Class_Income','total_campaign','Complain']\n",
    "df_eval = df_eval.loc[:, kolom]\n",
    "df_eval.groupby('Class_Income').mean()[['total_campaign','Complain']].round(1)"
   ]
  },
  {
   "attachments": {},
   "cell_type": "markdown",
   "metadata": {},
   "source": [
    "Insight:\n",
    "- dari data diatas menunjukan bahwa bahwa rata-rata acceptence campaing di class income middle hampir tidak pernah menerima campaign\n",
    "- pada kelompok upper hanya menerima 1 kali campaign. padahal kelompok upper dan middle adalah kelompok dengan pembelian terbesar."
   ]
  },
  {
   "attachments": {},
   "cell_type": "markdown",
   "metadata": {},
   "source": [
    "### pelanggan yang hilang "
   ]
  },
  {
   "cell_type": "code",
   "execution_count": 194,
   "metadata": {},
   "outputs": [],
   "source": [
    "# pelanggan yang hilang \n",
    "\n",
    "Cust_lost = RFM_Segment[RFM_Segment['RFMClass']=='111'].sort_values('Recency',ascending=False)"
   ]
  },
  {
   "cell_type": "code",
   "execution_count": 195,
   "metadata": {},
   "outputs": [],
   "source": [
    "df_lost = pd.merge(df_RFM, Cust_lost, on='ID', how='inner')"
   ]
  },
  {
   "cell_type": "code",
   "execution_count": 196,
   "metadata": {},
   "outputs": [
    {
     "data": {
      "text/plain": [
       "143"
      ]
     },
     "execution_count": 196,
     "metadata": {},
     "output_type": "execute_result"
    }
   ],
   "source": [
    "len(df_lost)"
   ]
  },
  {
   "cell_type": "code",
   "execution_count": 197,
   "metadata": {},
   "outputs": [
    {
     "data": {
      "text/plain": [
       "Lower        60.14\n",
       "Middle       38.46\n",
       "UltraRich     1.40\n",
       "Name: Class_Income, dtype: float64"
      ]
     },
     "execution_count": 197,
     "metadata": {},
     "output_type": "execute_result"
    }
   ],
   "source": [
    "Persen_class_income = (df_lost['Class_Income'].value_counts(normalize=True) * 100).round(2)\n",
    "Persen_class_income"
   ]
  },
  {
   "cell_type": "code",
   "execution_count": 198,
   "metadata": {},
   "outputs": [
    {
     "name": "stdout",
     "output_type": "stream",
     "text": [
      "Berdasarkan hasil analisis RFM untuk customers yang hilang mempunyai jumlah total 143 customers yang terdiri dari kelompok income\n",
      "paling banyak didominasi oleh kelompok income Lower dengan total 60.14 %\n",
      "selanjutnya oleh kelompok income Middle dengan total 38.46 %\n",
      "dan terakhir oleh kelompok income UltraRich dengan total 1.4 %\n"
     ]
    }
   ],
   "source": [
    "print(f'Berdasarkan hasil analisis RFM untuk customers yang hilang mempunyai jumlah total {len(df_lost)} customers yang terdiri dari kelompok income')\n",
    "print(f'paling banyak didominasi oleh kelompok income {Persen_class_income.index[0]} dengan total {Persen_class_income[0]} %')\n",
    "print(f'selanjutnya oleh kelompok income {Persen_class_income.index[1]} dengan total {Persen_class_income[1]} %')\n",
    "print(f'dan terakhir oleh kelompok income {Persen_class_income.index[2]} dengan total {Persen_class_income[2]} %')"
   ]
  },
  {
   "attachments": {},
   "cell_type": "markdown",
   "metadata": {},
   "source": [
    "### pelanggan setia"
   ]
  },
  {
   "cell_type": "code",
   "execution_count": 199,
   "metadata": {},
   "outputs": [],
   "source": [
    "# pelanggan setia\n",
    "\n",
    "Cust_loyal = RFM_Segment[RFM_Segment['F_Quartile'] >= 3 ].sort_values('monetary_value', ascending=False)"
   ]
  },
  {
   "cell_type": "code",
   "execution_count": 200,
   "metadata": {},
   "outputs": [],
   "source": [
    "df_loyal = pd.merge(df_RFM, Cust_loyal, on='ID', how='inner')"
   ]
  },
  {
   "cell_type": "code",
   "execution_count": 201,
   "metadata": {},
   "outputs": [
    {
     "data": {
      "text/plain": [
       "1106"
      ]
     },
     "execution_count": 201,
     "metadata": {},
     "output_type": "execute_result"
    }
   ],
   "source": [
    "len(df_loyal)"
   ]
  },
  {
   "cell_type": "code",
   "execution_count": 202,
   "metadata": {},
   "outputs": [
    {
     "data": {
      "text/plain": [
       "Middle       50.63\n",
       "Upper        47.92\n",
       "Lower         1.18\n",
       "UltraRich     0.27\n",
       "Name: Class_Income, dtype: float64"
      ]
     },
     "execution_count": 202,
     "metadata": {},
     "output_type": "execute_result"
    }
   ],
   "source": [
    "Persen_class_income = (df_loyal['Class_Income'].value_counts(normalize=True) * 100).round(2)\n",
    "Persen_class_income"
   ]
  },
  {
   "cell_type": "code",
   "execution_count": 203,
   "metadata": {},
   "outputs": [
    {
     "name": "stdout",
     "output_type": "stream",
     "text": [
      "Berdasarkan hasil analisis RFM untuk customers loyal mempunyai jumlah total 1106 customers yang terdiri dari kelompok income\n",
      "paling banyak didominasi oleh kelompok income Middle dengan total 50.63 %\n",
      "selanjutnya oleh kelompok income Upper dengan total 47.92 %\n",
      "kemudian oleh kelompok income Lower dengan total 1.18 %\n",
      "dan terakhir oleh kelompok income UltraRich dengan total 0.27 %\n"
     ]
    }
   ],
   "source": [
    "print(f'Berdasarkan hasil analisis RFM untuk customers loyal mempunyai jumlah total {len(df_loyal)} customers yang terdiri dari kelompok income')\n",
    "print(f'paling banyak didominasi oleh kelompok income {Persen_class_income.index[0]} dengan total {Persen_class_income[0]} %')\n",
    "print(f'selanjutnya oleh kelompok income {Persen_class_income.index[1]} dengan total {Persen_class_income[1]} %')\n",
    "print(f'kemudian oleh kelompok income {Persen_class_income.index[2]} dengan total {Persen_class_income[2]} %')\n",
    "print(f'dan terakhir oleh kelompok income {Persen_class_income.index[3]} dengan total {Persen_class_income[3]} %')"
   ]
  },
  {
   "attachments": {},
   "cell_type": "markdown",
   "metadata": {},
   "source": [
    "# Conclusion"
   ]
  },
  {
   "attachments": {},
   "cell_type": "markdown",
   "metadata": {},
   "source": [
    "**Berdasarkan kesimpulan dari EDA (Exploratory Data Analysis) pada bagian people**\n",
    "\n",
    "- produk yang paling banyak dibeli oleh customers adalah produk **wines** kemuadian produk **Meat**. sedangkan produk sweet dan fruit paling sedikit di beli.\n",
    "- kesimpulan bahwa basis customers dengan income **upper** dan **middle** sangat berpengaruh terhadap penjualan.\n",
    "- **Product yang sering di beli segment upper dan middle adalah wine product kemudian meat product**\n",
    "\n",
    "    1. selama 2 tahun terakhir kelompok **upper** berbelanja dengan total 761.032 item produk dengan rincian pembelian terbanyak produk wines dengan total 359.449 piece. kemudian produk yang sering dibeli kedua adalah produk meat dengan total 240.260 piece. \n",
    "    2. selama 2 tahun terakhir kelompok **Middle** berbelanja dengan total 544.893 item produk dengan rincian pembelian terbanyak produk wines dengan total 308.907 piece. kemudian produk yang sering dibeli kedua adalah produk meat dengan total 116.039 piece.\n",
    "    \n",
    "\n",
    "    <br>\n",
    "- **berikut informasi karakteristik dari customers dengan kelompok income Upper dan Middle:**\n",
    "    <br>\n",
    "\n",
    "    1. berdasarkan customers dengan segment **income Upper** mempunyai karakteristik dominan seperti: \n",
    "    customers segment income Upper paling banyak pada generasi Boomers dengan total 38.78 %.\n",
    "    kemudian untuk tingkat pendidikan paling banyak pada tingkat pendididkan Bachelor dengan total 54.76 %.\n",
    "    kemudian pada kepemilikan anak paling banyak kepemilikan No Child dengan total 69.48 %.\n",
    "    dan pada status Married dengan total 37.52 %\n",
    "\n",
    "    2. berdasarkan customers dengan segment **income Middle** mempunyai karakteristik dominan seperti: \n",
    "    customers segment income Middle paling banyak pada generasi X dengan total 40.38 %.\n",
    "    kemudian untuk tingkat pendidikan paling banyak pada tingkat pendididkan Bachelor dengan total 47.36 %.\n",
    "    kemudian pada kepemilikan anak paling banyak kepemilikan Teen dengan total 44.05 %.\n",
    "    dan pada status Married dengan total 39.21 %\n",
    "\n",
    "\n"
   ]
  },
  {
   "attachments": {},
   "cell_type": "markdown",
   "metadata": {},
   "source": [
    "**Berdasarkan kesimpulan dari EDA (Exploratory Data Analysis) pada bagian Place Purchases**\n",
    "- Transaksi place purchase menunjukan bahwa seseorang sering melakukan belanja di store dengan total 12970 transaksi. sedangkan di website dengan total 9150 transaksi. dan catalog dengan 5963 transaksi.\n",
    "- bahwa segment kelompok upper lebih suka berbelanja di store dan website dibandingan catalog dan website.\n",
    "- sedangkan pada segment kelompok middle lebih suka berbelanja di Store. kemuadian berbelanja di website.\n",
    "- menunjukan bahwa rata-rata dalam 1 transaksi kelompok income upper dapat membeli 73 piece. sedangkan kelompok income Middle dapat membeli 33 piece dalam 1 kali transaksi.\n",
    "- berdasarakan table diatas menunjukan rata-rata daya beli tertinggi pada kelompok upper dengan 2 unit product perharinya\n",
    "- sedangkan daya beli terendah pada kelompok lower "
   ]
  },
  {
   "attachments": {},
   "cell_type": "markdown",
   "metadata": {},
   "source": [
    "**Berdasarkan kesimpulan dari EDA (Exploratory Data Analysis) pada bagian Promotion**\n",
    "\n",
    "- pemeberian deals (diskon) tidak berpengaruh terhadap penjualan/ sales. karena korelasinya mendekati 0\n",
    "- sedangkan dari Korelasi total campaing terhadap total buy ternyata korelasinya sedang (antara 0.3 -.07)\n",
    "- dari tabel 'Effectiveness Acceptance Campaign Ratio' bahwa campaiign secara keseluruhan efektivitasnya cukup rendah.\n",
    "<br><br>\n",
    "-  dari table 'Total of Acceptance Campaign per segment Income Class' bahwa segment class income upper menerima campaign paling banyak secara keseluruhan. terutama pada campaign ke 5 dan last campaign.\n",
    "- pada class income middle campaign terbanyak yang diterima adalah last campaign \n",
    " \n"
   ]
  },
  {
   "attachments": {},
   "cell_type": "markdown",
   "metadata": {},
   "source": [
    "**Berdasarkan kesimpulan dari RFM analisis (Recency, Frequency, Monetary values)**\n",
    "\n",
    "\n",
    "- Berdasarkan hasil analisis RFM untuk **customers diambang Churn**(customers berhenti berlangganan) mempunyai jumlah total 1118 customers yang terdiri dari kelompok income\n",
    "paling banyak didominasi oleh kelompok income Middle dengan total 51.43 %\n",
    "selanjutnya oleh kelompok income Upper dengan total 24.69 %\n",
    "kemudian oleh kelompok income Lower dengan total 23.61 %\n",
    "dan terakhir oleh kelompok income UltraRich dengan total 0.27 %\n",
    "    - dari data diatas menunjukan bahwa bahwa rata-rata acceptence campaing di slass income miiddle hampir tidak pernah menerima campaign\n",
    "    - pada kelompok upper hanya menerima 1 kali campaign. padahal kelompok upper dan middle adalah kelompok dengan pembelian terbesar.\n",
    "    <br><br>\n"
   ]
  },
  {
   "attachments": {},
   "cell_type": "markdown",
   "metadata": {},
   "source": [
    "# Recommendation"
   ]
  },
  {
   "attachments": {},
   "cell_type": "markdown",
   "metadata": {},
   "source": [
    "link BMC:\n",
    "<br>\n",
    "https://drive.google.com/file/d/1g_AnqZub58Wu8f7S5FlSFYKj7WBZyG0p/view?usp=sharing"
   ]
  },
  {
   "attachments": {},
   "cell_type": "markdown",
   "metadata": {},
   "source": [
    "1. Customer Segments\n",
    "    - Pelanggan yang berada di ambang churn (berhenti berlangganan/menggunakan layanan) pada kelas Income **Upper dan Middle**. Karena 2 kelas income ini sanggat berkontribusi terhadap penjualan selama 2 tahun terakhir.\n",
    "2. Value Propositions\n",
    "    - **Menyediakan berbagai daily consumer product yang selalu tersedia khususnya product wines dan meat dengan penawaran -penawaran yang menarik serta memberikan kenyamanan berbelanja kepada konsumen**.\n",
    "3. Customer Relationships\n",
    "    - Campaign Ke customer churn dengan kelas income middle dan upper. Karena dari data bahwa kelas **middle** hampir tidak pernah menerima campaign\n",
    "4. Channels  \n",
    "    - konsumen kelas Upper dan Middle lebih suka berbelanja di **Store**. Kemuadian pada media belanja di **website** kualitas layanan bisa lebih ditingkatkan karena pada kelas middle transaksinya di website paling tinggi dibandingkan kelas lainya.\n",
    "5. Key Activities\n",
    "    - Tim marketing lebih **aware** terhadap customers churn pada kelas **middle dan Upper**. Dengan memberikan campaign yang lebih intensif.Inventory control terhadap produk2 yang produk2 yang sering dibeli terutama produk **Wines dan Meat**.\n",
    "6. Key Partners\n",
    "    - Supplier product yang menyediakan produk dengan kwalitas baik.\n",
    "    - Mencari agency campaign yang lebih baik karena efektivitas penerimaan campaing kepada customers masih rendah.\n",
    "7. Key Resources\n",
    "    - Human resources marketing yang handal\n",
    "    - Storage and distribution system.\n",
    "8. Revenue Streams\n",
    "    - menjual produk konsumen sehari-hari (selling daily consumer product)\n",
    "9. Cost Structure\n",
    "    -\tBiaya oprasional\n",
    "    -\tBiaya diskon yang diberikan\n",
    "    -\tBiaya campaig  \n",
    "    -\tBiaya depresiasi dan amortisasi supermarket.\n"
   ]
  }
 ],
 "metadata": {
  "kernelspec": {
   "display_name": "base",
   "language": "python",
   "name": "python3"
  },
  "language_info": {
   "codemirror_mode": {
    "name": "ipython",
    "version": 3
   },
   "file_extension": ".py",
   "mimetype": "text/x-python",
   "name": "python",
   "nbconvert_exporter": "python",
   "pygments_lexer": "ipython3",
   "version": "3.9.13"
  },
  "orig_nbformat": 4
 },
 "nbformat": 4,
 "nbformat_minor": 2
}
